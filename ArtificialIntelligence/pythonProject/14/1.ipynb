{
 "cells": [
  {
   "cell_type": "code",
   "execution_count": null,
   "id": "initial_id",
   "metadata": {
    "collapsed": true,
    "ExecuteTime": {
     "end_time": "2024-05-29T07:06:53.085236Z",
     "start_time": "2024-05-29T07:06:53.079929Z"
    }
   },
   "outputs": [],
   "source": []
  },
  {
   "cell_type": "code",
   "outputs": [],
   "source": [
    "import os\n",
    "import jieba\n",
    "\n",
    "def load_emails(folder_path):\n",
    "    emails = []\n",
    "    for filename in os.listdir(folder_path):\n",
    "        if filename.endswith('.txt'):\n",
    "            with open(os.path.join(folder_path, filename), 'r', encoding='utf-8') as file:\n",
    "                content = file.read()\n",
    "                words = jieba.lcut(content)\n",
    "                emails.append(words)\n",
    "    return emails\n",
    "\n",
    "folder_path = 'email-text'\n",
    "emails = load_emails(folder_path)\n"
   ],
   "metadata": {
    "collapsed": false
   },
   "id": "d6b6b1c9e1176d60"
  },
  {
   "cell_type": "code",
   "outputs": [],
   "source": [],
   "metadata": {
    "collapsed": false
   },
   "id": "30110557a581d2a9"
  },
  {
   "cell_type": "code",
   "outputs": [],
   "source": [
    "from sklearn.feature_extraction.text import CountVectorizer\n",
    "\n",
    "def get_top_words(emails, top_n=600):\n",
    "    vectorizer = CountVectorizer(max_features=top_n, token_pattern=r'(?u)\\b\\w+\\b')\n",
    "    all_words = [' '.join(email) for email in emails]\n",
    "    vectorizer.fit(all_words)\n",
    "    top_words = vectorizer.get_feature_names_out()\n",
    "    return top_words, vectorizer\n",
    "\n",
    "top_words, vectorizer = get_top_words(emails)\n",
    "\n",
    "def get_feature_vectors(emails, vectorizer):\n",
    "    all_words = [' '.join(email) for email in emails]\n",
    "    feature_vectors = vectorizer.transform(all_words).toarray()\n",
    "    return feature_vectors\n",
    "\n",
    "feature_vectors = get_feature_vectors(emails, vectorizer)\n"
   ],
   "metadata": {
    "collapsed": false
   },
   "id": "fdf65baf255449b0"
  },
  {
   "cell_type": "markdown",
   "source": [],
   "metadata": {
    "collapsed": false
   },
   "id": "e7a867b548327d09"
  },
  {
   "cell_type": "code",
   "outputs": [],
   "source": [
    "from numpy import array\n",
    "\n",
    "labels = array([1]*127 +[0]*24) #\n"
   ],
   "metadata": {
    "collapsed": false,
    "is_executing": true
   },
   "id": "f3551b17f4d3a371"
  },
  {
   "cell_type": "code",
   "outputs": [],
   "source": [
    "from sklearn.naive_bayes import MultinomialNB\n",
    "from sklearn.model_selection import train_test_split\n",
    "import joblib\n",
    "\n",
    "# 划分训练集和测试集\n",
    "X_train, X_test, y_train, y_test = train_test_split(feature_vectors, labels, test_size=0.2, random_state=42)\n",
    "\n",
    "# 创建并训练模型\n",
    "model = MultinomialNB()\n",
    "model.fit(X_train, y_train)\n",
    "\n",
    "# 保存模型和前600个单词\n",
    "joblib.dump(model, 'email_classifier_model.pkl')\n",
    "joblib.dump(top_words, 'top_600_words.pkl')\n"
   ],
   "metadata": {
    "collapsed": false
   },
   "id": "c9fdabde0334beb6"
  },
  {
   "cell_type": "code",
   "outputs": [],
   "source": [
    "# 加载模型和前600个单词\n",
    "model = joblib.load('email_classifier_model.pkl')\n",
    "top_words = joblib.load('top_600_words.pkl')\n",
    "vectorizer = CountVectorizer(vocabulary=top_words, token_pattern=r'(?u)\\b\\w+\\b')\n",
    "\n",
    "def load_test_emails(folder_path):\n",
    "    test_emails = load_emails(folder_path)\n",
    "    return test_emails\n",
    "\n",
    "test_folder_path = 'path/to/test/email/folder'\n",
    "test_emails = load_test_emails(test_folder_path)\n",
    "test_feature_vectors = get_feature_vectors(test_emails, vectorizer)\n",
    "\n",
    "# 进行预测\n",
    "predictions = model.predict(test_feature_vectors)\n"
   ],
   "metadata": {
    "collapsed": false
   },
   "id": "fbcdfc00001054c9"
  },
  {
   "cell_type": "code",
   "outputs": [],
   "source": [
    "from sklearn.metrics import accuracy_score, precision_score, roc_auc_score\n",
    "\n",
    "def evaluate_model(y_true, y_pred):\n",
    "    accuracy = accuracy_score(y_true, y_pred)\n",
    "    precision = precision_score(y_true, y_pred)\n",
    "    # 对于二分类问题\n",
    "    auc = roc_auc_score(y_true, y_pred)\n",
    "    return accuracy, precision, auc\n",
    "\n",
    "test_labels_file = 'path/to/test/label/file.txt'\n",
    "test_labels = load_labels(test_labels_file)\n",
    "\n",
    "accuracy, precision, auc = evaluate_model(test_labels, predictions)\n",
    "print(f'Accuracy: {accuracy:.2f}')\n",
    "print(f'Precision: {precision:.2f}')\n",
    "print(f'AUC: {auc:.2f}')\n"
   ],
   "metadata": {
    "collapsed": false
   },
   "id": "256dc4b6cf4635df"
  }
 ],
 "metadata": {
  "kernelspec": {
   "display_name": "Python 3",
   "language": "python",
   "name": "python3"
  },
  "language_info": {
   "codemirror_mode": {
    "name": "ipython",
    "version": 2
   },
   "file_extension": ".py",
   "mimetype": "text/x-python",
   "name": "python",
   "nbconvert_exporter": "python",
   "pygments_lexer": "ipython2",
   "version": "2.7.6"
  }
 },
 "nbformat": 4,
 "nbformat_minor": 5
}
