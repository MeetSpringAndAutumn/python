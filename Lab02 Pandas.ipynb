{
 "cells": [
  {
   "cell_type": "markdown",
   "metadata": {},
   "source": [
    "#### 导入包"
   ]
  },
  {
   "cell_type": "code",
   "execution_count": 2,
   "metadata": {},
   "outputs": [],
   "source": [
    "#大多数情况下，pandas都会配合numpy一起使用，用于对数据进行运算处理\n",
    "import numpy as np\n",
    "import pandas as pd\n",
    "from pandas import Series, DataFrame"
   ]
  },
  {
   "cell_type": "markdown",
   "metadata": {},
   "source": [
    "Pandas是Python数据分析重要的库，而Series和DataFrame是Pandas中两个重要的数据结构"
   ]
  },
  {
   "cell_type": "markdown",
   "metadata": {},
   "source": [
    "#### 4.1 Series对象"
   ]
  },
  {
   "cell_type": "markdown",
   "metadata": {},
   "source": [
    "Series类似一维数组，是由一组数据以及与这组数据相关的标签（即索引）组成"
   ]
  },
  {
   "cell_type": "markdown",
   "metadata": {},
   "source": [
    "pd.Series(data,index=index)\n",
    "- data: 表示数据，支持列表、字典、numpy数组、标量值\n",
    "- index: 表示标签（索引）"
   ]
  },
  {
   "cell_type": "code",
   "execution_count": 2,
   "metadata": {},
   "outputs": [
    {
     "name": "stdout",
     "output_type": "stream",
     "text": [
      "0    88\n",
      "1    60\n",
      "2    75\n",
      "dtype: int64\n"
     ]
    }
   ],
   "source": [
    "s1=pd.Series([88,60,75])\n",
    "print(s1)"
   ]
  },
  {
   "cell_type": "code",
   "execution_count": 3,
   "metadata": {},
   "outputs": [
    {
     "name": "stdout",
     "output_type": "stream",
     "text": [
      "[88, 60, 75]\n"
     ]
    }
   ],
   "source": [
    "print([88,60,75])"
   ]
  },
  {
   "cell_type": "code",
   "execution_count": 4,
   "metadata": {},
   "outputs": [
    {
     "name": "stdout",
     "output_type": "stream",
     "text": [
      "1    88\n",
      "2    60\n",
      "3    75\n",
      "dtype: int64\n",
      "小明    90\n",
      "小王    78\n",
      "小芳    82\n",
      "dtype: int64\n"
     ]
    }
   ],
   "source": [
    "#手动设置索引\n",
    "s1=pd.Series([88,60,75],index=[1,2,3])\n",
    "s2=pd.Series([90,78,82],index=['小明','小王','小芳'])\n",
    "print(s1)\n",
    "print(s2)"
   ]
  },
  {
   "cell_type": "markdown",
   "metadata": {},
   "source": [
    "#### 索引"
   ]
  },
  {
   "cell_type": "code",
   "execution_count": 5,
   "metadata": {},
   "outputs": [
    {
     "name": "stdout",
     "output_type": "stream",
     "text": [
      "1    88\n",
      "2    60\n",
      "3    75\n",
      "dtype: int64\n",
      "s3.shape= (3,)\n",
      "s3.index= RangeIndex(start=0, stop=3, step=1)\n",
      "s3.values= [100 'gduf' 'Guangzhou']\n"
     ]
    }
   ],
   "source": [
    "s3=pd.Series([100,'gduf','Guangzhou'])\n",
    "#输出s1的shape，index和values的值\n",
    "print(s1)\n",
    "print('s3.shape=',s3.shape)\n",
    "print('s3.index=',s3.index)\n",
    "print('s3.values=',s3.values)"
   ]
  },
  {
   "cell_type": "code",
   "execution_count": 6,
   "metadata": {},
   "outputs": [
    {
     "name": "stdout",
     "output_type": "stream",
     "text": [
      "mark                100\n",
      "University         gduf\n",
      "city          Guangzhou\n",
      "dtype: object\n",
      "s4.shape= (3,)\n",
      "s4.index= Index(['mark', 'University', 'city'], dtype='object')\n",
      "s4.values= [100 'gduf' 'Guangzhou']\n",
      "s4[\"mark\"]= 100\n"
     ]
    }
   ],
   "source": [
    "s4=pd.Series([100,'gduf','Guangzhou'],index=['mark','University','city'])\n",
    "#输出s的shape，index和values的值\n",
    "print(s4)\n",
    "print('s4.shape=',s4.shape)\n",
    "print('s4.index=',s4.index)\n",
    "print('s4.values=',s4.values)\n",
    "#使用主动设置的索引项来访问元素，注意单引号与双引号的使用\n",
    "print('s4[\"mark\"]=',s4['mark'])"
   ]
  },
  {
   "cell_type": "code",
   "execution_count": 7,
   "metadata": {},
   "outputs": [
    {
     "name": "stdout",
     "output_type": "stream",
     "text": [
      "88\n",
      "明日同学    88\n",
      "七月流火    75\n",
      "dtype: int64\n"
     ]
    }
   ],
   "source": [
    "import pandas as pd \n",
    "s1=pd.Series([88,60,75],index=['明日同学','高同学','七月流火'])\n",
    "print(s1['明日同学'])\n",
    "print(s1[['明日同学','七月流火']])"
   ]
  },
  {
   "cell_type": "markdown",
   "metadata": {},
   "source": [
    "切片"
   ]
  },
  {
   "cell_type": "code",
   "execution_count": 8,
   "metadata": {},
   "outputs": [
    {
     "name": "stdout",
     "output_type": "stream",
     "text": [
      "s5=\n",
      " 0    88\n",
      "1    60\n",
      "2    75\n",
      "3    34\n",
      "4    68\n",
      "dtype: int64\n"
     ]
    }
   ],
   "source": [
    "s5=pd.Series([88,60,75,34,68])\n",
    "print('s5=\\n',s5)"
   ]
  },
  {
   "cell_type": "code",
   "execution_count": 9,
   "metadata": {},
   "outputs": [
    {
     "name": "stdout",
     "output_type": "stream",
     "text": [
      "1    60\n",
      "2    75\n",
      "3    34\n",
      "dtype: int64\n"
     ]
    }
   ],
   "source": [
    "print(s5[1:4])"
   ]
  },
  {
   "cell_type": "code",
   "execution_count": 10,
   "metadata": {},
   "outputs": [
    {
     "name": "stdout",
     "output_type": "stream",
     "text": [
      "0    88\n",
      "1    60\n",
      "2    75\n",
      "dtype: int64\n"
     ]
    }
   ],
   "source": [
    "print(s5[:3])"
   ]
  },
  {
   "cell_type": "markdown",
   "metadata": {},
   "source": [
    "#### 4.2 DataFrame对象"
   ]
  },
  {
   "cell_type": "markdown",
   "metadata": {},
   "source": [
    "DataFrame是由行列数据组成的二维表数据结构，既有行索引也有列索引"
   ]
  },
  {
   "cell_type": "markdown",
   "metadata": {},
   "source": [
    "pandas.DataFrame(data,index,columns)\n",
    "- data:表示数据，可以是ndarray数组、series对象、列表、字典等\n",
    "- index：表示行标签（索引）\n",
    "- columns：表示列标签（索引）"
   ]
  },
  {
   "cell_type": "markdown",
   "metadata": {},
   "source": [
    "通过列表创建DataFrame"
   ]
  },
  {
   "cell_type": "code",
   "execution_count": 5,
   "metadata": {},
   "outputs": [
    {
     "name": "stdout",
     "output_type": "stream",
     "text": [
      "   语文  数学  英语\n",
      "0   110   105    99\n",
      "1   105    88   115\n",
      "2   109   120   130\n"
     ]
    }
   ],
   "source": [
    "#解决数据输出时列名不对齐的问题\n",
    "pd.set_option('display.unicode.east_asian_width', True)\n",
    "data=[[110,105,99],[105,88,115],[109,120,130]]\n",
    "index=[0,1,2]\n",
    "columns=['语文','数学','英语']\n",
    "#创建DataFrame\n",
    "df=pd.DataFrame(data=data, index=index,columns=columns)\n",
    "print(df)"
   ]
  },
  {
   "cell_type": "code",
   "execution_count": 12,
   "metadata": {},
   "outputs": [
    {
     "name": "stdout",
     "output_type": "stream",
     "text": [
      "[[110, 105, 99], [105, 88, 115], [109, 120, 130]]\n"
     ]
    }
   ],
   "source": [
    "print(data)"
   ]
  },
  {
   "cell_type": "code",
   "execution_count": 13,
   "metadata": {},
   "outputs": [
    {
     "name": "stdout",
     "output_type": "stream",
     "text": [
      "[[110 105  99]\n",
      " [105  88 115]\n",
      " [109 120 130]]\n"
     ]
    }
   ],
   "source": [
    "arr=np.array(data)\n",
    "print(arr)"
   ]
  },
  {
   "cell_type": "code",
   "execution_count": 14,
   "metadata": {},
   "outputs": [
    {
     "name": "stdout",
     "output_type": "stream",
     "text": [
      "<class 'pandas.core.frame.DataFrame'>\n"
     ]
    }
   ],
   "source": [
    "print(type(df))"
   ]
  },
  {
   "cell_type": "code",
   "execution_count": 15,
   "metadata": {},
   "outputs": [
    {
     "name": "stdout",
     "output_type": "stream",
     "text": [
      "<class 'numpy.ndarray'>\n"
     ]
    }
   ],
   "source": [
    "print(type(arr))"
   ]
  },
  {
   "cell_type": "code",
   "execution_count": 16,
   "metadata": {},
   "outputs": [
    {
     "name": "stdout",
     "output_type": "stream",
     "text": [
      "   语文  数学  英语\n",
      "0   110   105    99\n",
      "1   105    88   115\n",
      "2   109   120   130\n"
     ]
    }
   ],
   "source": [
    "print(df)"
   ]
  },
  {
   "cell_type": "code",
   "execution_count": 17,
   "metadata": {},
   "outputs": [
    {
     "name": "stdout",
     "output_type": "stream",
     "text": [
      "Index(['语文', '数学', '英语'], dtype='object')\n"
     ]
    }
   ],
   "source": [
    "print(df.columns)"
   ]
  },
  {
   "cell_type": "code",
   "execution_count": 4,
   "metadata": {},
   "outputs": [
    {
     "ename": "NameError",
     "evalue": "name 'df' is not defined",
     "output_type": "error",
     "traceback": [
      "\u001b[1;31m---------------------------------------------------------------------------\u001b[0m",
      "\u001b[1;31mNameError\u001b[0m                                 Traceback (most recent call last)",
      "\u001b[1;32md:\\qq文件\\lab02 pandas.ipynb 单元格 29\u001b[0m line \u001b[0;36m<cell line: 1>\u001b[1;34m()\u001b[0m\n\u001b[1;32m----> <a href='vscode-notebook-cell:/d%3A/qq%E6%96%87%E4%BB%B6/lab02%20pandas.ipynb#X40sZmlsZQ%3D%3D?line=0'>1</a>\u001b[0m df[\u001b[39m'\u001b[39m\u001b[39m数学\u001b[39m\u001b[39m'\u001b[39m]\n",
      "\u001b[1;31mNameError\u001b[0m: name 'df' is not defined"
     ]
    }
   ],
   "source": [
    "df['数学']"
   ]
  },
  {
   "cell_type": "code",
   "execution_count": 6,
   "metadata": {},
   "outputs": [
    {
     "name": "stdout",
     "output_type": "stream",
     "text": [
      "0    110\n",
      "1    105\n",
      "2    109\n",
      "Name: 语文, dtype: int64\n",
      "0    105\n",
      "1     88\n",
      "2    120\n",
      "Name: 数学, dtype: int64\n",
      "0     99\n",
      "1    115\n",
      "2    130\n",
      "Name: 英语, dtype: int64\n"
     ]
    }
   ],
   "source": [
    "#遍历df中的每一列\n",
    "for col in df.columns:\n",
    "    series=df[col]\n",
    "    print(series)"
   ]
  },
  {
   "cell_type": "markdown",
   "metadata": {},
   "source": [
    "通过字典创建DataFrame"
   ]
  },
  {
   "cell_type": "code",
   "execution_count": 20,
   "metadata": {},
   "outputs": [
    {
     "name": "stdout",
     "output_type": "stream",
     "text": [
      "   语文  数学  英语     班级\n",
      "0   110   105   109  高一6班\n",
      "1   105    88   120  高一6班\n",
      "2    99  1105   130  高一6班\n"
     ]
    }
   ],
   "source": [
    "pd.set_option('display.unicode.east_asian_width', True)\n",
    "data={'语文':[110,105,99],\n",
    "      '数学':[105,88,1105],\n",
    "      '英语':[109,120,130],\n",
    "      '班级':'高一6班'}\n",
    "index=[0,1,2]\n",
    "#创建DataFrame\n",
    "df=pd.DataFrame(data=data, index=index)\n",
    "print(df)"
   ]
  },
  {
   "cell_type": "code",
   "execution_count": 21,
   "metadata": {},
   "outputs": [
    {
     "name": "stdout",
     "output_type": "stream",
     "text": [
      "字典data:\n",
      "{'name': ['Python', 'Java', 'C++'], 'score': [95, 85, 95], 'year': [2018, 2017, 2016]}\n",
      "DataFrame s3:\n",
      "     name  score  year\n",
      "0  Python     95  2018\n",
      "1    Java     85  2017\n",
      "2     C++     95  2016\n",
      "s3.shape= (3, 3)\n",
      "s3.index= RangeIndex(start=0, stop=3, step=1)\n",
      "s3.values=\n",
      " [['Python' 95 2018]\n",
      " ['Java' 85 2017]\n",
      " ['C++' 95 2016]]\n"
     ]
    }
   ],
   "source": [
    "#通过字典data来构造二维表s3\n",
    "data = {'name':['Python','Java','C++'], \n",
    "                'score':[95,85,95], \n",
    "                'year':[2018, 2017, 2016]} \n",
    "print('字典data:')\n",
    "print(data)\n",
    "s3 = DataFrame(data)\n",
    "print('DataFrame s3:')\n",
    "print(s3)\n",
    "print('s3.shape=',s3.shape)\n",
    "print('s3.index=',s3.index)\n",
    "print('s3.values=\\n',s3.values)"
   ]
  },
  {
   "cell_type": "code",
   "execution_count": 22,
   "metadata": {},
   "outputs": [
    {
     "name": "stdout",
     "output_type": "stream",
     "text": [
      "df:\n",
      "                   A         B         C\n",
      "2018-07-25  0.966168 -1.213519 -0.904452\n",
      "2018-07-26  0.056631 -0.981853  0.551567\n",
      "2018-07-27  1.861576  0.460298 -0.102658\n",
      "2018-07-28 -2.230507 -0.471772 -2.300363\n",
      "2018-07-29  0.681612  0.897038 -0.057334\n",
      "2018-07-30  1.991352 -0.204737  0.482795\n"
     ]
    }
   ],
   "source": [
    "#生成一个6*3列的DataFrame df\n",
    "#以日期为主索引，从20180725开始，往后6天\n",
    "dates=pd.date_range('20180725',periods=6)\n",
    "#生成6行3列的随机二维DataFrame\n",
    "#使用日期作为行索引，列名为A，B，C\n",
    "df = pd.DataFrame(np.random.randn(6,3), index=dates, columns=['A','B','C',])\n",
    "print('df:')\n",
    "print(df)"
   ]
  },
  {
   "cell_type": "code",
   "execution_count": 23,
   "metadata": {},
   "outputs": [
    {
     "name": "stdout",
     "output_type": "stream",
     "text": [
      "构造新的DataFrame:\n",
      "df_1:\n",
      "     A          B    C  D      E    F\n",
      "0  1.0 2018-03-10  1.0  3   test  foo\n",
      "1  1.0 2018-03-10  1.0  3  train  foo\n",
      "2  1.0 2018-03-10  1.0  3   test  foo\n",
      "3  1.0 2018-03-10  1.0  3  train  foo\n",
      "各列数据类型:\n",
      "A           float64\n",
      "B    datetime64[ns]\n",
      "C           float32\n",
      "D             int32\n",
      "E          category\n",
      "F            object\n",
      "dtype: object\n"
     ]
    }
   ],
   "source": [
    "#创建特定数据的DataFrame\n",
    "print('构造新的DataFrame:')\n",
    "df_1=pd.DataFrame({'A' : 1.,\n",
    "                    'B' : pd.Timestamp('20180310'),\n",
    "                    'C' : pd.Series(1,index=list(range(4)),dtype='float32'),\n",
    "                    'D' : np.array([3] * 4,dtype='int32'),\n",
    "                    'E' : pd.Categorical([\"test\",\"train\",\"test\",\"train\"]),\n",
    "                    'F' : 'foo'\n",
    "                    })\n",
    "print('df_1:')\n",
    "print(df_1)\n",
    "print('各列数据类型:')\n",
    "print(df_1.dtypes)"
   ]
  },
  {
   "cell_type": "markdown",
   "metadata": {},
   "source": [
    "#### 数据描述"
   ]
  },
  {
   "cell_type": "code",
   "execution_count": 24,
   "metadata": {},
   "outputs": [
    {
     "name": "stdout",
     "output_type": "stream",
     "text": [
      "describe()函数输出计数count，均值mean，标准差std\n",
      "最小值min，25%，50%，75%分位数值，最大值max\n",
      "df_1.describe():\n",
      "         A    C    D\n",
      "count  4.0  4.0  4.0\n",
      "mean   1.0  1.0  3.0\n",
      "std    0.0  0.0  0.0\n",
      "min    1.0  1.0  3.0\n",
      "25%    1.0  1.0  3.0\n",
      "50%    1.0  1.0  3.0\n",
      "75%    1.0  1.0  3.0\n",
      "max    1.0  1.0  3.0\n"
     ]
    }
   ],
   "source": [
    "#数据描述\n",
    "print('describe()函数输出计数count，均值mean，标准差std')\n",
    "print('最小值min，25%，50%，75%分位数值，最大值max')\n",
    "print('df_1.describe():')\n",
    "print(df_1.describe())"
   ]
  },
  {
   "cell_type": "markdown",
   "metadata": {},
   "source": [
    "#### 数据抽取"
   ]
  },
  {
   "cell_type": "markdown",
   "metadata": {},
   "source": [
    "抽取部分数据，主要使用DataFrame对象中的loc属性和iloc属性  \n",
    "- loc属性：以列名或者行名作为参数\n",
    "- iloc属性：以行列位置索引作为参数"
   ]
  },
  {
   "cell_type": "code",
   "execution_count": 107,
   "metadata": {},
   "outputs": [
    {
     "name": "stdout",
     "output_type": "stream",
     "text": [
      "          语文  数学   英语\n",
      "明日       110   105   99.0\n",
      "七月流火   105    88  115.0\n",
      "高袁圆     109   120  130.0\n",
      "二月二     112   115    NaN\n"
     ]
    }
   ],
   "source": [
    "#解决数据输出时列名不对齐的问题\n",
    "pd.set_option('display.unicode.east_asian_width', True)\n",
    "data=[[110,105,99],[105,88,115],[109,120,130],[112,115]]\n",
    "name=['明日','七月流火','高袁圆','二月二']\n",
    "columns=['语文','数学','英语']\n",
    "#创建DataFrame\n",
    "df=pd.DataFrame(data=data, index=name,columns=columns)\n",
    "print(df)"
   ]
  },
  {
   "cell_type": "code",
   "execution_count": 108,
   "metadata": {},
   "outputs": [
    {
     "name": "stdout",
     "output_type": "stream",
     "text": [
      "          语文  数学   英语\n",
      "明日       110   105   99.0\n",
      "七月流火   105    88  115.0\n"
     ]
    }
   ],
   "source": [
    "print(df.loc[['明日','七月流火']])"
   ]
  },
  {
   "cell_type": "code",
   "execution_count": 109,
   "metadata": {},
   "outputs": [
    {
     "name": "stdout",
     "output_type": "stream",
     "text": [
      "          语文  数学   英语\n",
      "明日       110   105   99.0\n",
      "七月流火   105    88  115.0\n"
     ]
    }
   ],
   "source": [
    "print(df.iloc[0:2])"
   ]
  },
  {
   "cell_type": "code",
   "execution_count": 111,
   "metadata": {},
   "outputs": [
    {
     "name": "stdout",
     "output_type": "stream",
     "text": [
      "          语文  数学\n",
      "明日       110   105\n",
      "七月流火   105    88\n"
     ]
    }
   ],
   "source": [
    "print(df.loc[['明日','七月流火'],['语文','数学']])"
   ]
  },
  {
   "cell_type": "code",
   "execution_count": 113,
   "metadata": {},
   "outputs": [
    {
     "name": "stdout",
     "output_type": "stream",
     "text": [
      "          语文  数学\n",
      "明日       110   105\n",
      "七月流火   105    88\n"
     ]
    }
   ],
   "source": [
    "print(df.iloc[:2,:2])"
   ]
  },
  {
   "cell_type": "code",
   "execution_count": 26,
   "metadata": {},
   "outputs": [
    {
     "data": {
      "text/html": [
       "<div>\n",
       "<style scoped>\n",
       "    .dataframe tbody tr th:only-of-type {\n",
       "        vertical-align: middle;\n",
       "    }\n",
       "\n",
       "    .dataframe tbody tr th {\n",
       "        vertical-align: top;\n",
       "    }\n",
       "\n",
       "    .dataframe thead th {\n",
       "        text-align: right;\n",
       "    }\n",
       "</style>\n",
       "<table border=\"1\" class=\"dataframe\">\n",
       "  <thead>\n",
       "    <tr style=\"text-align: right;\">\n",
       "      <th></th>\n",
       "      <th>语文</th>\n",
       "    </tr>\n",
       "  </thead>\n",
       "  <tbody>\n",
       "    <tr>\n",
       "      <th>明日</th>\n",
       "      <td>110</td>\n",
       "    </tr>\n",
       "    <tr>\n",
       "      <th>七月流火</th>\n",
       "      <td>105</td>\n",
       "    </tr>\n",
       "    <tr>\n",
       "      <th>高袁圆</th>\n",
       "      <td>109</td>\n",
       "    </tr>\n",
       "    <tr>\n",
       "      <th>二月二</th>\n",
       "      <td>112</td>\n",
       "    </tr>\n",
       "  </tbody>\n",
       "</table>\n",
       "</div>"
      ],
      "text/plain": [
       "          语文\n",
       "明日       110\n",
       "七月流火   105\n",
       "高袁圆     109\n",
       "二月二     112"
      ]
     },
     "execution_count": 26,
     "metadata": {},
     "output_type": "execute_result"
    }
   ],
   "source": [
    "df.loc[:,['语文']]"
   ]
  },
  {
   "cell_type": "code",
   "execution_count": 110,
   "metadata": {},
   "outputs": [
    {
     "name": "stdout",
     "output_type": "stream",
     "text": [
      "语文    110.0\n",
      "数学    105.0\n",
      "英语     99.0\n",
      "Name: 明日, dtype: float64\n"
     ]
    }
   ],
   "source": [
    "print(df.loc['明日'])"
   ]
  },
  {
   "cell_type": "code",
   "execution_count": 28,
   "metadata": {},
   "outputs": [
    {
     "name": "stdout",
     "output_type": "stream",
     "text": [
      "        语文  数学  英语\n",
      "明日     110   105  99.0\n",
      "二月二   112   115   NaN\n"
     ]
    }
   ],
   "source": [
    "print(df.loc[['明日','二月二']])"
   ]
  },
  {
   "cell_type": "code",
   "execution_count": 29,
   "metadata": {},
   "outputs": [
    {
     "name": "stdout",
     "output_type": "stream",
     "text": [
      "        语文  数学  英语\n",
      "明日     110   105  99.0\n",
      "二月二   112   115   NaN\n"
     ]
    }
   ],
   "source": [
    "print(df.loc[['明日','二月二']])"
   ]
  },
  {
   "cell_type": "code",
   "execution_count": 30,
   "metadata": {},
   "outputs": [
    {
     "name": "stdout",
     "output_type": "stream",
     "text": [
      "          语文  数学   英语\n",
      "明日       110   105   99.0\n",
      "七月流火   105    88  115.0\n",
      "高袁圆     109   120  130.0\n",
      "二月二     112   115    NaN\n"
     ]
    }
   ],
   "source": [
    "print(df)"
   ]
  },
  {
   "cell_type": "code",
   "execution_count": 31,
   "metadata": {},
   "outputs": [
    {
     "name": "stdout",
     "output_type": "stream",
     "text": [
      "          语文  数学   英语\n",
      "七月流火   105    88  115.0\n",
      "高袁圆     109   120  130.0\n",
      "二月二     112   115    NaN\n"
     ]
    }
   ],
   "source": [
    "print(df.iloc[1:])"
   ]
  },
  {
   "cell_type": "code",
   "execution_count": 32,
   "metadata": {},
   "outputs": [
    {
     "name": "stdout",
     "output_type": "stream",
     "text": [
      "          语文  数学   英语\n",
      "明日       110   105   99.0\n",
      "七月流火   105    88  115.0\n",
      "高袁圆     109   120  130.0\n",
      "二月二     112   115    NaN\n"
     ]
    }
   ],
   "source": [
    "df=pd.DataFrame(data=data, index=name,columns=columns)\n",
    "print(df)"
   ]
  },
  {
   "cell_type": "code",
   "execution_count": 33,
   "metadata": {},
   "outputs": [
    {
     "name": "stdout",
     "output_type": "stream",
     "text": [
      "          数学   英语\n",
      "明日       105   99.0\n",
      "七月流火    88  115.0\n",
      "高袁圆     120  130.0\n"
     ]
    }
   ],
   "source": [
    "print(df.loc[['明日','七月流火','高袁圆'],['数学','英语']])"
   ]
  },
  {
   "cell_type": "code",
   "execution_count": 34,
   "metadata": {},
   "outputs": [
    {
     "name": "stdout",
     "output_type": "stream",
     "text": [
      "          语文\n",
      "明日       110\n",
      "七月流火   105\n",
      "高袁圆     109\n",
      "二月二     112\n"
     ]
    }
   ],
   "source": [
    "print(df.loc[:,['语文']])"
   ]
  },
  {
   "cell_type": "code",
   "execution_count": 35,
   "metadata": {},
   "outputs": [
    {
     "name": "stdout",
     "output_type": "stream",
     "text": [
      "          语文  数学\n",
      "明日       110   105\n",
      "七月流火   105    88\n",
      "高袁圆     109   120\n",
      "二月二     112   115\n"
     ]
    }
   ],
   "source": [
    "print(df.loc[:,['语文','数学']])"
   ]
  },
  {
   "cell_type": "code",
   "execution_count": 112,
   "metadata": {},
   "outputs": [
    {
     "name": "stdout",
     "output_type": "stream",
     "text": [
      "          语文  数学\n",
      "七月流火   105    88\n",
      "高袁圆     109   120\n"
     ]
    }
   ],
   "source": [
    "print(df.loc[['七月流火','高袁圆'],['语文','数学']])"
   ]
  },
  {
   "cell_type": "code",
   "execution_count": null,
   "metadata": {},
   "outputs": [],
   "source": []
  },
  {
   "cell_type": "code",
   "execution_count": 37,
   "metadata": {},
   "outputs": [
    {
     "name": "stdout",
     "output_type": "stream",
     "text": [
      "           英语\n",
      "七月流火  115.0\n"
     ]
    }
   ],
   "source": [
    "print(df.loc[['七月流火'],['英语']])"
   ]
  },
  {
   "cell_type": "code",
   "execution_count": 38,
   "metadata": {},
   "outputs": [
    {
     "name": "stdout",
     "output_type": "stream",
     "text": [
      "          语文  数学   英语\n",
      "明日       110   105   99.0\n",
      "七月流火   105    88  115.0\n",
      "高袁圆     109   120  130.0\n",
      "二月二     112   115    NaN\n"
     ]
    }
   ],
   "source": [
    "print(df)"
   ]
  },
  {
   "cell_type": "code",
   "execution_count": 39,
   "metadata": {},
   "outputs": [
    {
     "name": "stdout",
     "output_type": "stream",
     "text": [
      "          数学   英语\n",
      "七月流火    88  115.0\n",
      "高袁圆     120  130.0\n"
     ]
    }
   ],
   "source": [
    "print(df.iloc[1:3,1:])"
   ]
  },
  {
   "cell_type": "code",
   "execution_count": 40,
   "metadata": {},
   "outputs": [
    {
     "name": "stdout",
     "output_type": "stream",
     "text": [
      "           英语\n",
      "七月流火  115.0\n"
     ]
    }
   ],
   "source": [
    "print(df.iloc[[1],[2]])"
   ]
  },
  {
   "cell_type": "code",
   "execution_count": 41,
   "metadata": {},
   "outputs": [
    {
     "name": "stdout",
     "output_type": "stream",
     "text": [
      "          语文   英语\n",
      "七月流火   105  115.0\n",
      "高袁圆     109  130.0\n",
      "二月二     112    NaN\n"
     ]
    }
   ],
   "source": [
    "print(df.iloc[1:,[0,2]])"
   ]
  },
  {
   "cell_type": "code",
   "execution_count": null,
   "metadata": {},
   "outputs": [],
   "source": []
  },
  {
   "cell_type": "code",
   "execution_count": 42,
   "metadata": {},
   "outputs": [
    {
     "name": "stdout",
     "output_type": "stream",
     "text": [
      "按E列的值进行排序:\n",
      "     A          B    C  D      E    F\n",
      "0  1.0 2018-03-10  1.0  3   test  foo\n",
      "2  1.0 2018-03-10  1.0  3   test  foo\n",
      "1  1.0 2018-03-10  1.0  3  train  foo\n",
      "3  1.0 2018-03-10  1.0  3  train  foo\n"
     ]
    }
   ],
   "source": [
    "#按E列的值进行排序\n",
    "print('按E列的值进行排序:')\n",
    "print(df_1.sort_values(by='E'))"
   ]
  },
  {
   "cell_type": "code",
   "execution_count": 43,
   "metadata": {},
   "outputs": [
    {
     "name": "stdout",
     "output_type": "stream",
     "text": [
      "访问df的B,C列:\n"
     ]
    },
    {
     "ename": "KeyError",
     "evalue": "\"None of [Index(['B', 'C'], dtype='object')] are in the [columns]\"",
     "output_type": "error",
     "traceback": [
      "\u001b[1;31m---------------------------------------------------------------------------\u001b[0m",
      "\u001b[1;31mKeyError\u001b[0m                                  Traceback (most recent call last)",
      "\u001b[1;32m<ipython-input-43-203064f00519>\u001b[0m in \u001b[0;36m<module>\u001b[1;34m()\u001b[0m\n\u001b[0;32m      1\u001b[0m \u001b[1;31m#单独访问df的B,C列\u001b[0m\u001b[1;33m\u001b[0m\u001b[1;33m\u001b[0m\u001b[0m\n\u001b[0;32m      2\u001b[0m \u001b[0mprint\u001b[0m\u001b[1;33m(\u001b[0m\u001b[1;34m'访问df的B,C列:'\u001b[0m\u001b[1;33m)\u001b[0m\u001b[1;33m\u001b[0m\u001b[0m\n\u001b[1;32m----> 3\u001b[1;33m \u001b[0mprint\u001b[0m\u001b[1;33m(\u001b[0m\u001b[0mdf\u001b[0m\u001b[1;33m[\u001b[0m\u001b[1;33m[\u001b[0m\u001b[1;34m'B'\u001b[0m\u001b[1;33m,\u001b[0m\u001b[1;34m'C'\u001b[0m\u001b[1;33m]\u001b[0m\u001b[1;33m]\u001b[0m\u001b[1;33m)\u001b[0m\u001b[1;33m\u001b[0m\u001b[0m\n\u001b[0m",
      "\u001b[1;32mC:\\Anaconda3\\lib\\site-packages\\pandas\\core\\frame.py\u001b[0m in \u001b[0;36m__getitem__\u001b[1;34m(self, key)\u001b[0m\n\u001b[0;32m   2910\u001b[0m             \u001b[1;32mif\u001b[0m \u001b[0mis_iterator\u001b[0m\u001b[1;33m(\u001b[0m\u001b[0mkey\u001b[0m\u001b[1;33m)\u001b[0m\u001b[1;33m:\u001b[0m\u001b[1;33m\u001b[0m\u001b[0m\n\u001b[0;32m   2911\u001b[0m                 \u001b[0mkey\u001b[0m \u001b[1;33m=\u001b[0m \u001b[0mlist\u001b[0m\u001b[1;33m(\u001b[0m\u001b[0mkey\u001b[0m\u001b[1;33m)\u001b[0m\u001b[1;33m\u001b[0m\u001b[0m\n\u001b[1;32m-> 2912\u001b[1;33m             \u001b[0mindexer\u001b[0m \u001b[1;33m=\u001b[0m \u001b[0mself\u001b[0m\u001b[1;33m.\u001b[0m\u001b[0mloc\u001b[0m\u001b[1;33m.\u001b[0m\u001b[0m_get_listlike_indexer\u001b[0m\u001b[1;33m(\u001b[0m\u001b[0mkey\u001b[0m\u001b[1;33m,\u001b[0m \u001b[0maxis\u001b[0m\u001b[1;33m=\u001b[0m\u001b[1;36m1\u001b[0m\u001b[1;33m,\u001b[0m \u001b[0mraise_missing\u001b[0m\u001b[1;33m=\u001b[0m\u001b[1;32mTrue\u001b[0m\u001b[1;33m)\u001b[0m\u001b[1;33m[\u001b[0m\u001b[1;36m1\u001b[0m\u001b[1;33m]\u001b[0m\u001b[1;33m\u001b[0m\u001b[0m\n\u001b[0m\u001b[0;32m   2913\u001b[0m \u001b[1;33m\u001b[0m\u001b[0m\n\u001b[0;32m   2914\u001b[0m         \u001b[1;31m# take() does not accept boolean indexers\u001b[0m\u001b[1;33m\u001b[0m\u001b[1;33m\u001b[0m\u001b[0m\n",
      "\u001b[1;32mC:\\Anaconda3\\lib\\site-packages\\pandas\\core\\indexing.py\u001b[0m in \u001b[0;36m_get_listlike_indexer\u001b[1;34m(self, key, axis, raise_missing)\u001b[0m\n\u001b[0;32m   1252\u001b[0m             \u001b[0mkeyarr\u001b[0m\u001b[1;33m,\u001b[0m \u001b[0mindexer\u001b[0m\u001b[1;33m,\u001b[0m \u001b[0mnew_indexer\u001b[0m \u001b[1;33m=\u001b[0m \u001b[0max\u001b[0m\u001b[1;33m.\u001b[0m\u001b[0m_reindex_non_unique\u001b[0m\u001b[1;33m(\u001b[0m\u001b[0mkeyarr\u001b[0m\u001b[1;33m)\u001b[0m\u001b[1;33m\u001b[0m\u001b[0m\n\u001b[0;32m   1253\u001b[0m \u001b[1;33m\u001b[0m\u001b[0m\n\u001b[1;32m-> 1254\u001b[1;33m         \u001b[0mself\u001b[0m\u001b[1;33m.\u001b[0m\u001b[0m_validate_read_indexer\u001b[0m\u001b[1;33m(\u001b[0m\u001b[0mkeyarr\u001b[0m\u001b[1;33m,\u001b[0m \u001b[0mindexer\u001b[0m\u001b[1;33m,\u001b[0m \u001b[0maxis\u001b[0m\u001b[1;33m,\u001b[0m \u001b[0mraise_missing\u001b[0m\u001b[1;33m=\u001b[0m\u001b[0mraise_missing\u001b[0m\u001b[1;33m)\u001b[0m\u001b[1;33m\u001b[0m\u001b[0m\n\u001b[0m\u001b[0;32m   1255\u001b[0m         \u001b[1;32mreturn\u001b[0m \u001b[0mkeyarr\u001b[0m\u001b[1;33m,\u001b[0m \u001b[0mindexer\u001b[0m\u001b[1;33m\u001b[0m\u001b[0m\n\u001b[0;32m   1256\u001b[0m \u001b[1;33m\u001b[0m\u001b[0m\n",
      "\u001b[1;32mC:\\Anaconda3\\lib\\site-packages\\pandas\\core\\indexing.py\u001b[0m in \u001b[0;36m_validate_read_indexer\u001b[1;34m(self, key, indexer, axis, raise_missing)\u001b[0m\n\u001b[0;32m   1296\u001b[0m             \u001b[1;32mif\u001b[0m \u001b[0mmissing\u001b[0m \u001b[1;33m==\u001b[0m \u001b[0mlen\u001b[0m\u001b[1;33m(\u001b[0m\u001b[0mindexer\u001b[0m\u001b[1;33m)\u001b[0m\u001b[1;33m:\u001b[0m\u001b[1;33m\u001b[0m\u001b[0m\n\u001b[0;32m   1297\u001b[0m                 \u001b[0maxis_name\u001b[0m \u001b[1;33m=\u001b[0m \u001b[0mself\u001b[0m\u001b[1;33m.\u001b[0m\u001b[0mobj\u001b[0m\u001b[1;33m.\u001b[0m\u001b[0m_get_axis_name\u001b[0m\u001b[1;33m(\u001b[0m\u001b[0maxis\u001b[0m\u001b[1;33m)\u001b[0m\u001b[1;33m\u001b[0m\u001b[0m\n\u001b[1;32m-> 1298\u001b[1;33m                 \u001b[1;32mraise\u001b[0m \u001b[0mKeyError\u001b[0m\u001b[1;33m(\u001b[0m\u001b[1;34mf\"None of [{key}] are in the [{axis_name}]\"\u001b[0m\u001b[1;33m)\u001b[0m\u001b[1;33m\u001b[0m\u001b[0m\n\u001b[0m\u001b[0;32m   1299\u001b[0m \u001b[1;33m\u001b[0m\u001b[0m\n\u001b[0;32m   1300\u001b[0m             \u001b[1;31m# We (temporarily) allow for some missing keys with .loc, except in\u001b[0m\u001b[1;33m\u001b[0m\u001b[1;33m\u001b[0m\u001b[0m\n",
      "\u001b[1;31mKeyError\u001b[0m: \"None of [Index(['B', 'C'], dtype='object')] are in the [columns]\""
     ]
    }
   ],
   "source": [
    "#单独访问df的B,C列\n",
    "print('访问df的B,C列:')\n",
    "print(df[['B','C']])"
   ]
  },
  {
   "cell_type": "code",
   "execution_count": 44,
   "metadata": {},
   "outputs": [
    {
     "name": "stdout",
     "output_type": "stream",
     "text": [
      "使用切片访问df前2行:\n",
      "          语文  数学   英语\n",
      "明日       110   105   99.0\n",
      "七月流火   105    88  115.0\n"
     ]
    }
   ],
   "source": [
    "#单独访问第2行\n",
    "print('使用切片访问df前2行:')\n",
    "print(df[0:2])"
   ]
  },
  {
   "cell_type": "code",
   "execution_count": 45,
   "metadata": {},
   "outputs": [
    {
     "name": "stdout",
     "output_type": "stream",
     "text": [
      "使用loc访问df索引为20180726，第A，B列数据\n"
     ]
    },
    {
     "ename": "KeyError",
     "evalue": "'20180726'",
     "output_type": "error",
     "traceback": [
      "\u001b[1;31m---------------------------------------------------------------------------\u001b[0m",
      "\u001b[1;31mKeyError\u001b[0m                                  Traceback (most recent call last)",
      "\u001b[1;32mC:\\Anaconda3\\lib\\site-packages\\pandas\\core\\indexes\\base.py\u001b[0m in \u001b[0;36mget_loc\u001b[1;34m(self, key, method, tolerance)\u001b[0m\n\u001b[0;32m   2897\u001b[0m             \u001b[1;32mtry\u001b[0m\u001b[1;33m:\u001b[0m\u001b[1;33m\u001b[0m\u001b[0m\n\u001b[1;32m-> 2898\u001b[1;33m                 \u001b[1;32mreturn\u001b[0m \u001b[0mself\u001b[0m\u001b[1;33m.\u001b[0m\u001b[0m_engine\u001b[0m\u001b[1;33m.\u001b[0m\u001b[0mget_loc\u001b[0m\u001b[1;33m(\u001b[0m\u001b[0mcasted_key\u001b[0m\u001b[1;33m)\u001b[0m\u001b[1;33m\u001b[0m\u001b[0m\n\u001b[0m\u001b[0;32m   2899\u001b[0m             \u001b[1;32mexcept\u001b[0m \u001b[0mKeyError\u001b[0m \u001b[1;32mas\u001b[0m \u001b[0merr\u001b[0m\u001b[1;33m:\u001b[0m\u001b[1;33m\u001b[0m\u001b[0m\n",
      "\u001b[1;32mpandas\\_libs\\index.pyx\u001b[0m in \u001b[0;36mpandas._libs.index.IndexEngine.get_loc\u001b[1;34m()\u001b[0m\n",
      "\u001b[1;32mpandas\\_libs\\index.pyx\u001b[0m in \u001b[0;36mpandas._libs.index.IndexEngine.get_loc\u001b[1;34m()\u001b[0m\n",
      "\u001b[1;32mpandas\\_libs\\hashtable_class_helper.pxi\u001b[0m in \u001b[0;36mpandas._libs.hashtable.PyObjectHashTable.get_item\u001b[1;34m()\u001b[0m\n",
      "\u001b[1;32mpandas\\_libs\\hashtable_class_helper.pxi\u001b[0m in \u001b[0;36mpandas._libs.hashtable.PyObjectHashTable.get_item\u001b[1;34m()\u001b[0m\n",
      "\u001b[1;31mKeyError\u001b[0m: '20180726'",
      "\nThe above exception was the direct cause of the following exception:\n",
      "\u001b[1;31mKeyError\u001b[0m                                  Traceback (most recent call last)",
      "\u001b[1;32m<ipython-input-45-1765663600d0>\u001b[0m in \u001b[0;36m<module>\u001b[1;34m()\u001b[0m\n\u001b[0;32m      1\u001b[0m \u001b[1;31m#用loc按照行标签进行选择，精确选择\u001b[0m\u001b[1;33m\u001b[0m\u001b[1;33m\u001b[0m\u001b[0m\n\u001b[0;32m      2\u001b[0m \u001b[0mprint\u001b[0m\u001b[1;33m(\u001b[0m\u001b[1;34m'使用loc访问df索引为20180726，第A，B列数据'\u001b[0m\u001b[1;33m)\u001b[0m\u001b[1;33m\u001b[0m\u001b[0m\n\u001b[1;32m----> 3\u001b[1;33m \u001b[0mprint\u001b[0m\u001b[1;33m(\u001b[0m\u001b[0mdf\u001b[0m\u001b[1;33m.\u001b[0m\u001b[0mloc\u001b[0m\u001b[1;33m[\u001b[0m\u001b[1;34m'20180726'\u001b[0m\u001b[1;33m,\u001b[0m \u001b[1;33m[\u001b[0m\u001b[1;34m'A'\u001b[0m\u001b[1;33m,\u001b[0m\u001b[1;34m'B'\u001b[0m\u001b[1;33m]\u001b[0m\u001b[1;33m]\u001b[0m\u001b[1;33m)\u001b[0m\u001b[1;33m\u001b[0m\u001b[0m\n\u001b[0m",
      "\u001b[1;32mC:\\Anaconda3\\lib\\site-packages\\pandas\\core\\indexing.py\u001b[0m in \u001b[0;36m__getitem__\u001b[1;34m(self, key)\u001b[0m\n\u001b[0;32m    871\u001b[0m                     \u001b[1;31m# AttributeError for IntervalTree get_value\u001b[0m\u001b[1;33m\u001b[0m\u001b[1;33m\u001b[0m\u001b[0m\n\u001b[0;32m    872\u001b[0m                     \u001b[1;32mpass\u001b[0m\u001b[1;33m\u001b[0m\u001b[0m\n\u001b[1;32m--> 873\u001b[1;33m             \u001b[1;32mreturn\u001b[0m \u001b[0mself\u001b[0m\u001b[1;33m.\u001b[0m\u001b[0m_getitem_tuple\u001b[0m\u001b[1;33m(\u001b[0m\u001b[0mkey\u001b[0m\u001b[1;33m)\u001b[0m\u001b[1;33m\u001b[0m\u001b[0m\n\u001b[0m\u001b[0;32m    874\u001b[0m         \u001b[1;32melse\u001b[0m\u001b[1;33m:\u001b[0m\u001b[1;33m\u001b[0m\u001b[0m\n\u001b[0;32m    875\u001b[0m             \u001b[1;31m# we by definition only have the 0th axis\u001b[0m\u001b[1;33m\u001b[0m\u001b[1;33m\u001b[0m\u001b[0m\n",
      "\u001b[1;32mC:\\Anaconda3\\lib\\site-packages\\pandas\\core\\indexing.py\u001b[0m in \u001b[0;36m_getitem_tuple\u001b[1;34m(self, tup)\u001b[0m\n\u001b[0;32m   1042\u001b[0m     \u001b[1;32mdef\u001b[0m \u001b[0m_getitem_tuple\u001b[0m\u001b[1;33m(\u001b[0m\u001b[0mself\u001b[0m\u001b[1;33m,\u001b[0m \u001b[0mtup\u001b[0m\u001b[1;33m:\u001b[0m \u001b[0mTuple\u001b[0m\u001b[1;33m)\u001b[0m\u001b[1;33m:\u001b[0m\u001b[1;33m\u001b[0m\u001b[0m\n\u001b[0;32m   1043\u001b[0m         \u001b[1;32mtry\u001b[0m\u001b[1;33m:\u001b[0m\u001b[1;33m\u001b[0m\u001b[0m\n\u001b[1;32m-> 1044\u001b[1;33m             \u001b[1;32mreturn\u001b[0m \u001b[0mself\u001b[0m\u001b[1;33m.\u001b[0m\u001b[0m_getitem_lowerdim\u001b[0m\u001b[1;33m(\u001b[0m\u001b[0mtup\u001b[0m\u001b[1;33m)\u001b[0m\u001b[1;33m\u001b[0m\u001b[0m\n\u001b[0m\u001b[0;32m   1045\u001b[0m         \u001b[1;32mexcept\u001b[0m \u001b[0mIndexingError\u001b[0m\u001b[1;33m:\u001b[0m\u001b[1;33m\u001b[0m\u001b[0m\n\u001b[0;32m   1046\u001b[0m             \u001b[1;32mpass\u001b[0m\u001b[1;33m\u001b[0m\u001b[0m\n",
      "\u001b[1;32mC:\\Anaconda3\\lib\\site-packages\\pandas\\core\\indexing.py\u001b[0m in \u001b[0;36m_getitem_lowerdim\u001b[1;34m(self, tup)\u001b[0m\n\u001b[0;32m    784\u001b[0m                 \u001b[1;31m# We don't need to check for tuples here because those are\u001b[0m\u001b[1;33m\u001b[0m\u001b[1;33m\u001b[0m\u001b[0m\n\u001b[0;32m    785\u001b[0m                 \u001b[1;31m#  caught by the _is_nested_tuple_indexer check above.\u001b[0m\u001b[1;33m\u001b[0m\u001b[1;33m\u001b[0m\u001b[0m\n\u001b[1;32m--> 786\u001b[1;33m                 \u001b[0msection\u001b[0m \u001b[1;33m=\u001b[0m \u001b[0mself\u001b[0m\u001b[1;33m.\u001b[0m\u001b[0m_getitem_axis\u001b[0m\u001b[1;33m(\u001b[0m\u001b[0mkey\u001b[0m\u001b[1;33m,\u001b[0m \u001b[0maxis\u001b[0m\u001b[1;33m=\u001b[0m\u001b[0mi\u001b[0m\u001b[1;33m)\u001b[0m\u001b[1;33m\u001b[0m\u001b[0m\n\u001b[0m\u001b[0;32m    787\u001b[0m \u001b[1;33m\u001b[0m\u001b[0m\n\u001b[0;32m    788\u001b[0m                 \u001b[1;31m# We should never have a scalar section here, because\u001b[0m\u001b[1;33m\u001b[0m\u001b[1;33m\u001b[0m\u001b[0m\n",
      "\u001b[1;32mC:\\Anaconda3\\lib\\site-packages\\pandas\\core\\indexing.py\u001b[0m in \u001b[0;36m_getitem_axis\u001b[1;34m(self, key, axis)\u001b[0m\n\u001b[0;32m   1108\u001b[0m         \u001b[1;31m# fall thru to straight lookup\u001b[0m\u001b[1;33m\u001b[0m\u001b[1;33m\u001b[0m\u001b[0m\n\u001b[0;32m   1109\u001b[0m         \u001b[0mself\u001b[0m\u001b[1;33m.\u001b[0m\u001b[0m_validate_key\u001b[0m\u001b[1;33m(\u001b[0m\u001b[0mkey\u001b[0m\u001b[1;33m,\u001b[0m \u001b[0maxis\u001b[0m\u001b[1;33m)\u001b[0m\u001b[1;33m\u001b[0m\u001b[0m\n\u001b[1;32m-> 1110\u001b[1;33m         \u001b[1;32mreturn\u001b[0m \u001b[0mself\u001b[0m\u001b[1;33m.\u001b[0m\u001b[0m_get_label\u001b[0m\u001b[1;33m(\u001b[0m\u001b[0mkey\u001b[0m\u001b[1;33m,\u001b[0m \u001b[0maxis\u001b[0m\u001b[1;33m=\u001b[0m\u001b[0maxis\u001b[0m\u001b[1;33m)\u001b[0m\u001b[1;33m\u001b[0m\u001b[0m\n\u001b[0m\u001b[0;32m   1111\u001b[0m \u001b[1;33m\u001b[0m\u001b[0m\n\u001b[0;32m   1112\u001b[0m     \u001b[1;32mdef\u001b[0m \u001b[0m_get_slice_axis\u001b[0m\u001b[1;33m(\u001b[0m\u001b[0mself\u001b[0m\u001b[1;33m,\u001b[0m \u001b[0mslice_obj\u001b[0m\u001b[1;33m:\u001b[0m \u001b[0mslice\u001b[0m\u001b[1;33m,\u001b[0m \u001b[0maxis\u001b[0m\u001b[1;33m:\u001b[0m \u001b[0mint\u001b[0m\u001b[1;33m)\u001b[0m\u001b[1;33m:\u001b[0m\u001b[1;33m\u001b[0m\u001b[0m\n",
      "\u001b[1;32mC:\\Anaconda3\\lib\\site-packages\\pandas\\core\\indexing.py\u001b[0m in \u001b[0;36m_get_label\u001b[1;34m(self, label, axis)\u001b[0m\n\u001b[0;32m   1057\u001b[0m     \u001b[1;32mdef\u001b[0m \u001b[0m_get_label\u001b[0m\u001b[1;33m(\u001b[0m\u001b[0mself\u001b[0m\u001b[1;33m,\u001b[0m \u001b[0mlabel\u001b[0m\u001b[1;33m,\u001b[0m \u001b[0maxis\u001b[0m\u001b[1;33m:\u001b[0m \u001b[0mint\u001b[0m\u001b[1;33m)\u001b[0m\u001b[1;33m:\u001b[0m\u001b[1;33m\u001b[0m\u001b[0m\n\u001b[0;32m   1058\u001b[0m         \u001b[1;31m# GH#5667 this will fail if the label is not present in the axis.\u001b[0m\u001b[1;33m\u001b[0m\u001b[1;33m\u001b[0m\u001b[0m\n\u001b[1;32m-> 1059\u001b[1;33m         \u001b[1;32mreturn\u001b[0m \u001b[0mself\u001b[0m\u001b[1;33m.\u001b[0m\u001b[0mobj\u001b[0m\u001b[1;33m.\u001b[0m\u001b[0mxs\u001b[0m\u001b[1;33m(\u001b[0m\u001b[0mlabel\u001b[0m\u001b[1;33m,\u001b[0m \u001b[0maxis\u001b[0m\u001b[1;33m=\u001b[0m\u001b[0maxis\u001b[0m\u001b[1;33m)\u001b[0m\u001b[1;33m\u001b[0m\u001b[0m\n\u001b[0m\u001b[0;32m   1060\u001b[0m \u001b[1;33m\u001b[0m\u001b[0m\n\u001b[0;32m   1061\u001b[0m     \u001b[1;32mdef\u001b[0m \u001b[0m_handle_lowerdim_multi_index_axis0\u001b[0m\u001b[1;33m(\u001b[0m\u001b[0mself\u001b[0m\u001b[1;33m,\u001b[0m \u001b[0mtup\u001b[0m\u001b[1;33m:\u001b[0m \u001b[0mTuple\u001b[0m\u001b[1;33m)\u001b[0m\u001b[1;33m:\u001b[0m\u001b[1;33m\u001b[0m\u001b[0m\n",
      "\u001b[1;32mC:\\Anaconda3\\lib\\site-packages\\pandas\\core\\generic.py\u001b[0m in \u001b[0;36mxs\u001b[1;34m(self, key, axis, level, drop_level)\u001b[0m\n\u001b[0;32m   3491\u001b[0m             \u001b[0mloc\u001b[0m\u001b[1;33m,\u001b[0m \u001b[0mnew_index\u001b[0m \u001b[1;33m=\u001b[0m \u001b[0mself\u001b[0m\u001b[1;33m.\u001b[0m\u001b[0mindex\u001b[0m\u001b[1;33m.\u001b[0m\u001b[0mget_loc_level\u001b[0m\u001b[1;33m(\u001b[0m\u001b[0mkey\u001b[0m\u001b[1;33m,\u001b[0m \u001b[0mdrop_level\u001b[0m\u001b[1;33m=\u001b[0m\u001b[0mdrop_level\u001b[0m\u001b[1;33m)\u001b[0m\u001b[1;33m\u001b[0m\u001b[0m\n\u001b[0;32m   3492\u001b[0m         \u001b[1;32melse\u001b[0m\u001b[1;33m:\u001b[0m\u001b[1;33m\u001b[0m\u001b[0m\n\u001b[1;32m-> 3493\u001b[1;33m             \u001b[0mloc\u001b[0m \u001b[1;33m=\u001b[0m \u001b[0mself\u001b[0m\u001b[1;33m.\u001b[0m\u001b[0mindex\u001b[0m\u001b[1;33m.\u001b[0m\u001b[0mget_loc\u001b[0m\u001b[1;33m(\u001b[0m\u001b[0mkey\u001b[0m\u001b[1;33m)\u001b[0m\u001b[1;33m\u001b[0m\u001b[0m\n\u001b[0m\u001b[0;32m   3494\u001b[0m \u001b[1;33m\u001b[0m\u001b[0m\n\u001b[0;32m   3495\u001b[0m             \u001b[1;32mif\u001b[0m \u001b[0misinstance\u001b[0m\u001b[1;33m(\u001b[0m\u001b[0mloc\u001b[0m\u001b[1;33m,\u001b[0m \u001b[0mnp\u001b[0m\u001b[1;33m.\u001b[0m\u001b[0mndarray\u001b[0m\u001b[1;33m)\u001b[0m\u001b[1;33m:\u001b[0m\u001b[1;33m\u001b[0m\u001b[0m\n",
      "\u001b[1;32mC:\\Anaconda3\\lib\\site-packages\\pandas\\core\\indexes\\base.py\u001b[0m in \u001b[0;36mget_loc\u001b[1;34m(self, key, method, tolerance)\u001b[0m\n\u001b[0;32m   2898\u001b[0m                 \u001b[1;32mreturn\u001b[0m \u001b[0mself\u001b[0m\u001b[1;33m.\u001b[0m\u001b[0m_engine\u001b[0m\u001b[1;33m.\u001b[0m\u001b[0mget_loc\u001b[0m\u001b[1;33m(\u001b[0m\u001b[0mcasted_key\u001b[0m\u001b[1;33m)\u001b[0m\u001b[1;33m\u001b[0m\u001b[0m\n\u001b[0;32m   2899\u001b[0m             \u001b[1;32mexcept\u001b[0m \u001b[0mKeyError\u001b[0m \u001b[1;32mas\u001b[0m \u001b[0merr\u001b[0m\u001b[1;33m:\u001b[0m\u001b[1;33m\u001b[0m\u001b[0m\n\u001b[1;32m-> 2900\u001b[1;33m                 \u001b[1;32mraise\u001b[0m \u001b[0mKeyError\u001b[0m\u001b[1;33m(\u001b[0m\u001b[0mkey\u001b[0m\u001b[1;33m)\u001b[0m \u001b[1;32mfrom\u001b[0m \u001b[0merr\u001b[0m\u001b[1;33m\u001b[0m\u001b[0m\n\u001b[0m\u001b[0;32m   2901\u001b[0m \u001b[1;33m\u001b[0m\u001b[0m\n\u001b[0;32m   2902\u001b[0m         \u001b[1;32mif\u001b[0m \u001b[0mtolerance\u001b[0m \u001b[1;32mis\u001b[0m \u001b[1;32mnot\u001b[0m \u001b[1;32mNone\u001b[0m\u001b[1;33m:\u001b[0m\u001b[1;33m\u001b[0m\u001b[0m\n",
      "\u001b[1;31mKeyError\u001b[0m: '20180726'"
     ]
    }
   ],
   "source": [
    "#用loc按照行标签进行选择，精确选择\n",
    "print('使用loc访问df索引为20180726，第A，B列数据')\n",
    "print(df.loc['20180726', ['A','B']])"
   ]
  },
  {
   "cell_type": "code",
   "execution_count": 46,
   "metadata": {},
   "outputs": [
    {
     "name": "stdout",
     "output_type": "stream",
     "text": [
      "使用iloc访问df行号3:5，第0:2列数据\n",
      "        语文  数学\n",
      "二月二   112   115\n"
     ]
    }
   ],
   "source": [
    "#用iloc进行切片选择\n",
    "print('使用iloc访问df行号3:5，第0:2列数据')\n",
    "print(df.iloc[3:5,0:2])"
   ]
  },
  {
   "cell_type": "code",
   "execution_count": 47,
   "metadata": {},
   "outputs": [
    {
     "name": "stdout",
     "output_type": "stream",
     "text": [
      "筛选出df的A列大于0的数据\n"
     ]
    },
    {
     "ename": "AttributeError",
     "evalue": "'DataFrame' object has no attribute 'A'",
     "output_type": "error",
     "traceback": [
      "\u001b[1;31m---------------------------------------------------------------------------\u001b[0m",
      "\u001b[1;31mAttributeError\u001b[0m                            Traceback (most recent call last)",
      "\u001b[1;32m<ipython-input-47-c4d111e64b4b>\u001b[0m in \u001b[0;36m<module>\u001b[1;34m()\u001b[0m\n\u001b[0;32m      1\u001b[0m \u001b[1;31m#筛选出df.A大于0的元素 布尔条件筛选\u001b[0m\u001b[1;33m\u001b[0m\u001b[1;33m\u001b[0m\u001b[0m\n\u001b[0;32m      2\u001b[0m \u001b[0mprint\u001b[0m\u001b[1;33m(\u001b[0m\u001b[1;34m'筛选出df的A列大于0的数据'\u001b[0m\u001b[1;33m)\u001b[0m\u001b[1;33m\u001b[0m\u001b[0m\n\u001b[1;32m----> 3\u001b[1;33m \u001b[0mprint\u001b[0m\u001b[1;33m(\u001b[0m\u001b[0mdf\u001b[0m\u001b[1;33m[\u001b[0m\u001b[0mdf\u001b[0m\u001b[1;33m.\u001b[0m\u001b[0mA\u001b[0m \u001b[1;33m>\u001b[0m \u001b[1;36m0\u001b[0m\u001b[1;33m]\u001b[0m\u001b[1;33m)\u001b[0m\u001b[1;33m\u001b[0m\u001b[0m\n\u001b[0m",
      "\u001b[1;32mC:\\Anaconda3\\lib\\site-packages\\pandas\\core\\generic.py\u001b[0m in \u001b[0;36m__getattr__\u001b[1;34m(self, name)\u001b[0m\n\u001b[0;32m   5139\u001b[0m             \u001b[1;32mif\u001b[0m \u001b[0mself\u001b[0m\u001b[1;33m.\u001b[0m\u001b[0m_info_axis\u001b[0m\u001b[1;33m.\u001b[0m\u001b[0m_can_hold_identifiers_and_holds_name\u001b[0m\u001b[1;33m(\u001b[0m\u001b[0mname\u001b[0m\u001b[1;33m)\u001b[0m\u001b[1;33m:\u001b[0m\u001b[1;33m\u001b[0m\u001b[0m\n\u001b[0;32m   5140\u001b[0m                 \u001b[1;32mreturn\u001b[0m \u001b[0mself\u001b[0m\u001b[1;33m[\u001b[0m\u001b[0mname\u001b[0m\u001b[1;33m]\u001b[0m\u001b[1;33m\u001b[0m\u001b[0m\n\u001b[1;32m-> 5141\u001b[1;33m             \u001b[1;32mreturn\u001b[0m \u001b[0mobject\u001b[0m\u001b[1;33m.\u001b[0m\u001b[0m__getattribute__\u001b[0m\u001b[1;33m(\u001b[0m\u001b[0mself\u001b[0m\u001b[1;33m,\u001b[0m \u001b[0mname\u001b[0m\u001b[1;33m)\u001b[0m\u001b[1;33m\u001b[0m\u001b[0m\n\u001b[0m\u001b[0;32m   5142\u001b[0m \u001b[1;33m\u001b[0m\u001b[0m\n\u001b[0;32m   5143\u001b[0m     \u001b[1;32mdef\u001b[0m \u001b[0m__setattr__\u001b[0m\u001b[1;33m(\u001b[0m\u001b[0mself\u001b[0m\u001b[1;33m,\u001b[0m \u001b[0mname\u001b[0m\u001b[1;33m:\u001b[0m \u001b[0mstr\u001b[0m\u001b[1;33m,\u001b[0m \u001b[0mvalue\u001b[0m\u001b[1;33m)\u001b[0m \u001b[1;33m->\u001b[0m \u001b[1;32mNone\u001b[0m\u001b[1;33m:\u001b[0m\u001b[1;33m\u001b[0m\u001b[0m\n",
      "\u001b[1;31mAttributeError\u001b[0m: 'DataFrame' object has no attribute 'A'"
     ]
    }
   ],
   "source": [
    "#筛选出df.A大于0的元素 布尔条件筛选\n",
    "print('筛选出df的A列大于0的数据')\n",
    "print(df[df.A > 0])"
   ]
  },
  {
   "cell_type": "markdown",
   "metadata": {},
   "source": [
    "#### 数据的增加、修改和删除"
   ]
  },
  {
   "cell_type": "code",
   "execution_count": 48,
   "metadata": {},
   "outputs": [
    {
     "name": "stdout",
     "output_type": "stream",
     "text": [
      "          语文  数学   英语\n",
      "明日       110   105   99.0\n",
      "七月流火   105    88  115.0\n",
      "高袁圆     109   120  130.0\n",
      "二月二     112   115    NaN\n"
     ]
    }
   ],
   "source": [
    "#解决数据输出时列名不对齐的问题\n",
    "pd.set_option('display.unicode.east_asian_width', True)\n",
    "data=[[110,105,99],[105,88,115],[109,120,130],[112,115]]\n",
    "name=['明日','七月流火','高袁圆','二月二']\n",
    "columns=['语文','数学','英语']\n",
    "#创建DataFrame\n",
    "df=pd.DataFrame(data=data, index=name,columns=columns)\n",
    "print(df)"
   ]
  },
  {
   "cell_type": "code",
   "execution_count": 49,
   "metadata": {},
   "outputs": [
    {
     "name": "stdout",
     "output_type": "stream",
     "text": [
      "          语文  数学   英语  物理\n",
      "明日       110   105   99.0    88\n",
      "七月流火   105    88  115.0    79\n",
      "高袁圆     109   120  130.0    60\n",
      "二月二     112   115    NaN    50\n"
     ]
    }
   ],
   "source": [
    "#增加一列“物理”成绩\n",
    "df['物理']=[88,79,60,50]\n",
    "print(df)"
   ]
  },
  {
   "cell_type": "code",
   "execution_count": 50,
   "metadata": {},
   "outputs": [
    {
     "name": "stdout",
     "output_type": "stream",
     "text": [
      "          语文  数学   英语\n",
      "明日       110   105   99.0\n",
      "七月流火   105    88  115.0\n",
      "高袁圆     109   120  130.0\n",
      "二月二     112   115    NaN\n"
     ]
    }
   ],
   "source": [
    "df=pd.DataFrame(data=data, index=name,columns=columns)\n",
    "print(df)"
   ]
  },
  {
   "cell_type": "code",
   "execution_count": 51,
   "metadata": {},
   "outputs": [
    {
     "name": "stdout",
     "output_type": "stream",
     "text": [
      "          语文  数学  物理   英语\n",
      "明日       110   105    88   99.0\n",
      "七月流火   105    88    79  115.0\n",
      "高袁圆     109   120    60  130.0\n",
      "二月二     112   115    50    NaN\n"
     ]
    }
   ],
   "source": [
    "#在第1列的后面插入“物理”\n",
    "w1=[88,79,60,50]\n",
    "df.insert(2,'物理',w1)\n",
    "print(df)"
   ]
  },
  {
   "cell_type": "code",
   "execution_count": 52,
   "metadata": {},
   "outputs": [
    {
     "name": "stdout",
     "output_type": "stream",
     "text": [
      "          语文  数学   英语\n",
      "明日       110   105   99.0\n",
      "七月流火   105    88  115.0\n",
      "高袁圆     109   120  130.0\n",
      "二月二     112   115    NaN\n"
     ]
    }
   ],
   "source": [
    "df=pd.DataFrame(data=data, index=name,columns=columns)\n",
    "print(df)"
   ]
  },
  {
   "cell_type": "code",
   "execution_count": 53,
   "metadata": {},
   "outputs": [
    {
     "name": "stdout",
     "output_type": "stream",
     "text": [
      "          语文  数学   英语\n",
      "明日       110   105   99.0\n",
      "七月流火   105    88  115.0\n",
      "高袁圆     109   120  130.0\n",
      "二月二     112   115    NaN\n",
      "钱多多     100   120   99.0\n"
     ]
    }
   ],
   "source": [
    "#按行增加数据\n",
    "df.loc['钱多多']=[100,120,99]\n",
    "print(df)"
   ]
  },
  {
   "cell_type": "code",
   "execution_count": 54,
   "metadata": {},
   "outputs": [
    {
     "name": "stdout",
     "output_type": "stream",
     "text": [
      "          语文  数学（上）   英语\n",
      "明日       110         105   99.0\n",
      "七月流火   105          88  115.0\n",
      "高袁圆     109         120  130.0\n",
      "二月二     112         115    NaN\n",
      "钱多多     100         120   99.0\n"
     ]
    }
   ],
   "source": [
    "#修改“数学”列名\n",
    "df.columns=['语文','数学（上）','英语']\n",
    "print(df)"
   ]
  },
  {
   "cell_type": "code",
   "execution_count": 55,
   "metadata": {},
   "outputs": [
    {
     "name": "stdout",
     "output_type": "stream",
     "text": [
      "   语文  数学（上）   英语\n",
      "1   110         105   99.0\n",
      "2   105          88  115.0\n",
      "3   109         120  130.0\n",
      "4   112         115    NaN\n",
      "5   100         120   99.0\n"
     ]
    }
   ],
   "source": [
    "#修改行标题\n",
    "df.index=[1,2,3,4,5]\n",
    "print(df)"
   ]
  },
  {
   "cell_type": "code",
   "execution_count": 56,
   "metadata": {},
   "outputs": [
    {
     "name": "stdout",
     "output_type": "stream",
     "text": [
      "          语文  数学   英语\n",
      "明日       110   105   99.0\n",
      "七月流火   105    88  115.0\n",
      "高袁圆     109   120  130.0\n",
      "二月二     112   115    NaN\n"
     ]
    }
   ],
   "source": [
    "df=pd.DataFrame(data=data, index=name,columns=columns)\n",
    "print(df)"
   ]
  },
  {
   "cell_type": "code",
   "execution_count": 57,
   "metadata": {},
   "outputs": [
    {
     "name": "stdout",
     "output_type": "stream",
     "text": [
      "          语文  数学   英语\n",
      "明日       120   115  109.0\n",
      "七月流火   105    88  115.0\n",
      "高袁圆     109   120  130.0\n",
      "二月二     112   115    NaN\n"
     ]
    }
   ],
   "source": [
    "#修改行数据\n",
    "df.loc['明日']=[120,115,109]\n",
    "print(df)"
   ]
  },
  {
   "cell_type": "code",
   "execution_count": 58,
   "metadata": {},
   "outputs": [
    {
     "name": "stdout",
     "output_type": "stream",
     "text": [
      "          语文  数学   英语\n",
      "明日       115   115  109.0\n",
      "七月流火   108    88  115.0\n",
      "高袁圆     152   120  130.0\n",
      "二月二     118   115    NaN\n"
     ]
    }
   ],
   "source": [
    "#修改整列数据\n",
    "df.loc[:,'语文']=[115,108,152,118]\n",
    "print(df)"
   ]
  },
  {
   "cell_type": "code",
   "execution_count": 59,
   "metadata": {},
   "outputs": [
    {
     "name": "stdout",
     "output_type": "stream",
     "text": [
      "          语文  数学   英语\n",
      "明日       125   115  109.0\n",
      "七月流火   108    88  115.0\n",
      "高袁圆     152   120  130.0\n",
      "二月二     118   115    NaN\n"
     ]
    }
   ],
   "source": [
    "#使用iloc属性修改数据\n",
    "df.iloc[0,0]=125\n",
    "print(df)"
   ]
  },
  {
   "cell_type": "code",
   "execution_count": 60,
   "metadata": {},
   "outputs": [
    {
     "name": "stdout",
     "output_type": "stream",
     "text": [
      "          语文   英语\n",
      "明日       125  109.0\n",
      "七月流火   108  115.0\n",
      "高袁圆     152  130.0\n",
      "二月二     118    NaN\n"
     ]
    }
   ],
   "source": [
    "#删除某列数据\n",
    "# axis=1, 表示按列删除\n",
    "# inplace=True, 表示原数组将被修改和替换\n",
    "df.drop(['数学'],axis=1,inplace=True)\n",
    "print(df)"
   ]
  },
  {
   "cell_type": "code",
   "execution_count": 61,
   "metadata": {},
   "outputs": [
    {
     "name": "stdout",
     "output_type": "stream",
     "text": [
      "          语文  数学   英语\n",
      "明日       110   105   99.0\n",
      "七月流火   105    88  115.0\n",
      "高袁圆     109   120  130.0\n",
      "二月二     112   115    NaN\n"
     ]
    }
   ],
   "source": [
    "df=pd.DataFrame(data=data, index=name,columns=columns)\n",
    "print(df)"
   ]
  },
  {
   "cell_type": "code",
   "execution_count": 62,
   "metadata": {},
   "outputs": [
    {
     "name": "stdout",
     "output_type": "stream",
     "text": [
      "          语文  数学   英语\n",
      "七月流火   105    88  115.0\n",
      "高袁圆     109   120  130.0\n",
      "二月二     112   115    NaN\n"
     ]
    }
   ],
   "source": [
    "#删除某行数据\n",
    "df.drop(['明日'],axis=0, inplace=True)\n",
    "print(df)"
   ]
  },
  {
   "cell_type": "code",
   "execution_count": 63,
   "metadata": {},
   "outputs": [
    {
     "name": "stdout",
     "output_type": "stream",
     "text": [
      "          语文  数学   英语\n",
      "明日       110   105   99.0\n",
      "七月流火   105    88  115.0\n",
      "高袁圆     109   120  130.0\n",
      "二月二     112   115    NaN\n",
      "          语文   英语\n",
      "明日       110   99.0\n",
      "七月流火   105  115.0\n",
      "高袁圆     109  130.0\n",
      "二月二     112    NaN\n"
     ]
    }
   ],
   "source": [
    "df=pd.DataFrame(data=data, index=name,columns=columns)\n",
    "print(df)\n",
    "df.drop(columns='数学',axis=1, inplace=True)\n",
    "print(df)"
   ]
  },
  {
   "cell_type": "code",
   "execution_count": 64,
   "metadata": {},
   "outputs": [
    {
     "name": "stdout",
     "output_type": "stream",
     "text": [
      "          语文  数学   英语\n",
      "明日       110   105   99.0\n",
      "七月流火   105    88  115.0\n",
      "高袁圆     109   120  130.0\n",
      "二月二     112   115    NaN\n",
      "          语文  数学   英语\n",
      "七月流火   105    88  115.0\n",
      "高袁圆     109   120  130.0\n",
      "二月二     112   115    NaN\n"
     ]
    }
   ],
   "source": [
    "df=pd.DataFrame(data=data, index=name,columns=columns)\n",
    "print(df)\n",
    "df.drop(index='明日',axis=0, inplace=True)\n",
    "print(df)"
   ]
  },
  {
   "cell_type": "markdown",
   "metadata": {},
   "source": [
    "#### 数据清洗"
   ]
  },
  {
   "cell_type": "code",
   "execution_count": 65,
   "metadata": {},
   "outputs": [
    {
     "name": "stdout",
     "output_type": "stream",
     "text": [
      "  买家会员名  买家实际支付金额  宝贝总数量                     宝贝标题   \\\n",
      "0      mr001            143.50         2.0                Python黄金组合   \n",
      "1      mr002             78.80         1.0                Python编程锦囊   \n",
      "2      mr003             48.86         1.0                 零基础学C语言   \n",
      "3      mr004             81.75         NaN  SQL Server应用与开发范例宝典   \n",
      "4      mr005            299.00         1.0          Python程序开发资源库   \n",
      "5      mr006             41.86         1.0                零基础学Python   \n",
      "6      mr007             55.86         1.0            C语言精彩编程200例   \n",
      "7      mr008             41.86         NaN         C语言项目开发实战入门   \n",
      "8      mr009             41.86         1.0          Java项目开发实战入门   \n",
      "9      mr010             34.86         1.0                   SQL即查即用   \n",
      "\n",
      "   类别        订单付款时间  \n",
      "0  图书 2018-10-09 22:54:26  \n",
      "1   NaN 2018-10-09 22:52:42  \n",
      "2  图书 2018-01-19 12:53:01  \n",
      "3  图书 2018-06-30 11:46:14  \n",
      "4   NaN 2018-03-23 18:25:45  \n",
      "5  图书 2018-03-24 19:25:45  \n",
      "6  图书 2018-03-25 11:00:45  \n",
      "7  图书 2018-03-26 23:11:11  \n",
      "8  图书 2018-03-27 07:25:30  \n",
      "9  图书 2018-03-28 18:09:12  \n"
     ]
    }
   ],
   "source": [
    "pd.set_option('display.unicode.east_asian_width', True)\n",
    "df=pd.read_excel('data/TB2018.xls')\n",
    "print(df)"
   ]
  },
  {
   "cell_type": "code",
   "execution_count": 66,
   "metadata": {},
   "outputs": [
    {
     "name": "stdout",
     "output_type": "stream",
     "text": [
      "<class 'pandas.core.frame.DataFrame'>\n",
      "RangeIndex: 10 entries, 0 to 9\n",
      "Data columns (total 6 columns):\n",
      " #   Column    Non-Null Count  Dtype         \n",
      "---  ------    --------------  -----         \n",
      " 0   买家会员名     10 non-null     object        \n",
      " 1   买家实际支付金额  10 non-null     float64       \n",
      " 2   宝贝总数量     8 non-null      float64       \n",
      " 3   宝贝标题      10 non-null     object        \n",
      " 4   类别        8 non-null      object        \n",
      " 5   订单付款时间    10 non-null     datetime64[ns]\n",
      "dtypes: datetime64[ns](1), float64(2), object(3)\n",
      "memory usage: 608.0+ bytes\n",
      "None\n"
     ]
    }
   ],
   "source": [
    "print(df.info())"
   ]
  },
  {
   "cell_type": "code",
   "execution_count": 67,
   "metadata": {},
   "outputs": [
    {
     "name": "stdout",
     "output_type": "stream",
     "text": [
      "          语文  数学   英语\n",
      "明日       110   105   99.0\n",
      "七月流火   105    88  115.0\n",
      "高袁圆     109   120  130.0\n",
      "二月二     112   115    NaN\n"
     ]
    }
   ],
   "source": [
    "#解决数据输出时列名不对齐的问题\n",
    "pd.set_option('display.unicode.east_asian_width', True)\n",
    "data=[[110,105,99],[105,88,115],[109,120,130],[112,115]]\n",
    "name=['明日','七月流火','高袁圆','二月二']\n",
    "columns=['语文','数学','英语']\n",
    "#创建DataFrame\n",
    "df1=pd.DataFrame(data=data, index=name,columns=columns)\n",
    "print(df1)"
   ]
  },
  {
   "cell_type": "markdown",
   "metadata": {},
   "source": [
    "在Python中，缺失值一般以NaN表示"
   ]
  },
  {
   "cell_type": "code",
   "execution_count": 68,
   "metadata": {},
   "outputs": [
    {
     "name": "stdout",
     "output_type": "stream",
     "text": [
      "   买家会员名  买家实际支付金额  宝贝总数量  宝贝标题    类别  订单付款时间\n",
      "0       False             False       False      False  False         False\n",
      "1       False             False       False      False   True         False\n",
      "2       False             False       False      False  False         False\n",
      "3       False             False        True      False  False         False\n",
      "4       False             False       False      False   True         False\n",
      "5       False             False       False      False  False         False\n",
      "6       False             False       False      False  False         False\n",
      "7       False             False        True      False  False         False\n",
      "8       False             False       False      False  False         False\n",
      "9       False             False       False      False  False         False\n"
     ]
    }
   ],
   "source": [
    "#缺失值返回True,非缺失值返回False\n",
    "print(df.isnull())"
   ]
  },
  {
   "cell_type": "code",
   "execution_count": 69,
   "metadata": {},
   "outputs": [
    {
     "name": "stdout",
     "output_type": "stream",
     "text": [
      "          语文  数学   英语\n",
      "明日       110   105   99.0\n",
      "七月流火   105    88  115.0\n",
      "高袁圆     109   120  130.0\n",
      "二月二     112   115    NaN\n",
      "\n",
      "           语文   数学   英语\n",
      "明日      False  False  False\n",
      "七月流火  False  False  False\n",
      "高袁圆    False  False  False\n",
      "二月二    False  False   True\n"
     ]
    }
   ],
   "source": [
    "df1=pd.DataFrame(data=data, index=name,columns=columns)\n",
    "print(df1)\n",
    "print()\n",
    "print(df1.isnull())"
   ]
  },
  {
   "cell_type": "markdown",
   "metadata": {},
   "source": [
    "将NaN填充为0"
   ]
  },
  {
   "cell_type": "code",
   "execution_count": 70,
   "metadata": {},
   "outputs": [
    {
     "name": "stdout",
     "output_type": "stream",
     "text": [
      "  买家会员名  买家实际支付金额  宝贝总数量                     宝贝标题   \\\n",
      "0      mr001            143.50         2.0                Python黄金组合   \n",
      "1      mr002             78.80         1.0                Python编程锦囊   \n",
      "2      mr003             48.86         1.0                 零基础学C语言   \n",
      "3      mr004             81.75         0.0  SQL Server应用与开发范例宝典   \n",
      "4      mr005            299.00         1.0          Python程序开发资源库   \n",
      "5      mr006             41.86         1.0                零基础学Python   \n",
      "6      mr007             55.86         1.0            C语言精彩编程200例   \n",
      "7      mr008             41.86         0.0         C语言项目开发实战入门   \n",
      "8      mr009             41.86         1.0          Java项目开发实战入门   \n",
      "9      mr010             34.86         1.0                   SQL即查即用   \n",
      "\n",
      "   类别        订单付款时间  \n",
      "0  图书 2018-10-09 22:54:26  \n",
      "1   NaN 2018-10-09 22:52:42  \n",
      "2  图书 2018-01-19 12:53:01  \n",
      "3  图书 2018-06-30 11:46:14  \n",
      "4   NaN 2018-03-23 18:25:45  \n",
      "5  图书 2018-03-24 19:25:45  \n",
      "6  图书 2018-03-25 11:00:45  \n",
      "7  图书 2018-03-26 23:11:11  \n",
      "8  图书 2018-03-27 07:25:30  \n",
      "9  图书 2018-03-28 18:09:12  \n"
     ]
    }
   ],
   "source": [
    "df['宝贝总数量']=df['宝贝总数量'].fillna(0)\n",
    "print(df) "
   ]
  },
  {
   "cell_type": "code",
   "execution_count": 71,
   "metadata": {},
   "outputs": [
    {
     "name": "stdout",
     "output_type": "stream",
     "text": [
      "          语文  数学   英语\n",
      "明日       110   105   99.0\n",
      "七月流火   105    88  115.0\n",
      "高袁圆     109   120  130.0\n",
      "二月二     112   115    0.0\n"
     ]
    }
   ],
   "source": [
    "df1['英语']=df1['英语'].fillna(0)\n",
    "print(df1) "
   ]
  },
  {
   "cell_type": "markdown",
   "metadata": {},
   "source": [
    "重复值处理"
   ]
  },
  {
   "cell_type": "code",
   "execution_count": 72,
   "metadata": {},
   "outputs": [
    {
     "name": "stdout",
     "output_type": "stream",
     "text": [
      "   买家会员名 买家支付宝账号  买家应付货款  买家实际支付金额  订单状态  \\\n",
      "0       mrhy1       ********         41.86             41.86  交易成功   \n",
      "1       mrhy2       ********         41.86             41.86  交易成功   \n",
      "2       mrhy3       ********         48.86             48.86  交易成功   \n",
      "3       mrhy3       ********         48.86             48.86  交易成功   \n",
      "4       mrhy3       ********         48.86             48.86  交易成功   \n",
      "..        ...            ...           ...               ...       ...   \n",
      "75     mrhy77       ********        268.00            268.00  交易成功   \n",
      "76     mrhy78       ********        268.00            268.00  交易成功   \n",
      "77     mrhy79       ********        268.00            268.00  交易成功   \n",
      "78     mrhy80       ********        268.00            268.00  交易成功   \n",
      "79     mrhy81       ********        268.00            268.00  交易成功   \n",
      "\n",
      "   收货人姓名                                       收货地址     联系手机  \\\n",
      "0      周某某                                            *12  1**********   \n",
      "1      杨某某                                            *13  1**********   \n",
      "2      刘某某  云南省 红河哈尼族彝族自治州 开远市 乐白道街道  1**********   \n",
      "3      刘某某  云南省 红河哈尼族彝族自治州 开远市 乐白道街道  1**********   \n",
      "4      刘某某  云南省 红河哈尼族彝族自治州 开远市 乐白道街道  1**********   \n",
      "..        ...                                            ...          ...   \n",
      "75     王某某                                            *84  1**********   \n",
      "76     王某某                                            *85  1**********   \n",
      "77     柳某某                                            *86  1**********   \n",
      "78     杨某某                                            *87  1**********   \n",
      "79     曾某某                                            *88  1**********   \n",
      "\n",
      "          订单创建时间       订单付款时间                            宝贝标题  \\\n",
      "0  2018-05-16 09:38:00 2018-05-16 09:41:00            Android项目开发实战入门   \n",
      "1  2018-05-09 15:31:00 2018-05-09 15:31:00            Android项目开发实战入门   \n",
      "2  2018-05-25 15:21:00 2018-05-25 15:21:00            ASP.NET项目开发实战入门   \n",
      "3  2018-05-25 15:21:00 2018-05-25 15:21:00            ASP.NET项目开发实战入门   \n",
      "4  2018-05-25 15:21:00 2018-05-25 15:21:00            ASP.NET项目开发实战入门   \n",
      "..                 ...                 ...                                ...   \n",
      "75 2018-05-10 13:48:00 2018-05-10 13:49:00        明日科技 Java编程词典个人版   \n",
      "76 2018-05-06 23:31:00 2018-05-06 23:32:00         明日科技 PHP编程词典个人版   \n",
      "77 2018-05-02 10:18:00 2018-05-02 10:19:00         明日科技 PHP编程词典个人版   \n",
      "78 2018-05-11 13:03:00 2018-05-11 13:03:00  明日科技 Visual C++编程词典个人版   \n",
      "79 2018-05-07 10:40:00 2018-05-07 10:40:00  明日科技 Visual C++编程词典个人版   \n",
      "\n",
      "    宝贝种类              订单备注  宝贝总数量      类别 图书编号  \n",
      "0           1                'null           1  全彩系列      B16  \n",
      "1           1                'null           1  全彩系列      B16  \n",
      "2           1                'null           1  全彩系列      B17  \n",
      "3           1                'null           1  全彩系列      B17  \n",
      "4           1                'null           1  全彩系列      B17  \n",
      "..        ...                  ...         ...       ...      ...  \n",
      "75          1  '中通：493598151449           1       NaN      NaN  \n",
      "76          1                'null           1       NaN      NaN  \n",
      "77          1  '中通：492021024200           1       NaN      NaN  \n",
      "78          1  '中通：493781830401           1       NaN      NaN  \n",
      "79          1  '中通：632394471077           1       NaN      NaN  \n",
      "\n",
      "[80 rows x 16 columns]\n"
     ]
    }
   ],
   "source": [
    "df=pd.read_excel('data/January.xlsx')\n",
    "print(df)"
   ]
  },
  {
   "cell_type": "code",
   "execution_count": 73,
   "metadata": {},
   "outputs": [
    {
     "data": {
      "text/plain": [
       "0     False\n",
       "1     False\n",
       "2     False\n",
       "3      True\n",
       "4      True\n",
       "      ...  \n",
       "75    False\n",
       "76    False\n",
       "77    False\n",
       "78    False\n",
       "79    False\n",
       "Length: 80, dtype: bool"
      ]
     },
     "execution_count": 73,
     "metadata": {},
     "output_type": "execute_result"
    }
   ],
   "source": [
    "#判断每一行数据是否重复，如果返回值为False，表示不重复；返回值为True，表示重复\n",
    "df.duplicated()"
   ]
  },
  {
   "cell_type": "code",
   "execution_count": 74,
   "metadata": {},
   "outputs": [
    {
     "name": "stdout",
     "output_type": "stream",
     "text": [
      "          语文  数学   英语\n",
      "明日       110   105   99.0\n",
      "七月流火   105    88  115.0\n",
      "七月流火   105    88  115.0\n",
      "高袁圆     109   120  130.0\n",
      "二月二     112   115    NaN\n"
     ]
    }
   ],
   "source": [
    "#解决数据输出时列名不对齐的问题\n",
    "pd.set_option('display.unicode.east_asian_width', True)\n",
    "data=[[110,105,99],[105,88,115],[105,88,115],[109,120,130],[112,115]]\n",
    "name=['明日','七月流火','七月流火','高袁圆','二月二']\n",
    "columns=['语文','数学','英语']\n",
    "#创建DataFrame\n",
    "df1=pd.DataFrame(data=data, index=name,columns=columns)\n",
    "print(df1)"
   ]
  },
  {
   "cell_type": "code",
   "execution_count": 75,
   "metadata": {},
   "outputs": [
    {
     "data": {
      "text/plain": [
       "明日        False\n",
       "七月流火    False\n",
       "七月流火     True\n",
       "高袁圆      False\n",
       "二月二      False\n",
       "dtype: bool"
      ]
     },
     "execution_count": 75,
     "metadata": {},
     "output_type": "execute_result"
    }
   ],
   "source": [
    "#判断每一行数据是否重复，如果返回值为False，表示不重复；返回值为True，表示重复\n",
    "df1.duplicated()"
   ]
  },
  {
   "cell_type": "code",
   "execution_count": 76,
   "metadata": {},
   "outputs": [
    {
     "name": "stdout",
     "output_type": "stream",
     "text": [
      "   买家会员名 买家支付宝账号  买家应付货款  买家实际支付金额  订单状态  \\\n",
      "0       mrhy1       ********         41.86             41.86  交易成功   \n",
      "1       mrhy2       ********         41.86             41.86  交易成功   \n",
      "2       mrhy3       ********         48.86             48.86  交易成功   \n",
      "3       mrhy3       ********         48.86             48.86  交易成功   \n",
      "4       mrhy3       ********         48.86             48.86  交易成功   \n",
      "..        ...            ...           ...               ...       ...   \n",
      "75     mrhy77       ********        268.00            268.00  交易成功   \n",
      "76     mrhy78       ********        268.00            268.00  交易成功   \n",
      "77     mrhy79       ********        268.00            268.00  交易成功   \n",
      "78     mrhy80       ********        268.00            268.00  交易成功   \n",
      "79     mrhy81       ********        268.00            268.00  交易成功   \n",
      "\n",
      "   收货人姓名                                       收货地址     联系手机  \\\n",
      "0      周某某                                            *12  1**********   \n",
      "1      杨某某                                            *13  1**********   \n",
      "2      刘某某  云南省 红河哈尼族彝族自治州 开远市 乐白道街道  1**********   \n",
      "3      刘某某  云南省 红河哈尼族彝族自治州 开远市 乐白道街道  1**********   \n",
      "4      刘某某  云南省 红河哈尼族彝族自治州 开远市 乐白道街道  1**********   \n",
      "..        ...                                            ...          ...   \n",
      "75     王某某                                            *84  1**********   \n",
      "76     王某某                                            *85  1**********   \n",
      "77     柳某某                                            *86  1**********   \n",
      "78     杨某某                                            *87  1**********   \n",
      "79     曾某某                                            *88  1**********   \n",
      "\n",
      "          订单创建时间       订单付款时间                            宝贝标题  \\\n",
      "0  2018-05-16 09:38:00 2018-05-16 09:41:00            Android项目开发实战入门   \n",
      "1  2018-05-09 15:31:00 2018-05-09 15:31:00            Android项目开发实战入门   \n",
      "2  2018-05-25 15:21:00 2018-05-25 15:21:00            ASP.NET项目开发实战入门   \n",
      "3  2018-05-25 15:21:00 2018-05-25 15:21:00            ASP.NET项目开发实战入门   \n",
      "4  2018-05-25 15:21:00 2018-05-25 15:21:00            ASP.NET项目开发实战入门   \n",
      "..                 ...                 ...                                ...   \n",
      "75 2018-05-10 13:48:00 2018-05-10 13:49:00        明日科技 Java编程词典个人版   \n",
      "76 2018-05-06 23:31:00 2018-05-06 23:32:00         明日科技 PHP编程词典个人版   \n",
      "77 2018-05-02 10:18:00 2018-05-02 10:19:00         明日科技 PHP编程词典个人版   \n",
      "78 2018-05-11 13:03:00 2018-05-11 13:03:00  明日科技 Visual C++编程词典个人版   \n",
      "79 2018-05-07 10:40:00 2018-05-07 10:40:00  明日科技 Visual C++编程词典个人版   \n",
      "\n",
      "    宝贝种类              订单备注  宝贝总数量      类别 图书编号  \n",
      "0           1                'null           1  全彩系列      B16  \n",
      "1           1                'null           1  全彩系列      B16  \n",
      "2           1                'null           1  全彩系列      B17  \n",
      "3           1                'null           1  全彩系列      B17  \n",
      "4           1                'null           1  全彩系列      B17  \n",
      "..        ...                  ...         ...       ...      ...  \n",
      "75          1  '中通：493598151449           1       NaN      NaN  \n",
      "76          1                'null           1       NaN      NaN  \n",
      "77          1  '中通：492021024200           1       NaN      NaN  \n",
      "78          1  '中通：493781830401           1       NaN      NaN  \n",
      "79          1  '中通：632394471077           1       NaN      NaN  \n",
      "\n",
      "[80 rows x 16 columns]\n"
     ]
    }
   ],
   "source": [
    "#去掉全部的重复数据\n",
    "df.drop_duplicates()\n",
    "print(df)"
   ]
  },
  {
   "cell_type": "code",
   "execution_count": 77,
   "metadata": {},
   "outputs": [
    {
     "name": "stdout",
     "output_type": "stream",
     "text": [
      "          语文  数学   英语\n",
      "明日       110   105   99.0\n",
      "七月流火   105    88  115.0\n",
      "七月流火   105    88  115.0\n",
      "高袁圆     109   120  130.0\n",
      "二月二     112   115    NaN\n",
      "\n",
      "df1\n",
      "           语文  数学   英语\n",
      "明日       110   105   99.0\n",
      "七月流火   105    88  115.0\n",
      "七月流火   105    88  115.0\n",
      "高袁圆     109   120  130.0\n",
      "二月二     112   115    NaN\n",
      "df2\n",
      "           语文  数学   英语\n",
      "明日       110   105   99.0\n",
      "七月流火   105    88  115.0\n",
      "高袁圆     109   120  130.0\n",
      "二月二     112   115    NaN\n"
     ]
    }
   ],
   "source": [
    "print(df1)\n",
    "print()\n",
    "#去掉全部的重复数据\n",
    "df2=df1.drop_duplicates()\n",
    "print('df1\\n',df1)\n",
    "print('df2\\n',df2)"
   ]
  },
  {
   "cell_type": "code",
   "execution_count": 78,
   "metadata": {},
   "outputs": [
    {
     "name": "stdout",
     "output_type": "stream",
     "text": [
      "          语文  数学   英语\n",
      "明日       110   105   99.0\n",
      "七月流火   105    88  115.0\n",
      "七月流火   105    88  115.0\n",
      "高袁圆     109   120  130.0\n",
      "二月二     112   115    NaN\n",
      "\n",
      "df1\n",
      "           语文  数学   英语\n",
      "明日       110   105   99.0\n",
      "七月流火   105    88  115.0\n",
      "高袁圆     109   120  130.0\n",
      "二月二     112   115    NaN\n"
     ]
    }
   ],
   "source": [
    "print(df1)\n",
    "print()\n",
    "#去掉全部的重复数据\n",
    "df1.drop_duplicates(inplace=True)\n",
    "print('df1\\n',df1)"
   ]
  },
  {
   "cell_type": "code",
   "execution_count": 79,
   "metadata": {},
   "outputs": [
    {
     "data": {
      "text/html": [
       "<div>\n",
       "<style scoped>\n",
       "    .dataframe tbody tr th:only-of-type {\n",
       "        vertical-align: middle;\n",
       "    }\n",
       "\n",
       "    .dataframe tbody tr th {\n",
       "        vertical-align: top;\n",
       "    }\n",
       "\n",
       "    .dataframe thead th {\n",
       "        text-align: right;\n",
       "    }\n",
       "</style>\n",
       "<table border=\"1\" class=\"dataframe\">\n",
       "  <thead>\n",
       "    <tr style=\"text-align: right;\">\n",
       "      <th></th>\n",
       "      <th>买家会员名</th>\n",
       "      <th>买家支付宝账号</th>\n",
       "      <th>买家应付货款</th>\n",
       "      <th>买家实际支付金额</th>\n",
       "      <th>订单状态</th>\n",
       "      <th>收货人姓名</th>\n",
       "      <th>收货地址</th>\n",
       "      <th>联系手机</th>\n",
       "      <th>订单创建时间</th>\n",
       "      <th>订单付款时间</th>\n",
       "      <th>宝贝标题</th>\n",
       "      <th>宝贝种类</th>\n",
       "      <th>订单备注</th>\n",
       "      <th>宝贝总数量</th>\n",
       "      <th>类别</th>\n",
       "      <th>图书编号</th>\n",
       "    </tr>\n",
       "  </thead>\n",
       "  <tbody>\n",
       "    <tr>\n",
       "      <th>0</th>\n",
       "      <td>mrhy1</td>\n",
       "      <td>********</td>\n",
       "      <td>41.86</td>\n",
       "      <td>41.86</td>\n",
       "      <td>交易成功</td>\n",
       "      <td>周某某</td>\n",
       "      <td>*12</td>\n",
       "      <td>1**********</td>\n",
       "      <td>2018-05-16 09:38:00</td>\n",
       "      <td>2018-05-16 09:41:00</td>\n",
       "      <td>Android项目开发实战入门</td>\n",
       "      <td>1</td>\n",
       "      <td>'null</td>\n",
       "      <td>1</td>\n",
       "      <td>全彩系列</td>\n",
       "      <td>B16</td>\n",
       "    </tr>\n",
       "    <tr>\n",
       "      <th>1</th>\n",
       "      <td>mrhy2</td>\n",
       "      <td>********</td>\n",
       "      <td>41.86</td>\n",
       "      <td>41.86</td>\n",
       "      <td>交易成功</td>\n",
       "      <td>杨某某</td>\n",
       "      <td>*13</td>\n",
       "      <td>1**********</td>\n",
       "      <td>2018-05-09 15:31:00</td>\n",
       "      <td>2018-05-09 15:31:00</td>\n",
       "      <td>Android项目开发实战入门</td>\n",
       "      <td>1</td>\n",
       "      <td>'null</td>\n",
       "      <td>1</td>\n",
       "      <td>全彩系列</td>\n",
       "      <td>B16</td>\n",
       "    </tr>\n",
       "    <tr>\n",
       "      <th>4</th>\n",
       "      <td>mrhy3</td>\n",
       "      <td>********</td>\n",
       "      <td>48.86</td>\n",
       "      <td>48.86</td>\n",
       "      <td>交易成功</td>\n",
       "      <td>刘某某</td>\n",
       "      <td>云南省 红河哈尼族彝族自治州 开远市 乐白道街道</td>\n",
       "      <td>1**********</td>\n",
       "      <td>2018-05-25 15:21:00</td>\n",
       "      <td>2018-05-25 15:21:00</td>\n",
       "      <td>ASP.NET项目开发实战入门</td>\n",
       "      <td>1</td>\n",
       "      <td>'null</td>\n",
       "      <td>1</td>\n",
       "      <td>全彩系列</td>\n",
       "      <td>B17</td>\n",
       "    </tr>\n",
       "    <tr>\n",
       "      <th>5</th>\n",
       "      <td>mrhy7</td>\n",
       "      <td>********</td>\n",
       "      <td>104.72</td>\n",
       "      <td>104.72</td>\n",
       "      <td>交易成功</td>\n",
       "      <td>张某某</td>\n",
       "      <td>*14</td>\n",
       "      <td>1**********</td>\n",
       "      <td>2018-05-25 21:31:00</td>\n",
       "      <td>2018-05-25 21:32:00</td>\n",
       "      <td>C语言精彩编程200例</td>\n",
       "      <td>2</td>\n",
       "      <td>'null</td>\n",
       "      <td>2</td>\n",
       "      <td>全彩系列</td>\n",
       "      <td>B14</td>\n",
       "    </tr>\n",
       "    <tr>\n",
       "      <th>6</th>\n",
       "      <td>mrhy8</td>\n",
       "      <td>********</td>\n",
       "      <td>55.86</td>\n",
       "      <td>55.86</td>\n",
       "      <td>交易成功</td>\n",
       "      <td>周某某</td>\n",
       "      <td>*15</td>\n",
       "      <td>1**********</td>\n",
       "      <td>2018-05-21 01:25:00</td>\n",
       "      <td>2018-05-21 01:25:00</td>\n",
       "      <td>C语言精彩编程200例</td>\n",
       "      <td>1</td>\n",
       "      <td>'null</td>\n",
       "      <td>1</td>\n",
       "      <td>全彩系列</td>\n",
       "      <td>B14</td>\n",
       "    </tr>\n",
       "    <tr>\n",
       "      <th>...</th>\n",
       "      <td>...</td>\n",
       "      <td>...</td>\n",
       "      <td>...</td>\n",
       "      <td>...</td>\n",
       "      <td>...</td>\n",
       "      <td>...</td>\n",
       "      <td>...</td>\n",
       "      <td>...</td>\n",
       "      <td>...</td>\n",
       "      <td>...</td>\n",
       "      <td>...</td>\n",
       "      <td>...</td>\n",
       "      <td>...</td>\n",
       "      <td>...</td>\n",
       "      <td>...</td>\n",
       "      <td>...</td>\n",
       "    </tr>\n",
       "    <tr>\n",
       "      <th>75</th>\n",
       "      <td>mrhy77</td>\n",
       "      <td>********</td>\n",
       "      <td>268.00</td>\n",
       "      <td>268.00</td>\n",
       "      <td>交易成功</td>\n",
       "      <td>王某某</td>\n",
       "      <td>*84</td>\n",
       "      <td>1**********</td>\n",
       "      <td>2018-05-10 13:48:00</td>\n",
       "      <td>2018-05-10 13:49:00</td>\n",
       "      <td>明日科技 Java编程词典个人版</td>\n",
       "      <td>1</td>\n",
       "      <td>'中通：493598151449</td>\n",
       "      <td>1</td>\n",
       "      <td>NaN</td>\n",
       "      <td>NaN</td>\n",
       "    </tr>\n",
       "    <tr>\n",
       "      <th>76</th>\n",
       "      <td>mrhy78</td>\n",
       "      <td>********</td>\n",
       "      <td>268.00</td>\n",
       "      <td>268.00</td>\n",
       "      <td>交易成功</td>\n",
       "      <td>王某某</td>\n",
       "      <td>*85</td>\n",
       "      <td>1**********</td>\n",
       "      <td>2018-05-06 23:31:00</td>\n",
       "      <td>2018-05-06 23:32:00</td>\n",
       "      <td>明日科技 PHP编程词典个人版</td>\n",
       "      <td>1</td>\n",
       "      <td>'null</td>\n",
       "      <td>1</td>\n",
       "      <td>NaN</td>\n",
       "      <td>NaN</td>\n",
       "    </tr>\n",
       "    <tr>\n",
       "      <th>77</th>\n",
       "      <td>mrhy79</td>\n",
       "      <td>********</td>\n",
       "      <td>268.00</td>\n",
       "      <td>268.00</td>\n",
       "      <td>交易成功</td>\n",
       "      <td>柳某某</td>\n",
       "      <td>*86</td>\n",
       "      <td>1**********</td>\n",
       "      <td>2018-05-02 10:18:00</td>\n",
       "      <td>2018-05-02 10:19:00</td>\n",
       "      <td>明日科技 PHP编程词典个人版</td>\n",
       "      <td>1</td>\n",
       "      <td>'中通：492021024200</td>\n",
       "      <td>1</td>\n",
       "      <td>NaN</td>\n",
       "      <td>NaN</td>\n",
       "    </tr>\n",
       "    <tr>\n",
       "      <th>78</th>\n",
       "      <td>mrhy80</td>\n",
       "      <td>********</td>\n",
       "      <td>268.00</td>\n",
       "      <td>268.00</td>\n",
       "      <td>交易成功</td>\n",
       "      <td>杨某某</td>\n",
       "      <td>*87</td>\n",
       "      <td>1**********</td>\n",
       "      <td>2018-05-11 13:03:00</td>\n",
       "      <td>2018-05-11 13:03:00</td>\n",
       "      <td>明日科技 Visual C++编程词典个人版</td>\n",
       "      <td>1</td>\n",
       "      <td>'中通：493781830401</td>\n",
       "      <td>1</td>\n",
       "      <td>NaN</td>\n",
       "      <td>NaN</td>\n",
       "    </tr>\n",
       "    <tr>\n",
       "      <th>79</th>\n",
       "      <td>mrhy81</td>\n",
       "      <td>********</td>\n",
       "      <td>268.00</td>\n",
       "      <td>268.00</td>\n",
       "      <td>交易成功</td>\n",
       "      <td>曾某某</td>\n",
       "      <td>*88</td>\n",
       "      <td>1**********</td>\n",
       "      <td>2018-05-07 10:40:00</td>\n",
       "      <td>2018-05-07 10:40:00</td>\n",
       "      <td>明日科技 Visual C++编程词典个人版</td>\n",
       "      <td>1</td>\n",
       "      <td>'中通：632394471077</td>\n",
       "      <td>1</td>\n",
       "      <td>NaN</td>\n",
       "      <td>NaN</td>\n",
       "    </tr>\n",
       "  </tbody>\n",
       "</table>\n",
       "<p>78 rows × 16 columns</p>\n",
       "</div>"
      ],
      "text/plain": [
       "   买家会员名 买家支付宝账号  买家应付货款  买家实际支付金额  订单状态  \\\n",
       "0       mrhy1       ********         41.86             41.86  交易成功   \n",
       "1       mrhy2       ********         41.86             41.86  交易成功   \n",
       "4       mrhy3       ********         48.86             48.86  交易成功   \n",
       "5       mrhy7       ********        104.72            104.72  交易成功   \n",
       "6       mrhy8       ********         55.86             55.86  交易成功   \n",
       "..        ...            ...           ...               ...       ...   \n",
       "75     mrhy77       ********        268.00            268.00  交易成功   \n",
       "76     mrhy78       ********        268.00            268.00  交易成功   \n",
       "77     mrhy79       ********        268.00            268.00  交易成功   \n",
       "78     mrhy80       ********        268.00            268.00  交易成功   \n",
       "79     mrhy81       ********        268.00            268.00  交易成功   \n",
       "\n",
       "   收货人姓名                                       收货地址     联系手机  \\\n",
       "0      周某某                                            *12  1**********   \n",
       "1      杨某某                                            *13  1**********   \n",
       "4      刘某某  云南省 红河哈尼族彝族自治州 开远市 乐白道街道  1**********   \n",
       "5      张某某                                            *14  1**********   \n",
       "6      周某某                                            *15  1**********   \n",
       "..        ...                                            ...          ...   \n",
       "75     王某某                                            *84  1**********   \n",
       "76     王某某                                            *85  1**********   \n",
       "77     柳某某                                            *86  1**********   \n",
       "78     杨某某                                            *87  1**********   \n",
       "79     曾某某                                            *88  1**********   \n",
       "\n",
       "          订单创建时间       订单付款时间                            宝贝标题  \\\n",
       "0  2018-05-16 09:38:00 2018-05-16 09:41:00            Android项目开发实战入门   \n",
       "1  2018-05-09 15:31:00 2018-05-09 15:31:00            Android项目开发实战入门   \n",
       "4  2018-05-25 15:21:00 2018-05-25 15:21:00            ASP.NET项目开发实战入门   \n",
       "5  2018-05-25 21:31:00 2018-05-25 21:32:00                 C语言精彩编程200例   \n",
       "6  2018-05-21 01:25:00 2018-05-21 01:25:00                 C语言精彩编程200例   \n",
       "..                 ...                 ...                                ...   \n",
       "75 2018-05-10 13:48:00 2018-05-10 13:49:00        明日科技 Java编程词典个人版   \n",
       "76 2018-05-06 23:31:00 2018-05-06 23:32:00         明日科技 PHP编程词典个人版   \n",
       "77 2018-05-02 10:18:00 2018-05-02 10:19:00         明日科技 PHP编程词典个人版   \n",
       "78 2018-05-11 13:03:00 2018-05-11 13:03:00  明日科技 Visual C++编程词典个人版   \n",
       "79 2018-05-07 10:40:00 2018-05-07 10:40:00  明日科技 Visual C++编程词典个人版   \n",
       "\n",
       "    宝贝种类              订单备注  宝贝总数量      类别 图书编号  \n",
       "0           1                'null           1  全彩系列      B16  \n",
       "1           1                'null           1  全彩系列      B16  \n",
       "4           1                'null           1  全彩系列      B17  \n",
       "5           2                'null           2  全彩系列      B14  \n",
       "6           1                'null           1  全彩系列      B14  \n",
       "..        ...                  ...         ...       ...      ...  \n",
       "75          1  '中通：493598151449           1       NaN      NaN  \n",
       "76          1                'null           1       NaN      NaN  \n",
       "77          1  '中通：492021024200           1       NaN      NaN  \n",
       "78          1  '中通：493781830401           1       NaN      NaN  \n",
       "79          1  '中通：632394471077           1       NaN      NaN  \n",
       "\n",
       "[78 rows x 16 columns]"
      ]
     },
     "execution_count": 79,
     "metadata": {},
     "output_type": "execute_result"
    }
   ],
   "source": [
    "#保留重复行中的最后一行\n",
    "df.drop_duplicates(['买家会员名'],keep='last')"
   ]
  },
  {
   "cell_type": "markdown",
   "metadata": {},
   "source": [
    "#### 数据排序"
   ]
  },
  {
   "cell_type": "code",
   "execution_count": 80,
   "metadata": {},
   "outputs": [
    {
     "name": "stdout",
     "output_type": "stream",
     "text": [
      "   序号           书号                 图书名称   定价  销量        类别      大类\n",
      "1   B02  9787567787421  Android项目开发实战入门   59.8  2355     Android  程序设计\n",
      "0   B01  9787569204537     Android精彩编程200例   89.8  1300     Android  程序设计\n",
      "9   B19  9787569208535            零基础学C语言   69.8   888    C语言C++  程序设计\n",
      "14  B15  9787569222258           零基础学Python   79.8   888      Python  程序设计\n",
      "13  B21  9787569205688             零基础学Java   69.8   663        Java  程序设计\n",
      "8   B08  9787567787414    C语言项目开发实战入门   59.8   625    C语言C++  程序设计\n",
      "15  B26  9787569226607   Python从入门到项目实践   99.8   559      Python  程序设计\n",
      "4   B05  9787567790988       C#项目开发实战入门   69.8   541          C#  程序设计\n",
      "19  B20  9787569212709       零基础学HTML5+CSS3   79.8   456  HTML5+CSS3      网页\n",
      "25  B13  9787567790971      PHP项目开发实战入门   69.8   354         PHP      网站\n",
      "10  B25  9787569226614              零基础学C++   79.8   333    C语言C++  程序设计\n",
      "20  B22  9787569210460       零基础学Javascript   79.8   322  Javascript      网页\n",
      "16  B27  9787569244403   Python项目开发案例集锦  128.0   281      Python  程序设计\n",
      "7   B07  9787569208696       C语言精彩编程200例   79.8   271    C语言C++  程序设计\n",
      "26  B24  9787569208689              零基础学PHP   79.8   248         PHP      网站\n",
      "11  B10  9787569206081        Java精彩编程200例   79.8   241        Java  程序设计\n",
      "17  B23  9787569212693           零基础学Oracle   79.8   148      Oracle    数据库\n",
      "23  B09  9787567787438  JavaWeb项目开发实战入门   69.8   129     JavaWeb      网站\n",
      "6   B06  9787567787445      C++项目开发实战入门   69.8   120    C语言C++  程序设计\n",
      "18  B14  9787569221237              SQL即查即用   49.8   120         SQL    数据库\n",
      "3   B04  9787569210453          C#精彩编程200例   89.8   120          C#  程序设计\n",
      "12  B11  9787567787407     Java项目开发实战入门   59.8   120        Java  程序设计\n",
      "21  B03  9787567799424  ASP.NET项目开发实战入门   69.8   120     ASP.NET      网站\n",
      "22  B17  9787569221220          零基础学ASP.NET   79.8   120     ASP.NET      网站\n",
      "24  B12  9787567790315      JSP项目开发实战入门   69.8   120         JSP      网站\n",
      "5   B18  9787569210477               零基础学C#   79.8   120          C#  程序设计\n",
      "2   B16  9787569208542         零基础学Android    89.8   110     Android  程序设计\n"
     ]
    }
   ],
   "source": [
    "df=pd.DataFrame(pd.read_excel('data/mrbook.xlsx'))\n",
    "#设置数据显示的列数和宽度\n",
    "pd.set_option('display.max_columns',500)\n",
    "pd.set_option('display.width',1000)\n",
    "#解决数据输出时列名不对齐的问题\n",
    "pd.set_option('display.unicode.ambiguous_as_wide',True)\n",
    "pd.set_option('display.unicode.east_asian_width',True)\n",
    "\n",
    "#按“销量”排序\n",
    "df=df.sort_values(by='销量',ascending=False)\n",
    "print(df)"
   ]
  },
  {
   "cell_type": "code",
   "execution_count": null,
   "metadata": {},
   "outputs": [],
   "source": []
  },
  {
   "cell_type": "markdown",
   "metadata": {},
   "source": [
    "### 数据计算"
   ]
  },
  {
   "cell_type": "code",
   "execution_count": 81,
   "metadata": {},
   "outputs": [],
   "source": [
    "import pandas as pd "
   ]
  },
  {
   "cell_type": "code",
   "execution_count": 82,
   "metadata": {},
   "outputs": [
    {
     "name": "stdout",
     "output_type": "stream",
     "text": [
      "   语文  数学  英语\n",
      "1   110   105    99\n",
      "2   105    88   115\n",
      "3  1059   120   130\n"
     ]
    }
   ],
   "source": [
    "data=[[110,105,99],[105,88,115],[1059,120,130]]\n",
    "index=[1,2,3]\n",
    "columns=['语文','数学','英语']\n",
    "df=pd.DataFrame(data=data, index=index, columns=columns)\n",
    "print(df)"
   ]
  },
  {
   "cell_type": "markdown",
   "metadata": {},
   "source": [
    "#### 求和"
   ]
  },
  {
   "cell_type": "code",
   "execution_count": 83,
   "metadata": {},
   "outputs": [],
   "source": [
    "#axis=1，按行相加\n",
    "df['总成绩']=df.sum(axis=1)"
   ]
  },
  {
   "cell_type": "code",
   "execution_count": 84,
   "metadata": {},
   "outputs": [
    {
     "name": "stdout",
     "output_type": "stream",
     "text": [
      "   语文  数学  英语  总成绩\n",
      "1   110   105    99     314\n",
      "2   105    88   115     308\n",
      "3  1059   120   130    1309\n"
     ]
    }
   ],
   "source": [
    "print(df)"
   ]
  },
  {
   "cell_type": "markdown",
   "metadata": {},
   "source": [
    "求均值"
   ]
  },
  {
   "cell_type": "code",
   "execution_count": 85,
   "metadata": {},
   "outputs": [
    {
     "name": "stdout",
     "output_type": "stream",
     "text": [
      "   语文  数学   英语\n",
      "1   110   105   99.0\n",
      "2   105    88  115.0\n",
      "3   105   120  130.0\n",
      "4   112   115    NaN\n"
     ]
    }
   ],
   "source": [
    "data=[[110,105,99],[105,88,115],[105,120,130],[112,115]]\n",
    "index=[1,2,3,4]\n",
    "columns=['语文','数学','英语']\n",
    "df=pd.DataFrame(data=data, index=index, columns=columns)\n",
    "print(df)"
   ]
  },
  {
   "cell_type": "code",
   "execution_count": 86,
   "metadata": {},
   "outputs": [
    {
     "name": "stdout",
     "output_type": "stream",
     "text": [
      "    语文   数学        英语\n",
      "0  110.0  105.0   99.000000\n",
      "1  105.0   88.0  115.000000\n",
      "2  105.0  120.0  130.000000\n",
      "3  112.0  115.0         NaN\n",
      "4  108.0  107.0  114.666667\n"
     ]
    }
   ],
   "source": [
    "#axis=1,按行计算均值，axis=0，按列计算均值，默认按列计算\n",
    "new=df.mean()\n",
    "df=df.append(new,ignore_index=True)\n",
    "print(df)"
   ]
  },
  {
   "cell_type": "code",
   "execution_count": 87,
   "metadata": {},
   "outputs": [
    {
     "data": {
      "text/plain": [
       "语文    108.000000\n",
       "数学    107.000000\n",
       "英语    114.666667\n",
       "dtype: float64"
      ]
     },
     "execution_count": 87,
     "metadata": {},
     "output_type": "execute_result"
    }
   ],
   "source": [
    "new "
   ]
  },
  {
   "cell_type": "markdown",
   "metadata": {},
   "source": [
    "求最大值"
   ]
  },
  {
   "cell_type": "code",
   "execution_count": 88,
   "metadata": {},
   "outputs": [
    {
     "name": "stdout",
     "output_type": "stream",
     "text": [
      "   语文  数学   英语\n",
      "1   110   105   99.0\n",
      "2   105    88  115.0\n",
      "3   109   120  130.0\n",
      "4   112   115    NaN\n"
     ]
    }
   ],
   "source": [
    "data=[[110,105,99],[105,88,115],[109,120,130],[112,115]]\n",
    "index=[1,2,3,4]\n",
    "columns=['语文','数学','英语']\n",
    "df=pd.DataFrame(data=data, index=index, columns=columns)\n",
    "print(df)"
   ]
  },
  {
   "cell_type": "code",
   "execution_count": 89,
   "metadata": {},
   "outputs": [
    {
     "name": "stdout",
     "output_type": "stream",
     "text": [
      "    语文   数学   英语\n",
      "0  110.0  105.0   99.0\n",
      "1  105.0   88.0  115.0\n",
      "2  109.0  120.0  130.0\n",
      "3  112.0  115.0    NaN\n",
      "4  112.0  120.0  130.0\n"
     ]
    }
   ],
   "source": [
    "#axis=1,按行计算均值，axis=0，按列计算均值，默认按列计算\n",
    "new=df.max()\n",
    "df=df.append(new,ignore_index=True)\n",
    "print(df)"
   ]
  },
  {
   "cell_type": "markdown",
   "metadata": {},
   "source": [
    "#### 求中位数"
   ]
  },
  {
   "cell_type": "code",
   "execution_count": 2,
   "metadata": {},
   "outputs": [
    {
     "name": "stdout",
     "output_type": "stream",
     "text": [
      "    语文   数学   英语\n",
      "1  110  120  110\n",
      "2  130  130  130\n",
      "3  130  120  130\n"
     ]
    }
   ],
   "source": [
    "data=[[110,120,110],[130,130,130],[130,120,130]]\n",
    "index=[1,2,3]\n",
    "columns=['语文','数学','英语']\n",
    "df=pd.DataFrame(data=data, index=index, columns=columns)\n",
    "print(df)"
   ]
  },
  {
   "cell_type": "code",
   "execution_count": 4,
   "metadata": {},
   "outputs": [
    {
     "name": "stdout",
     "output_type": "stream",
     "text": [
      "语文    130.0\n",
      "数学    120.0\n",
      "英语    130.0\n",
      "dtype: float64\n"
     ]
    }
   ],
   "source": [
    "print(df.median())"
   ]
  },
  {
   "cell_type": "code",
   "execution_count": 5,
   "metadata": {},
   "outputs": [
    {
     "name": "stdout",
     "output_type": "stream",
     "text": [
      "130.0\n"
     ]
    }
   ],
   "source": [
    "print(df[\"语文\"].median())"
   ]
  },
  {
   "cell_type": "code",
   "execution_count": 92,
   "metadata": {},
   "outputs": [
    {
     "name": "stdout",
     "output_type": "stream",
     "text": [
      "   语文  数学  英语\n",
      "1   110   120   110\n",
      "2   130   130   130\n",
      "3   130   120   130\n",
      "4   113   123   101\n"
     ]
    }
   ],
   "source": [
    "data=[[110,120,110],[130,130,130],[130,120,130],[113,123,101]]\n",
    "index=[1,2,3,4]\n",
    "columns=['语文','数学','英语']\n",
    "df=pd.DataFrame(data=data, index=index, columns=columns)\n",
    "print(df)"
   ]
  },
  {
   "cell_type": "code",
   "execution_count": 93,
   "metadata": {},
   "outputs": [
    {
     "name": "stdout",
     "output_type": "stream",
     "text": [
      "语文    121.5\n",
      "数学    121.5\n",
      "英语    120.0\n",
      "dtype: float64\n"
     ]
    }
   ],
   "source": [
    "print(df.median())"
   ]
  },
  {
   "cell_type": "markdown",
   "metadata": {},
   "source": [
    "求众数"
   ]
  },
  {
   "cell_type": "code",
   "execution_count": 94,
   "metadata": {},
   "outputs": [
    {
     "name": "stdout",
     "output_type": "stream",
     "text": [
      "   语文  数学  英语\n",
      "1   110   120   110\n",
      "2   130   130   130\n",
      "3   130   120   130\n",
      "4   113   123   101\n"
     ]
    }
   ],
   "source": [
    "data=[[110,120,110],[130,130,130],[130,120,130],[113,123,101]]\n",
    "index=[1,2,3,4]\n",
    "columns=['语文','数学','英语']\n",
    "df=pd.DataFrame(data=data, index=index, columns=columns)\n",
    "print(df)"
   ]
  },
  {
   "cell_type": "code",
   "execution_count": 95,
   "metadata": {},
   "outputs": [
    {
     "name": "stdout",
     "output_type": "stream",
     "text": [
      "   语文  数学  英语\n",
      "0   130   120   130\n"
     ]
    }
   ],
   "source": [
    "print(df.mode())"
   ]
  },
  {
   "cell_type": "markdown",
   "metadata": {},
   "source": [
    "求方差"
   ]
  },
  {
   "cell_type": "code",
   "execution_count": 96,
   "metadata": {},
   "outputs": [
    {
     "name": "stdout",
     "output_type": "stream",
     "text": [
      "      物理1  物理2  物理3  物理4  物理5\n",
      "小黑    110    113    102    105    108\n",
      "小白    118     98    119     85    118\n"
     ]
    }
   ],
   "source": [
    "pd.set_option('display.unicode.east_asian_width', True)\n",
    "data=[[110,113,102,105,108],[118,98,119,85,118]]\n",
    "index=['小黑','小白']\n",
    "columns=['物理1','物理2','物理3','物理4','物理5']\n",
    "df=pd.DataFrame(data=data, index=index, columns=columns)\n",
    "print(df)"
   ]
  },
  {
   "cell_type": "code",
   "execution_count": 97,
   "metadata": {},
   "outputs": [
    {
     "name": "stdout",
     "output_type": "stream",
     "text": [
      "小黑     18.3\n",
      "小白    237.3\n",
      "dtype: float64\n"
     ]
    }
   ],
   "source": [
    "#axis=1表示行\n",
    "print(df.var(axis=1))"
   ]
  },
  {
   "cell_type": "markdown",
   "metadata": {},
   "source": [
    "数据分组统计"
   ]
  },
  {
   "cell_type": "code",
   "execution_count": 98,
   "metadata": {},
   "outputs": [],
   "source": [
    "import pandas as pd "
   ]
  },
  {
   "cell_type": "code",
   "execution_count": 99,
   "metadata": {},
   "outputs": [
    {
     "name": "stdout",
     "output_type": "stream",
     "text": [
      "                               商品名称            一级分类      二级分类  7天点击量   定价  订单预定\n",
      "0     ASP.NET项目开发实战入门（全彩版）  编程语言与程序设计       ASP.NET         35   69.8         1\n",
      "1         PHP项目开发实战入门（全彩版）  编程语言与程序设计           PHP         49   69.8         0\n",
      "2           Java精彩编程200例（全彩版）  编程语言与程序设计          Java         51   79.8         2\n",
      "3                 零基础学PHP（全彩版）  编程语言与程序设计           PHP         64   79.8         1\n",
      "4         JSP项目开发实战入门（全彩版）  编程语言与程序设计   JSP/JavaWeb         26   69.8         0\n",
      "5             C#精彩编程200例（全彩版）  编程语言与程序设计            C#         60   89.8         1\n",
      "6               零基础学C语言（全彩版）  编程语言与程序设计     C++/C语言        227   69.8        11\n",
      "7          零基础学JavaScript（全彩版）    网页制作/Web技术    JavaScript        100   79.8         7\n",
      "8          C#项目开发实战入门（全彩版）  编程语言与程序设计            C#        122   69.8         3\n",
      "9       C语言项目开发实战入门（全彩版）  编程语言与程序设计     C++/C语言        111   59.8         5\n",
      "10            零基础学Android（全彩版）            移动开发       Android         85   89.8         4\n",
      "11                零基础学C++（全彩版）  编程语言与程序设计     C++/C语言        165   79.8         5\n",
      "12    JavaWeb项目开发实战入门（全彩版）  编程语言与程序设计   JSP/JavaWeb        131   69.8         1\n",
      "13               零基础学Java（全彩版）  编程语言与程序设计          Java        149   69.8        10\n",
      "14         零基础学HTML5+CSS3（全彩版）    网页制作/Web技术          HTML        188   79.8         8\n",
      "15             零基础学Python（全彩版）  编程语言与程序设计        Python       1139   79.8        79\n",
      "16               Java开发详解（全彩版）  编程语言与程序设计          Java        125  119.0         1\n",
      "17          案例学WEB前端开发（全彩版）    网页制作/Web技术       WEB前端         57   49.8         0\n",
      "18        C++项目开发实战入门（全彩版）  编程语言与程序设计     C++/C语言        149   69.8         4\n",
      "19       Android精彩编程200例（全彩版）            移动开发       Android         32   89.8         1\n",
      "20            零基础学ASP.NET（全彩版）  编程语言与程序设计       ASP.NET         52   79.8         1\n",
      "21     Python从入门到项目实践（全彩版）  编程语言与程序设计        Python        597   99.8        25\n",
      "22     Python项目开发案例集锦（全彩版）  编程语言与程序设计        Python        474  128.0        15\n",
      "23       Java项目开发实战入门（全彩版）  编程语言与程序设计          Java         83   59.8         3\n",
      "24    Android项目开发实战入门（全彩版）            移动开发       Android         85   59.8         2\n",
      "25             零基础学Oracle（全彩版）              数据库        Oracle         58   79.8         2\n",
      "26                 零基础学C#（全彩版）  编程语言与程序设计            C#        132   79.8         8\n",
      "27                SQL即查即用（全彩版）              数据库           SQL        128   49.8        13\n",
      "28            Android开发详解（全彩版）            移动开发       Android         59  119.0         0\n",
      "29          玩转C语言程序设计（全彩版）  编程语言与程序设计     C++/C语言         27   49.8         2\n",
      "30             Python编程锦囊（全彩版）  编程语言与程序设计        Python        239   79.8        13\n",
      "31         C语言精彩编程200例（全彩版）  编程语言与程序设计     C++/C语言         45   79.8         1\n",
      "32  Visual Basic精彩编程200例（全彩版）  编程语言与程序设计  Visual Basic         28   79.8         0\n"
     ]
    }
   ],
   "source": [
    "#设置数据显示的列数和宽度\n",
    "pd.set_option('display.max_columns',500)\n",
    "pd.set_option('display.width',1000)\n",
    "\n",
    "pd.set_option('display.unicode.east_asian_width', True)\n",
    "df = pd.read_csv('data/JD.csv',encoding='gbk')\n",
    "print(df)"
   ]
  },
  {
   "cell_type": "code",
   "execution_count": 100,
   "metadata": {},
   "outputs": [
    {
     "data": {
      "text/html": [
       "<div>\n",
       "<style scoped>\n",
       "    .dataframe tbody tr th:only-of-type {\n",
       "        vertical-align: middle;\n",
       "    }\n",
       "\n",
       "    .dataframe tbody tr th {\n",
       "        vertical-align: top;\n",
       "    }\n",
       "\n",
       "    .dataframe thead th {\n",
       "        text-align: right;\n",
       "    }\n",
       "</style>\n",
       "<table border=\"1\" class=\"dataframe\">\n",
       "  <thead>\n",
       "    <tr style=\"text-align: right;\">\n",
       "      <th></th>\n",
       "      <th>一级分类</th>\n",
       "      <th>7天点击量</th>\n",
       "      <th>订单预定</th>\n",
       "    </tr>\n",
       "  </thead>\n",
       "  <tbody>\n",
       "    <tr>\n",
       "      <th>0</th>\n",
       "      <td>编程语言与程序设计</td>\n",
       "      <td>35</td>\n",
       "      <td>1</td>\n",
       "    </tr>\n",
       "    <tr>\n",
       "      <th>1</th>\n",
       "      <td>编程语言与程序设计</td>\n",
       "      <td>49</td>\n",
       "      <td>0</td>\n",
       "    </tr>\n",
       "    <tr>\n",
       "      <th>2</th>\n",
       "      <td>编程语言与程序设计</td>\n",
       "      <td>51</td>\n",
       "      <td>2</td>\n",
       "    </tr>\n",
       "    <tr>\n",
       "      <th>3</th>\n",
       "      <td>编程语言与程序设计</td>\n",
       "      <td>64</td>\n",
       "      <td>1</td>\n",
       "    </tr>\n",
       "    <tr>\n",
       "      <th>4</th>\n",
       "      <td>编程语言与程序设计</td>\n",
       "      <td>26</td>\n",
       "      <td>0</td>\n",
       "    </tr>\n",
       "    <tr>\n",
       "      <th>5</th>\n",
       "      <td>编程语言与程序设计</td>\n",
       "      <td>60</td>\n",
       "      <td>1</td>\n",
       "    </tr>\n",
       "    <tr>\n",
       "      <th>6</th>\n",
       "      <td>编程语言与程序设计</td>\n",
       "      <td>227</td>\n",
       "      <td>11</td>\n",
       "    </tr>\n",
       "    <tr>\n",
       "      <th>7</th>\n",
       "      <td>网页制作/Web技术</td>\n",
       "      <td>100</td>\n",
       "      <td>7</td>\n",
       "    </tr>\n",
       "    <tr>\n",
       "      <th>8</th>\n",
       "      <td>编程语言与程序设计</td>\n",
       "      <td>122</td>\n",
       "      <td>3</td>\n",
       "    </tr>\n",
       "    <tr>\n",
       "      <th>9</th>\n",
       "      <td>编程语言与程序设计</td>\n",
       "      <td>111</td>\n",
       "      <td>5</td>\n",
       "    </tr>\n",
       "    <tr>\n",
       "      <th>10</th>\n",
       "      <td>移动开发</td>\n",
       "      <td>85</td>\n",
       "      <td>4</td>\n",
       "    </tr>\n",
       "    <tr>\n",
       "      <th>11</th>\n",
       "      <td>编程语言与程序设计</td>\n",
       "      <td>165</td>\n",
       "      <td>5</td>\n",
       "    </tr>\n",
       "    <tr>\n",
       "      <th>12</th>\n",
       "      <td>编程语言与程序设计</td>\n",
       "      <td>131</td>\n",
       "      <td>1</td>\n",
       "    </tr>\n",
       "    <tr>\n",
       "      <th>13</th>\n",
       "      <td>编程语言与程序设计</td>\n",
       "      <td>149</td>\n",
       "      <td>10</td>\n",
       "    </tr>\n",
       "    <tr>\n",
       "      <th>14</th>\n",
       "      <td>网页制作/Web技术</td>\n",
       "      <td>188</td>\n",
       "      <td>8</td>\n",
       "    </tr>\n",
       "    <tr>\n",
       "      <th>15</th>\n",
       "      <td>编程语言与程序设计</td>\n",
       "      <td>1139</td>\n",
       "      <td>79</td>\n",
       "    </tr>\n",
       "    <tr>\n",
       "      <th>16</th>\n",
       "      <td>编程语言与程序设计</td>\n",
       "      <td>125</td>\n",
       "      <td>1</td>\n",
       "    </tr>\n",
       "    <tr>\n",
       "      <th>17</th>\n",
       "      <td>网页制作/Web技术</td>\n",
       "      <td>57</td>\n",
       "      <td>0</td>\n",
       "    </tr>\n",
       "    <tr>\n",
       "      <th>18</th>\n",
       "      <td>编程语言与程序设计</td>\n",
       "      <td>149</td>\n",
       "      <td>4</td>\n",
       "    </tr>\n",
       "    <tr>\n",
       "      <th>19</th>\n",
       "      <td>移动开发</td>\n",
       "      <td>32</td>\n",
       "      <td>1</td>\n",
       "    </tr>\n",
       "    <tr>\n",
       "      <th>20</th>\n",
       "      <td>编程语言与程序设计</td>\n",
       "      <td>52</td>\n",
       "      <td>1</td>\n",
       "    </tr>\n",
       "    <tr>\n",
       "      <th>21</th>\n",
       "      <td>编程语言与程序设计</td>\n",
       "      <td>597</td>\n",
       "      <td>25</td>\n",
       "    </tr>\n",
       "    <tr>\n",
       "      <th>22</th>\n",
       "      <td>编程语言与程序设计</td>\n",
       "      <td>474</td>\n",
       "      <td>15</td>\n",
       "    </tr>\n",
       "    <tr>\n",
       "      <th>23</th>\n",
       "      <td>编程语言与程序设计</td>\n",
       "      <td>83</td>\n",
       "      <td>3</td>\n",
       "    </tr>\n",
       "    <tr>\n",
       "      <th>24</th>\n",
       "      <td>移动开发</td>\n",
       "      <td>85</td>\n",
       "      <td>2</td>\n",
       "    </tr>\n",
       "    <tr>\n",
       "      <th>25</th>\n",
       "      <td>数据库</td>\n",
       "      <td>58</td>\n",
       "      <td>2</td>\n",
       "    </tr>\n",
       "    <tr>\n",
       "      <th>26</th>\n",
       "      <td>编程语言与程序设计</td>\n",
       "      <td>132</td>\n",
       "      <td>8</td>\n",
       "    </tr>\n",
       "    <tr>\n",
       "      <th>27</th>\n",
       "      <td>数据库</td>\n",
       "      <td>128</td>\n",
       "      <td>13</td>\n",
       "    </tr>\n",
       "    <tr>\n",
       "      <th>28</th>\n",
       "      <td>移动开发</td>\n",
       "      <td>59</td>\n",
       "      <td>0</td>\n",
       "    </tr>\n",
       "    <tr>\n",
       "      <th>29</th>\n",
       "      <td>编程语言与程序设计</td>\n",
       "      <td>27</td>\n",
       "      <td>2</td>\n",
       "    </tr>\n",
       "    <tr>\n",
       "      <th>30</th>\n",
       "      <td>编程语言与程序设计</td>\n",
       "      <td>239</td>\n",
       "      <td>13</td>\n",
       "    </tr>\n",
       "    <tr>\n",
       "      <th>31</th>\n",
       "      <td>编程语言与程序设计</td>\n",
       "      <td>45</td>\n",
       "      <td>1</td>\n",
       "    </tr>\n",
       "    <tr>\n",
       "      <th>32</th>\n",
       "      <td>编程语言与程序设计</td>\n",
       "      <td>28</td>\n",
       "      <td>0</td>\n",
       "    </tr>\n",
       "  </tbody>\n",
       "</table>\n",
       "</div>"
      ],
      "text/plain": [
       "              一级分类  7天点击量  订单预定\n",
       "0   编程语言与程序设计         35         1\n",
       "1   编程语言与程序设计         49         0\n",
       "2   编程语言与程序设计         51         2\n",
       "3   编程语言与程序设计         64         1\n",
       "4   编程语言与程序设计         26         0\n",
       "5   编程语言与程序设计         60         1\n",
       "6   编程语言与程序设计        227        11\n",
       "7     网页制作/Web技术        100         7\n",
       "8   编程语言与程序设计        122         3\n",
       "9   编程语言与程序设计        111         5\n",
       "10            移动开发         85         4\n",
       "11  编程语言与程序设计        165         5\n",
       "12  编程语言与程序设计        131         1\n",
       "13  编程语言与程序设计        149        10\n",
       "14    网页制作/Web技术        188         8\n",
       "15  编程语言与程序设计       1139        79\n",
       "16  编程语言与程序设计        125         1\n",
       "17    网页制作/Web技术         57         0\n",
       "18  编程语言与程序设计        149         4\n",
       "19            移动开发         32         1\n",
       "20  编程语言与程序设计         52         1\n",
       "21  编程语言与程序设计        597        25\n",
       "22  编程语言与程序设计        474        15\n",
       "23  编程语言与程序设计         83         3\n",
       "24            移动开发         85         2\n",
       "25              数据库         58         2\n",
       "26  编程语言与程序设计        132         8\n",
       "27              数据库        128        13\n",
       "28            移动开发         59         0\n",
       "29  编程语言与程序设计         27         2\n",
       "30  编程语言与程序设计        239        13\n",
       "31  编程语言与程序设计         45         1\n",
       "32  编程语言与程序设计         28         0"
      ]
     },
     "execution_count": 100,
     "metadata": {},
     "output_type": "execute_result"
    }
   ],
   "source": [
    "df1 = df[['一级分类','7天点击量','订单预定']]\n",
    "df1"
   ]
  },
  {
   "cell_type": "code",
   "execution_count": 101,
   "metadata": {},
   "outputs": [
    {
     "name": "stdout",
     "output_type": "stream",
     "text": [
      "                    7天点击量  订单预定\n",
      "一级分类                               \n",
      "数据库                    186        15\n",
      "移动开发                  261         7\n",
      "编程语言与程序设计       4280       192\n",
      "网页制作/Web技术          345        15\n"
     ]
    }
   ],
   "source": [
    "#分组统计求和\n",
    "print(df1.groupby('一级分类').sum())"
   ]
  },
  {
   "cell_type": "code",
   "execution_count": 102,
   "metadata": {},
   "outputs": [
    {
     "data": {
      "text/html": [
       "<div>\n",
       "<style scoped>\n",
       "    .dataframe tbody tr th:only-of-type {\n",
       "        vertical-align: middle;\n",
       "    }\n",
       "\n",
       "    .dataframe tbody tr th {\n",
       "        vertical-align: top;\n",
       "    }\n",
       "\n",
       "    .dataframe thead th {\n",
       "        text-align: right;\n",
       "    }\n",
       "</style>\n",
       "<table border=\"1\" class=\"dataframe\">\n",
       "  <thead>\n",
       "    <tr style=\"text-align: right;\">\n",
       "      <th></th>\n",
       "      <th>一级分类</th>\n",
       "      <th>二级分类</th>\n",
       "      <th>7天点击量</th>\n",
       "      <th>订单预定</th>\n",
       "    </tr>\n",
       "  </thead>\n",
       "  <tbody>\n",
       "    <tr>\n",
       "      <th>0</th>\n",
       "      <td>编程语言与程序设计</td>\n",
       "      <td>ASP.NET</td>\n",
       "      <td>35</td>\n",
       "      <td>1</td>\n",
       "    </tr>\n",
       "    <tr>\n",
       "      <th>1</th>\n",
       "      <td>编程语言与程序设计</td>\n",
       "      <td>PHP</td>\n",
       "      <td>49</td>\n",
       "      <td>0</td>\n",
       "    </tr>\n",
       "    <tr>\n",
       "      <th>2</th>\n",
       "      <td>编程语言与程序设计</td>\n",
       "      <td>Java</td>\n",
       "      <td>51</td>\n",
       "      <td>2</td>\n",
       "    </tr>\n",
       "    <tr>\n",
       "      <th>3</th>\n",
       "      <td>编程语言与程序设计</td>\n",
       "      <td>PHP</td>\n",
       "      <td>64</td>\n",
       "      <td>1</td>\n",
       "    </tr>\n",
       "    <tr>\n",
       "      <th>4</th>\n",
       "      <td>编程语言与程序设计</td>\n",
       "      <td>JSP/JavaWeb</td>\n",
       "      <td>26</td>\n",
       "      <td>0</td>\n",
       "    </tr>\n",
       "    <tr>\n",
       "      <th>5</th>\n",
       "      <td>编程语言与程序设计</td>\n",
       "      <td>C#</td>\n",
       "      <td>60</td>\n",
       "      <td>1</td>\n",
       "    </tr>\n",
       "    <tr>\n",
       "      <th>6</th>\n",
       "      <td>编程语言与程序设计</td>\n",
       "      <td>C++/C语言</td>\n",
       "      <td>227</td>\n",
       "      <td>11</td>\n",
       "    </tr>\n",
       "    <tr>\n",
       "      <th>7</th>\n",
       "      <td>网页制作/Web技术</td>\n",
       "      <td>JavaScript</td>\n",
       "      <td>100</td>\n",
       "      <td>7</td>\n",
       "    </tr>\n",
       "    <tr>\n",
       "      <th>8</th>\n",
       "      <td>编程语言与程序设计</td>\n",
       "      <td>C#</td>\n",
       "      <td>122</td>\n",
       "      <td>3</td>\n",
       "    </tr>\n",
       "    <tr>\n",
       "      <th>9</th>\n",
       "      <td>编程语言与程序设计</td>\n",
       "      <td>C++/C语言</td>\n",
       "      <td>111</td>\n",
       "      <td>5</td>\n",
       "    </tr>\n",
       "    <tr>\n",
       "      <th>10</th>\n",
       "      <td>移动开发</td>\n",
       "      <td>Android</td>\n",
       "      <td>85</td>\n",
       "      <td>4</td>\n",
       "    </tr>\n",
       "    <tr>\n",
       "      <th>11</th>\n",
       "      <td>编程语言与程序设计</td>\n",
       "      <td>C++/C语言</td>\n",
       "      <td>165</td>\n",
       "      <td>5</td>\n",
       "    </tr>\n",
       "    <tr>\n",
       "      <th>12</th>\n",
       "      <td>编程语言与程序设计</td>\n",
       "      <td>JSP/JavaWeb</td>\n",
       "      <td>131</td>\n",
       "      <td>1</td>\n",
       "    </tr>\n",
       "    <tr>\n",
       "      <th>13</th>\n",
       "      <td>编程语言与程序设计</td>\n",
       "      <td>Java</td>\n",
       "      <td>149</td>\n",
       "      <td>10</td>\n",
       "    </tr>\n",
       "    <tr>\n",
       "      <th>14</th>\n",
       "      <td>网页制作/Web技术</td>\n",
       "      <td>HTML</td>\n",
       "      <td>188</td>\n",
       "      <td>8</td>\n",
       "    </tr>\n",
       "    <tr>\n",
       "      <th>15</th>\n",
       "      <td>编程语言与程序设计</td>\n",
       "      <td>Python</td>\n",
       "      <td>1139</td>\n",
       "      <td>79</td>\n",
       "    </tr>\n",
       "    <tr>\n",
       "      <th>16</th>\n",
       "      <td>编程语言与程序设计</td>\n",
       "      <td>Java</td>\n",
       "      <td>125</td>\n",
       "      <td>1</td>\n",
       "    </tr>\n",
       "    <tr>\n",
       "      <th>17</th>\n",
       "      <td>网页制作/Web技术</td>\n",
       "      <td>WEB前端</td>\n",
       "      <td>57</td>\n",
       "      <td>0</td>\n",
       "    </tr>\n",
       "    <tr>\n",
       "      <th>18</th>\n",
       "      <td>编程语言与程序设计</td>\n",
       "      <td>C++/C语言</td>\n",
       "      <td>149</td>\n",
       "      <td>4</td>\n",
       "    </tr>\n",
       "    <tr>\n",
       "      <th>19</th>\n",
       "      <td>移动开发</td>\n",
       "      <td>Android</td>\n",
       "      <td>32</td>\n",
       "      <td>1</td>\n",
       "    </tr>\n",
       "    <tr>\n",
       "      <th>20</th>\n",
       "      <td>编程语言与程序设计</td>\n",
       "      <td>ASP.NET</td>\n",
       "      <td>52</td>\n",
       "      <td>1</td>\n",
       "    </tr>\n",
       "    <tr>\n",
       "      <th>21</th>\n",
       "      <td>编程语言与程序设计</td>\n",
       "      <td>Python</td>\n",
       "      <td>597</td>\n",
       "      <td>25</td>\n",
       "    </tr>\n",
       "    <tr>\n",
       "      <th>22</th>\n",
       "      <td>编程语言与程序设计</td>\n",
       "      <td>Python</td>\n",
       "      <td>474</td>\n",
       "      <td>15</td>\n",
       "    </tr>\n",
       "    <tr>\n",
       "      <th>23</th>\n",
       "      <td>编程语言与程序设计</td>\n",
       "      <td>Java</td>\n",
       "      <td>83</td>\n",
       "      <td>3</td>\n",
       "    </tr>\n",
       "    <tr>\n",
       "      <th>24</th>\n",
       "      <td>移动开发</td>\n",
       "      <td>Android</td>\n",
       "      <td>85</td>\n",
       "      <td>2</td>\n",
       "    </tr>\n",
       "    <tr>\n",
       "      <th>25</th>\n",
       "      <td>数据库</td>\n",
       "      <td>Oracle</td>\n",
       "      <td>58</td>\n",
       "      <td>2</td>\n",
       "    </tr>\n",
       "    <tr>\n",
       "      <th>26</th>\n",
       "      <td>编程语言与程序设计</td>\n",
       "      <td>C#</td>\n",
       "      <td>132</td>\n",
       "      <td>8</td>\n",
       "    </tr>\n",
       "    <tr>\n",
       "      <th>27</th>\n",
       "      <td>数据库</td>\n",
       "      <td>SQL</td>\n",
       "      <td>128</td>\n",
       "      <td>13</td>\n",
       "    </tr>\n",
       "    <tr>\n",
       "      <th>28</th>\n",
       "      <td>移动开发</td>\n",
       "      <td>Android</td>\n",
       "      <td>59</td>\n",
       "      <td>0</td>\n",
       "    </tr>\n",
       "    <tr>\n",
       "      <th>29</th>\n",
       "      <td>编程语言与程序设计</td>\n",
       "      <td>C++/C语言</td>\n",
       "      <td>27</td>\n",
       "      <td>2</td>\n",
       "    </tr>\n",
       "    <tr>\n",
       "      <th>30</th>\n",
       "      <td>编程语言与程序设计</td>\n",
       "      <td>Python</td>\n",
       "      <td>239</td>\n",
       "      <td>13</td>\n",
       "    </tr>\n",
       "    <tr>\n",
       "      <th>31</th>\n",
       "      <td>编程语言与程序设计</td>\n",
       "      <td>C++/C语言</td>\n",
       "      <td>45</td>\n",
       "      <td>1</td>\n",
       "    </tr>\n",
       "    <tr>\n",
       "      <th>32</th>\n",
       "      <td>编程语言与程序设计</td>\n",
       "      <td>Visual Basic</td>\n",
       "      <td>28</td>\n",
       "      <td>0</td>\n",
       "    </tr>\n",
       "  </tbody>\n",
       "</table>\n",
       "</div>"
      ],
      "text/plain": [
       "              一级分类      二级分类  7天点击量  订单预定\n",
       "0   编程语言与程序设计       ASP.NET         35         1\n",
       "1   编程语言与程序设计           PHP         49         0\n",
       "2   编程语言与程序设计          Java         51         2\n",
       "3   编程语言与程序设计           PHP         64         1\n",
       "4   编程语言与程序设计   JSP/JavaWeb         26         0\n",
       "5   编程语言与程序设计            C#         60         1\n",
       "6   编程语言与程序设计     C++/C语言        227        11\n",
       "7     网页制作/Web技术    JavaScript        100         7\n",
       "8   编程语言与程序设计            C#        122         3\n",
       "9   编程语言与程序设计     C++/C语言        111         5\n",
       "10            移动开发       Android         85         4\n",
       "11  编程语言与程序设计     C++/C语言        165         5\n",
       "12  编程语言与程序设计   JSP/JavaWeb        131         1\n",
       "13  编程语言与程序设计          Java        149        10\n",
       "14    网页制作/Web技术          HTML        188         8\n",
       "15  编程语言与程序设计        Python       1139        79\n",
       "16  编程语言与程序设计          Java        125         1\n",
       "17    网页制作/Web技术       WEB前端         57         0\n",
       "18  编程语言与程序设计     C++/C语言        149         4\n",
       "19            移动开发       Android         32         1\n",
       "20  编程语言与程序设计       ASP.NET         52         1\n",
       "21  编程语言与程序设计        Python        597        25\n",
       "22  编程语言与程序设计        Python        474        15\n",
       "23  编程语言与程序设计          Java         83         3\n",
       "24            移动开发       Android         85         2\n",
       "25              数据库        Oracle         58         2\n",
       "26  编程语言与程序设计            C#        132         8\n",
       "27              数据库           SQL        128        13\n",
       "28            移动开发       Android         59         0\n",
       "29  编程语言与程序设计     C++/C语言         27         2\n",
       "30  编程语言与程序设计        Python        239        13\n",
       "31  编程语言与程序设计     C++/C语言         45         1\n",
       "32  编程语言与程序设计  Visual Basic         28         0"
      ]
     },
     "execution_count": 102,
     "metadata": {},
     "output_type": "execute_result"
    }
   ],
   "source": [
    "df1 = df[['一级分类','二级分类','7天点击量','订单预定']]\n",
    "df1"
   ]
  },
  {
   "cell_type": "code",
   "execution_count": 103,
   "metadata": {},
   "outputs": [
    {
     "name": "stdout",
     "output_type": "stream",
     "text": [
      "                                 7天点击量  订单预定\n",
      "一级分类           二级分类                         \n",
      "数据库             Oracle               58         2\n",
      "                   SQL                 128        13\n",
      "移动开发           Android             261         7\n",
      "编程语言与程序设计 ASP.NET              87         2\n",
      "                   C#                  314        12\n",
      "                   C++/C语言           724        28\n",
      "                   JSP/JavaWeb         157         1\n",
      "                   Java                408        16\n",
      "                   PHP                 113         1\n",
      "                   Python             2449       132\n",
      "                   Visual Basic         28         0\n",
      "网页制作/Web技术   HTML                188         8\n",
      "                   JavaScript          100         7\n",
      "                   WEB前端              57         0\n"
     ]
    }
   ],
   "source": [
    "#分组统计求和\n",
    "print(df1.groupby(['一级分类','二级分类']).sum())"
   ]
  },
  {
   "cell_type": "markdown",
   "metadata": {},
   "source": [
    "对分组统计结果使用聚合函数"
   ]
  },
  {
   "cell_type": "code",
   "execution_count": 104,
   "metadata": {},
   "outputs": [
    {
     "data": {
      "text/html": [
       "<div>\n",
       "<style scoped>\n",
       "    .dataframe tbody tr th:only-of-type {\n",
       "        vertical-align: middle;\n",
       "    }\n",
       "\n",
       "    .dataframe tbody tr th {\n",
       "        vertical-align: top;\n",
       "    }\n",
       "\n",
       "    .dataframe thead th {\n",
       "        text-align: right;\n",
       "    }\n",
       "</style>\n",
       "<table border=\"1\" class=\"dataframe\">\n",
       "  <thead>\n",
       "    <tr style=\"text-align: right;\">\n",
       "      <th></th>\n",
       "      <th>一级分类</th>\n",
       "      <th>7天点击量</th>\n",
       "      <th>订单预定</th>\n",
       "    </tr>\n",
       "  </thead>\n",
       "  <tbody>\n",
       "    <tr>\n",
       "      <th>0</th>\n",
       "      <td>编程语言与程序设计</td>\n",
       "      <td>35</td>\n",
       "      <td>1</td>\n",
       "    </tr>\n",
       "    <tr>\n",
       "      <th>1</th>\n",
       "      <td>编程语言与程序设计</td>\n",
       "      <td>49</td>\n",
       "      <td>0</td>\n",
       "    </tr>\n",
       "    <tr>\n",
       "      <th>2</th>\n",
       "      <td>编程语言与程序设计</td>\n",
       "      <td>51</td>\n",
       "      <td>2</td>\n",
       "    </tr>\n",
       "    <tr>\n",
       "      <th>3</th>\n",
       "      <td>编程语言与程序设计</td>\n",
       "      <td>64</td>\n",
       "      <td>1</td>\n",
       "    </tr>\n",
       "    <tr>\n",
       "      <th>4</th>\n",
       "      <td>编程语言与程序设计</td>\n",
       "      <td>26</td>\n",
       "      <td>0</td>\n",
       "    </tr>\n",
       "    <tr>\n",
       "      <th>5</th>\n",
       "      <td>编程语言与程序设计</td>\n",
       "      <td>60</td>\n",
       "      <td>1</td>\n",
       "    </tr>\n",
       "    <tr>\n",
       "      <th>6</th>\n",
       "      <td>编程语言与程序设计</td>\n",
       "      <td>227</td>\n",
       "      <td>11</td>\n",
       "    </tr>\n",
       "    <tr>\n",
       "      <th>7</th>\n",
       "      <td>网页制作/Web技术</td>\n",
       "      <td>100</td>\n",
       "      <td>7</td>\n",
       "    </tr>\n",
       "    <tr>\n",
       "      <th>8</th>\n",
       "      <td>编程语言与程序设计</td>\n",
       "      <td>122</td>\n",
       "      <td>3</td>\n",
       "    </tr>\n",
       "    <tr>\n",
       "      <th>9</th>\n",
       "      <td>编程语言与程序设计</td>\n",
       "      <td>111</td>\n",
       "      <td>5</td>\n",
       "    </tr>\n",
       "    <tr>\n",
       "      <th>10</th>\n",
       "      <td>移动开发</td>\n",
       "      <td>85</td>\n",
       "      <td>4</td>\n",
       "    </tr>\n",
       "    <tr>\n",
       "      <th>11</th>\n",
       "      <td>编程语言与程序设计</td>\n",
       "      <td>165</td>\n",
       "      <td>5</td>\n",
       "    </tr>\n",
       "    <tr>\n",
       "      <th>12</th>\n",
       "      <td>编程语言与程序设计</td>\n",
       "      <td>131</td>\n",
       "      <td>1</td>\n",
       "    </tr>\n",
       "    <tr>\n",
       "      <th>13</th>\n",
       "      <td>编程语言与程序设计</td>\n",
       "      <td>149</td>\n",
       "      <td>10</td>\n",
       "    </tr>\n",
       "    <tr>\n",
       "      <th>14</th>\n",
       "      <td>网页制作/Web技术</td>\n",
       "      <td>188</td>\n",
       "      <td>8</td>\n",
       "    </tr>\n",
       "    <tr>\n",
       "      <th>15</th>\n",
       "      <td>编程语言与程序设计</td>\n",
       "      <td>1139</td>\n",
       "      <td>79</td>\n",
       "    </tr>\n",
       "    <tr>\n",
       "      <th>16</th>\n",
       "      <td>编程语言与程序设计</td>\n",
       "      <td>125</td>\n",
       "      <td>1</td>\n",
       "    </tr>\n",
       "    <tr>\n",
       "      <th>17</th>\n",
       "      <td>网页制作/Web技术</td>\n",
       "      <td>57</td>\n",
       "      <td>0</td>\n",
       "    </tr>\n",
       "    <tr>\n",
       "      <th>18</th>\n",
       "      <td>编程语言与程序设计</td>\n",
       "      <td>149</td>\n",
       "      <td>4</td>\n",
       "    </tr>\n",
       "    <tr>\n",
       "      <th>19</th>\n",
       "      <td>移动开发</td>\n",
       "      <td>32</td>\n",
       "      <td>1</td>\n",
       "    </tr>\n",
       "    <tr>\n",
       "      <th>20</th>\n",
       "      <td>编程语言与程序设计</td>\n",
       "      <td>52</td>\n",
       "      <td>1</td>\n",
       "    </tr>\n",
       "    <tr>\n",
       "      <th>21</th>\n",
       "      <td>编程语言与程序设计</td>\n",
       "      <td>597</td>\n",
       "      <td>25</td>\n",
       "    </tr>\n",
       "    <tr>\n",
       "      <th>22</th>\n",
       "      <td>编程语言与程序设计</td>\n",
       "      <td>474</td>\n",
       "      <td>15</td>\n",
       "    </tr>\n",
       "    <tr>\n",
       "      <th>23</th>\n",
       "      <td>编程语言与程序设计</td>\n",
       "      <td>83</td>\n",
       "      <td>3</td>\n",
       "    </tr>\n",
       "    <tr>\n",
       "      <th>24</th>\n",
       "      <td>移动开发</td>\n",
       "      <td>85</td>\n",
       "      <td>2</td>\n",
       "    </tr>\n",
       "    <tr>\n",
       "      <th>25</th>\n",
       "      <td>数据库</td>\n",
       "      <td>58</td>\n",
       "      <td>2</td>\n",
       "    </tr>\n",
       "    <tr>\n",
       "      <th>26</th>\n",
       "      <td>编程语言与程序设计</td>\n",
       "      <td>132</td>\n",
       "      <td>8</td>\n",
       "    </tr>\n",
       "    <tr>\n",
       "      <th>27</th>\n",
       "      <td>数据库</td>\n",
       "      <td>128</td>\n",
       "      <td>13</td>\n",
       "    </tr>\n",
       "    <tr>\n",
       "      <th>28</th>\n",
       "      <td>移动开发</td>\n",
       "      <td>59</td>\n",
       "      <td>0</td>\n",
       "    </tr>\n",
       "    <tr>\n",
       "      <th>29</th>\n",
       "      <td>编程语言与程序设计</td>\n",
       "      <td>27</td>\n",
       "      <td>2</td>\n",
       "    </tr>\n",
       "    <tr>\n",
       "      <th>30</th>\n",
       "      <td>编程语言与程序设计</td>\n",
       "      <td>239</td>\n",
       "      <td>13</td>\n",
       "    </tr>\n",
       "    <tr>\n",
       "      <th>31</th>\n",
       "      <td>编程语言与程序设计</td>\n",
       "      <td>45</td>\n",
       "      <td>1</td>\n",
       "    </tr>\n",
       "    <tr>\n",
       "      <th>32</th>\n",
       "      <td>编程语言与程序设计</td>\n",
       "      <td>28</td>\n",
       "      <td>0</td>\n",
       "    </tr>\n",
       "  </tbody>\n",
       "</table>\n",
       "</div>"
      ],
      "text/plain": [
       "              一级分类  7天点击量  订单预定\n",
       "0   编程语言与程序设计         35         1\n",
       "1   编程语言与程序设计         49         0\n",
       "2   编程语言与程序设计         51         2\n",
       "3   编程语言与程序设计         64         1\n",
       "4   编程语言与程序设计         26         0\n",
       "5   编程语言与程序设计         60         1\n",
       "6   编程语言与程序设计        227        11\n",
       "7     网页制作/Web技术        100         7\n",
       "8   编程语言与程序设计        122         3\n",
       "9   编程语言与程序设计        111         5\n",
       "10            移动开发         85         4\n",
       "11  编程语言与程序设计        165         5\n",
       "12  编程语言与程序设计        131         1\n",
       "13  编程语言与程序设计        149        10\n",
       "14    网页制作/Web技术        188         8\n",
       "15  编程语言与程序设计       1139        79\n",
       "16  编程语言与程序设计        125         1\n",
       "17    网页制作/Web技术         57         0\n",
       "18  编程语言与程序设计        149         4\n",
       "19            移动开发         32         1\n",
       "20  编程语言与程序设计         52         1\n",
       "21  编程语言与程序设计        597        25\n",
       "22  编程语言与程序设计        474        15\n",
       "23  编程语言与程序设计         83         3\n",
       "24            移动开发         85         2\n",
       "25              数据库         58         2\n",
       "26  编程语言与程序设计        132         8\n",
       "27              数据库        128        13\n",
       "28            移动开发         59         0\n",
       "29  编程语言与程序设计         27         2\n",
       "30  编程语言与程序设计        239        13\n",
       "31  编程语言与程序设计         45         1\n",
       "32  编程语言与程序设计         28         0"
      ]
     },
     "execution_count": 104,
     "metadata": {},
     "output_type": "execute_result"
    }
   ],
   "source": [
    "df1 = df[['一级分类','7天点击量','订单预定']]\n",
    "df1"
   ]
  },
  {
   "cell_type": "code",
   "execution_count": 105,
   "metadata": {},
   "outputs": [
    {
     "name": "stdout",
     "output_type": "stream",
     "text": [
      "                    7天点击量  订单预定\n",
      "一级分类                               \n",
      "数据库                    186        15\n",
      "移动开发                  261         7\n",
      "编程语言与程序设计       4280       192\n",
      "网页制作/Web技术          345        15\n"
     ]
    }
   ],
   "source": [
    "#分组统计求和\n",
    "print(df1.groupby('一级分类').sum())"
   ]
  },
  {
   "cell_type": "code",
   "execution_count": 106,
   "metadata": {},
   "outputs": [
    {
     "name": "stdout",
     "output_type": "stream",
     "text": [
      "                     7天点击量       订单预定     \n",
      "                          mean   sum     mean  sum\n",
      "一级分类                                          \n",
      "数据库               93.000000   186     7.50   15\n",
      "移动开发             65.250000   261     1.75    7\n",
      "编程语言与程序设计  178.333333  4280     8.00  192\n",
      "网页制作/Web技术    115.000000   345     5.00   15\n"
     ]
    }
   ],
   "source": [
    "print(df1.groupby('一级分类').agg(['mean','sum']))"
   ]
  },
  {
   "cell_type": "code",
   "execution_count": null,
   "metadata": {},
   "outputs": [],
   "source": []
  },
  {
   "cell_type": "code",
   "execution_count": null,
   "metadata": {},
   "outputs": [],
   "source": []
  },
  {
   "cell_type": "code",
   "execution_count": null,
   "metadata": {},
   "outputs": [],
   "source": [
    "# -*- coding: utf-8 -*-\n",
    "import numpy as np\n",
    "import pandas as pd\n",
    "import csv as cs\n",
    "\n",
    "#读入ch04_case_transRecord.xlsx文件，将其放置在名为transrecord的dataframe中\n",
    "transrecord = pd.read_excel('ch04_case_transRecord.xlsx','Sheet1')\n",
    "\n",
    "#读入ch03_case_binNum.txt文件，因为该txt文件内部是用逗号分隔的卡号-卡种数据对，\n",
    "#因此将其当成符号分隔值文件csv读取，并将其转换成dataframe数据对象bcfile\n",
    "\n",
    "bcfile=cs.reader(open('ch04_case_binNum.txt','r',encoding='UTF-8'))\n",
    "\n",
    "carddata=[]\n",
    "code=[]\n",
    "card=[]\n",
    "for item in bcfile:\n",
    "    carddata.append(item)\n",
    "\n",
    "#因为ch04_case_binNum.txt没有换行，因此carddata是一个嵌套列表，[[data]]\n",
    "#其中data本身是一个5556项的列表，然后data是外层列表的唯一列表项\n",
    "#所以对这5556项的分别访问要使用双重下标。\n",
    "size = len(carddata[0])\n",
    "#奇数列表项是卡号的前n位，偶数列表项是发卡行信息\n",
    "count=0\n",
    "while(count<size):\n",
    "    if(count%2==0):\n",
    "        code.append(carddata[0][count])\n",
    "    if(count%2==1):\n",
    "        card.append(carddata[0][count])\n",
    "    count=count+1\n",
    "\n",
    "#将carddata和code两个列表组合成一个dataframe用于后续数据处理\n",
    "code2card =pd.DataFrame({'code':code,'cardinfo':card})\n",
    "\n",
    "#将transrecord中的卡号数据列提取出前6个字符,用于生成新的first6列数据\n",
    "#使用lambda函数式编程实现\n",
    "def extractFirst6(s):\n",
    "    return s[:6]\n",
    "    \n",
    "transrecord['卡号前6位']=transrecord['卡号'].apply(lambda s:extractFirst6(s))\n",
    "\n",
    "#将前6为卡号与carddata中数据进行匹配查找，确定该笔交易的银行卡信息完成\n",
    "def cardinfo(s):\n",
    "    t=\"\".join(list(code2card[code2card.code==s].cardinfo))\n",
    "    return t\n",
    "transrecord['卡信息']=transrecord['卡号前6位'].apply(lambda s:cardinfo(s))\n",
    "\n",
    "#将其转换成字符串添加到dataframe的“匹配发卡行”列\n",
    "pattern1='行'\n",
    "pattern2='社'\n",
    "def matchBank(s):\n",
    "    t=\"\".join(list(code2card[code2card.code==s].cardinfo))\n",
    "    loc=t.find(pattern1)\n",
    "    if(loc<=2):\n",
    "        loc=t.find(pattern2)\n",
    "    t1=t[0:loc+1]\n",
    "    return t1\n",
    "transrecord['匹配发卡行']=transrecord['卡号前6位'].apply(lambda s:matchBank(s))\n",
    "\n",
    "#将数据中没有匹配到的空单元格用np.nan填充，然后将其所在行删去\n",
    "#将数据中没有匹配到的空单元格\\所在行删去\n",
    "transrecord.loc[transrecord['匹配发卡行']=='']=np.nan\n",
    "transrecord.dropna(inplace=True)\n",
    "\n",
    "#按照匹配的发卡行结果对消费金额求和，本例中只有“金额”列是浮点数据，可以进行求和运算\n",
    "#找出刷卡金额排在前10的发卡银行\n",
    "sumbank=transrecord.groupby('匹配发卡行').sum()\n",
    "top10bank=sumbank.sort_values(by='金额',ascending=False)[:10].copy()\n",
    "print(top10bank)\n",
    "\n",
    "#绘制图表，这里使用到了matplotlib，后续章节将对其有详细介绍\n",
    "import matplotlib.pyplot as plt\n",
    "%matplotlib inline \n",
    "# notebook使用\n",
    "plt.rcParams['font.sans-serif']=['SimHei']\n",
    "\n",
    "fig,ax = plt.subplots(figsize = (15,8) , dpi = 300)\n",
    "plt.plot(top10bank.index,top10bank['金额'])\n",
    "plt.xticks(fontsize=15)\n",
    "plt.savefig(\"ch04_case_bankcard.png\",dpi=300,bbox_inches='tight')\n",
    "plt.show()"
   ]
  },
  {
   "cell_type": "code",
   "execution_count": null,
   "metadata": {},
   "outputs": [],
   "source": [
    "import numpy as np\n",
    "import pandas as pd\n",
    "import csv as cs"
   ]
  },
  {
   "cell_type": "code",
   "execution_count": null,
   "metadata": {},
   "outputs": [],
   "source": [
    "#读入ch04_case_transRecord.xlsx文件，将其放置在名为transrecord的dataframe中\n",
    "transrecord = pd.read_excel('data/ch04_case_transRecord.xlsx','Sheet1')"
   ]
  },
  {
   "cell_type": "code",
   "execution_count": null,
   "metadata": {},
   "outputs": [],
   "source": [
    "transrecord"
   ]
  },
  {
   "cell_type": "code",
   "execution_count": null,
   "metadata": {},
   "outputs": [],
   "source": [
    "transrecord.head()"
   ]
  },
  {
   "cell_type": "code",
   "execution_count": null,
   "metadata": {},
   "outputs": [],
   "source": [
    "transrecord.info()"
   ]
  },
  {
   "cell_type": "code",
   "execution_count": null,
   "metadata": {},
   "outputs": [],
   "source": [
    "#读入ch03_case_binNum.txt文件，因为该txt文件内部是用逗号分隔的卡号-卡种数据对，\n",
    "#因此将其当成符号分隔值文件csv读取，并将其转换成dataframe数据对象bcfile\n",
    "\n",
    "bcfile=cs.reader(open('data/ch04_case_binNum.txt','r',encoding='UTF-8'))"
   ]
  },
  {
   "cell_type": "code",
   "execution_count": null,
   "metadata": {},
   "outputs": [],
   "source": [
    "bcfile"
   ]
  },
  {
   "cell_type": "code",
   "execution_count": null,
   "metadata": {},
   "outputs": [],
   "source": [
    "carddata=[]\n",
    "code=[]\n",
    "card=[]\n",
    "for item in bcfile:\n",
    "    carddata.append(item)"
   ]
  },
  {
   "cell_type": "code",
   "execution_count": null,
   "metadata": {},
   "outputs": [],
   "source": [
    "carddata"
   ]
  },
  {
   "cell_type": "code",
   "execution_count": null,
   "metadata": {},
   "outputs": [],
   "source": [
    "#因为ch04_case_binNum.txt没有换行，因此carddata是一个嵌套列表，[[data]]\n",
    "#其中data本身是一个5556项的列表，然后data是外层列表的唯一列表项\n",
    "#所以对这5556项的分别访问要使用双重下标。\n",
    "size = len(carddata[0])\n",
    "size"
   ]
  },
  {
   "cell_type": "code",
   "execution_count": null,
   "metadata": {},
   "outputs": [],
   "source": [
    "carddata[0]"
   ]
  },
  {
   "cell_type": "code",
   "execution_count": null,
   "metadata": {},
   "outputs": [],
   "source": [
    "#奇数列表项是卡号的前n位，偶数列表项是发卡行信息\n",
    "count=0\n",
    "while(count<size):\n",
    "    if(count%2==0):\n",
    "        code.append(carddata[0][count])\n",
    "    if(count%2==1):\n",
    "        card.append(carddata[0][count])\n",
    "    count=count+1"
   ]
  },
  {
   "cell_type": "code",
   "execution_count": null,
   "metadata": {},
   "outputs": [],
   "source": [
    "code"
   ]
  },
  {
   "cell_type": "code",
   "execution_count": null,
   "metadata": {},
   "outputs": [],
   "source": [
    "card "
   ]
  },
  {
   "cell_type": "code",
   "execution_count": null,
   "metadata": {},
   "outputs": [],
   "source": [
    "#将carddata和code两个列表组合成一个dataframe用于后续数据处理\n",
    "code2card =pd.DataFrame({'code':code,'cardinfo':card})"
   ]
  },
  {
   "cell_type": "code",
   "execution_count": null,
   "metadata": {},
   "outputs": [],
   "source": [
    "code2card.head()"
   ]
  },
  {
   "cell_type": "code",
   "execution_count": null,
   "metadata": {},
   "outputs": [],
   "source": [
    "transrecord.head()"
   ]
  },
  {
   "cell_type": "code",
   "execution_count": null,
   "metadata": {},
   "outputs": [],
   "source": [
    "#将transrecord中的卡号数据列提取出前6个字符,用于生成新的first6列数据\n",
    "#使用lambda函数式编程实现\n",
    "def extractFirst6(s):\n",
    "    return s[:6]"
   ]
  },
  {
   "cell_type": "code",
   "execution_count": null,
   "metadata": {},
   "outputs": [],
   "source": [
    "transrecord['卡号前6位']=transrecord['卡号'].apply(lambda s:extractFirst6(s))"
   ]
  },
  {
   "cell_type": "code",
   "execution_count": null,
   "metadata": {},
   "outputs": [],
   "source": [
    "transrecord.head()"
   ]
  },
  {
   "cell_type": "code",
   "execution_count": null,
   "metadata": {},
   "outputs": [],
   "source": [
    "#将前6为卡号与carddata中数据进行匹配查找，确定该笔交易的银行卡信息完成\n",
    "def cardinfo(s):\n",
    "    t=\"\".join(list(code2card[code2card.code==s].cardinfo))\n",
    "    return t"
   ]
  },
  {
   "cell_type": "code",
   "execution_count": null,
   "metadata": {},
   "outputs": [],
   "source": [
    "transrecord['卡信息']=transrecord['卡号前6位'].apply(lambda s:cardinfo(s))"
   ]
  },
  {
   "cell_type": "code",
   "execution_count": null,
   "metadata": {},
   "outputs": [],
   "source": [
    "transrecord.head() "
   ]
  },
  {
   "cell_type": "code",
   "execution_count": null,
   "metadata": {},
   "outputs": [],
   "source": []
  }
 ],
 "metadata": {
  "kernelspec": {
   "display_name": "Python 3 (ipykernel)",
   "language": "python",
   "name": "python3"
  },
  "language_info": {
   "codemirror_mode": {
    "name": "ipython",
    "version": 3
   },
   "file_extension": ".py",
   "mimetype": "text/x-python",
   "name": "python",
   "nbconvert_exporter": "python",
   "pygments_lexer": "ipython3",
   "version": "3.9.12"
  }
 },
 "nbformat": 4,
 "nbformat_minor": 2
}
