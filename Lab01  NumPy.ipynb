{
 "cells": [
  {
   "cell_type": "markdown",
   "metadata": {},
   "source": [
    "#### 0. 导入NumPy"
   ]
  },
  {
   "cell_type": "code",
   "execution_count": 1,
   "metadata": {},
   "outputs": [],
   "source": [
    "import numpy as np"
   ]
  },
  {
   "cell_type": "markdown",
   "metadata": {},
   "source": [
    "#### 测试"
   ]
  },
  {
   "cell_type": "code",
   "execution_count": 2,
   "metadata": {},
   "outputs": [
    {
     "name": "stdout",
     "output_type": "stream",
     "text": [
      "1.19.5\n"
     ]
    }
   ],
   "source": [
    "print(np.__version__)"
   ]
  },
  {
   "cell_type": "markdown",
   "metadata": {},
   "source": [
    "### 1. 创建数组"
   ]
  },
  {
   "cell_type": "markdown",
   "metadata": {},
   "source": [
    "### 1.1 创建简单的数组"
   ]
  },
  {
   "cell_type": "code",
   "execution_count": 3,
   "metadata": {},
   "outputs": [
    {
     "name": "stdout",
     "output_type": "stream",
     "text": [
      "n1= [2 3 4]\n",
      "数组元素类型： int32\n"
     ]
    }
   ],
   "source": [
    "#定义数组a\n",
    "ls=[2,3,4]\n",
    "n1 = np.array( ls ) \n",
    "#调用dtype输出素组元素类型\n",
    "print('n1=',n1)\n",
    "print('数组元素类型：', n1.dtype)"
   ]
  },
  {
   "cell_type": "code",
   "execution_count": 4,
   "metadata": {},
   "outputs": [
    {
     "data": {
      "text/plain": [
       "numpy.ndarray"
      ]
     },
     "execution_count": 4,
     "metadata": {},
     "output_type": "execute_result"
    }
   ],
   "source": [
    "type(n1)"
   ]
  },
  {
   "cell_type": "code",
   "execution_count": 5,
   "metadata": {},
   "outputs": [
    {
     "name": "stdout",
     "output_type": "stream",
     "text": [
      "n2= [1.2 3.5 5.1]\n",
      "数组元素类型： float64\n"
     ]
    }
   ],
   "source": [
    "n2 = np.array([1.2, 3.5, 5.1])\n",
    "print('n2=',n2)\n",
    "print('数组元素类型：', n2.dtype)"
   ]
  },
  {
   "cell_type": "code",
   "execution_count": 6,
   "metadata": {},
   "outputs": [
    {
     "name": "stdout",
     "output_type": "stream",
     "text": [
      "n3=\n",
      " [[1.5 2.  3. ]\n",
      " [4.  5.  6. ]]\n",
      "数组元素类型： float64\n"
     ]
    }
   ],
   "source": [
    "#定义二维数组\n",
    "n3 = np.array([(1.5,2,3),(4,5,6)]) \n",
    "print('n3=\\n',n3)\n",
    "print('数组元素类型：', n3.dtype)"
   ]
  },
  {
   "cell_type": "code",
   "execution_count": 7,
   "metadata": {},
   "outputs": [
    {
     "data": {
      "text/plain": [
       "(2, 3)"
      ]
     },
     "execution_count": 7,
     "metadata": {},
     "output_type": "execute_result"
    }
   ],
   "source": [
    "n3.shape"
   ]
  },
  {
   "cell_type": "code",
   "execution_count": 8,
   "metadata": {},
   "outputs": [
    {
     "name": "stdout",
     "output_type": "stream",
     "text": [
      "n4=\n",
      " [[1.+0.j 2.+0.j]\n",
      " [3.+0.j 4.+0.j]]\n",
      "数组元素类型： complex64\n"
     ]
    }
   ],
   "source": [
    "#定义复数元素数组d\n",
    "#元素类型限定为complex64\n",
    "n4 = np.array([[1,2], [3,4]], dtype=np.complex64)    \n",
    "print('n4=\\n',n4)\n",
    "print('数组元素类型：',n4.dtype)"
   ]
  },
  {
   "cell_type": "code",
   "execution_count": 9,
   "metadata": {},
   "outputs": [
    {
     "data": {
      "text/plain": [
       "(2, 2)"
      ]
     },
     "execution_count": 9,
     "metadata": {},
     "output_type": "execute_result"
    }
   ],
   "source": [
    "n4.shape"
   ]
  },
  {
   "cell_type": "markdown",
   "metadata": {},
   "source": [
    "### 1.2 不同方式创建数组"
   ]
  },
  {
   "cell_type": "markdown",
   "metadata": {},
   "source": [
    "很多数据分析算法中需要构造全0数组、全1数组以及数据元素按照固定间隔变化的数组，NumPy提供的zeros()、ones()和arrange()等函数就可以用于快速创建这样的数组"
   ]
  },
  {
   "cell_type": "code",
   "execution_count": 10,
   "metadata": {},
   "outputs": [
    {
     "name": "stdout",
     "output_type": "stream",
     "text": [
      "n1=\n",
      " [[0. 0. 0. 0.]\n",
      " [0. 0. 0. 0.]\n",
      " [0. 0. 0. 0.]]\n",
      "数组元素类型： float64\n"
     ]
    }
   ],
   "source": [
    "#定义3*4的二维数组，并使用0填充\n",
    "n1 = np.zeros((3,4))                 \n",
    "print('n1=\\n',n1)\n",
    "print('数组元素类型：',n1.dtype)"
   ]
  },
  {
   "cell_type": "code",
   "execution_count": 11,
   "metadata": {},
   "outputs": [
    {
     "name": "stdout",
     "output_type": "stream",
     "text": [
      "n2=\n",
      " [[[1 1 1 1]\n",
      "  [1 1 1 1]\n",
      "  [1 1 1 1]]\n",
      "\n",
      " [[1 1 1 1]\n",
      "  [1 1 1 1]\n",
      "  [1 1 1 1]]]\n",
      "数组元素类型： int16\n"
     ]
    }
   ],
   "source": [
    "#定义2*3*4的三维数组，并使用1填充\n",
    "#元素类型限定为int16\n",
    "n2 = np.ones((2,3,4),dtype=np.int16)    \n",
    "print('n2=\\n',n2)\n",
    "print('数组元素类型：',n2.dtype)"
   ]
  },
  {
   "cell_type": "code",
   "execution_count": 12,
   "metadata": {},
   "outputs": [
    {
     "data": {
      "text/plain": [
       "(2, 3, 4)"
      ]
     },
     "execution_count": 12,
     "metadata": {},
     "output_type": "execute_result"
    }
   ],
   "source": [
    "n2.shape"
   ]
  },
  {
   "cell_type": "markdown",
   "metadata": {},
   "source": [
    "### 1.3 从数值范围创建数组"
   ]
  },
  {
   "cell_type": "code",
   "execution_count": 13,
   "metadata": {},
   "outputs": [
    {
     "name": "stdout",
     "output_type": "stream",
     "text": [
      "n1= [10 15 20 25 30 35 40 45]\n",
      "数组元素类型： int32\n"
     ]
    }
   ],
   "source": [
    "#定义数组，取值范围为[10,30),元素增长步长为5，\n",
    "#注意区间开闭\n",
    "n1 = np.arange(10,50,5)           \n",
    "print('n1=',n1)\n",
    "print('数组元素类型：', n1.dtype) "
   ]
  },
  {
   "cell_type": "code",
   "execution_count": 14,
   "metadata": {},
   "outputs": [
    {
     "name": "stdout",
     "output_type": "stream",
     "text": [
      "n2= [0.  0.1 0.2 0.3 0.4 0.5 0.6 0.7 0.8 0.9 1.  1.1 1.2 1.3 1.4 1.5 1.6 1.7\n",
      " 1.8 1.9]\n",
      "数组元素类型： float64\n"
     ]
    }
   ],
   "source": [
    "#定义数组，取值范围为[0,2),元素增长步长为0.3，\n",
    "#注意区间开闭\n",
    "n2 = np.arange(0, 2, 0.1)          \n",
    "print('n2=',n2)\n",
    "print('数组元素类型：',n2.dtype)"
   ]
  },
  {
   "cell_type": "code",
   "execution_count": 15,
   "metadata": {},
   "outputs": [
    {
     "data": {
      "text/plain": [
       "(20,)"
      ]
     },
     "execution_count": 15,
     "metadata": {},
     "output_type": "execute_result"
    }
   ],
   "source": [
    "n2.shape"
   ]
  },
  {
   "cell_type": "code",
   "execution_count": 16,
   "metadata": {},
   "outputs": [
    {
     "name": "stdout",
     "output_type": "stream",
     "text": [
      "n3=\n",
      " [[ 0  1  2  3  4]\n",
      " [ 5  6  7  8  9]\n",
      " [10 11 12 13 14]]\n",
      "数组轴个数： 2\n",
      "数组形状： (3, 5)\n",
      "数组元素总个数： 15\n",
      "数组元素类型： int32\n",
      "数组元素字节大小： 4\n",
      "数组数据缓冲区地址： <memory at 0x00000283FD4CD048>\n"
     ]
    }
   ],
   "source": [
    "#定义数组n3，取值范围为[0,14),缺省步长为1，并调用reshape将其设置为3*5的数组\n",
    "#显示数组i的各项属性\n",
    "n3 = np.arange(15).reshape(3, 5) \n",
    "print('n3=\\n',n3)\n",
    "print('数组轴个数：', n3.ndim)\n",
    "print('数组形状：', n3.shape)\n",
    "print('数组元素总个数：', n3.size)\n",
    "print('数组元素类型：', n3.dtype)\n",
    "print('数组元素字节大小：', n3.itemsize)\n",
    "print('数组数据缓冲区地址：', n3.data)"
   ]
  },
  {
   "cell_type": "markdown",
   "metadata": {},
   "source": [
    "#### 1.4 使用linspace函数创建等差数列"
   ]
  },
  {
   "cell_type": "markdown",
   "metadata": {},
   "source": [
    "linspace(start,stop,num)"
   ]
  },
  {
   "cell_type": "code",
   "execution_count": 17,
   "metadata": {},
   "outputs": [
    {
     "name": "stdout",
     "output_type": "stream",
     "text": [
      "[ 7500.  8000.  8500.  9000.  9500. 10000.]\n"
     ]
    }
   ],
   "source": [
    "n1 = np.linspace(7500,10000,6)\n",
    "print(n1)"
   ]
  },
  {
   "cell_type": "markdown",
   "metadata": {},
   "source": [
    "#### 1.5 生成随机数组"
   ]
  },
  {
   "cell_type": "markdown",
   "metadata": {},
   "source": [
    "rand函数用于生成(0,1)之间的随机数组"
   ]
  },
  {
   "cell_type": "code",
   "execution_count": 18,
   "metadata": {},
   "outputs": [
    {
     "name": "stdout",
     "output_type": "stream",
     "text": [
      "[0.99514996 0.21994216 0.05431239 0.31976521 0.25940414]\n"
     ]
    }
   ],
   "source": [
    "n1 = np.random.rand(5)\n",
    "print(n1)"
   ]
  },
  {
   "cell_type": "code",
   "execution_count": 19,
   "metadata": {},
   "outputs": [
    {
     "name": "stdout",
     "output_type": "stream",
     "text": [
      "(2, 5)\n",
      "[[0.56358644 0.2718127  0.84004778 0.85315053 0.1121617 ]\n",
      " [0.96991642 0.35473968 0.45497481 0.43072479 0.51886272]]\n"
     ]
    }
   ],
   "source": [
    "n2 = np.random.rand(2,5)\n",
    "print(n2.shape)\n",
    "print(n2)"
   ]
  },
  {
   "cell_type": "markdown",
   "metadata": {},
   "source": [
    "randn用于从正态分布中返回随机生成的数组"
   ]
  },
  {
   "cell_type": "code",
   "execution_count": 20,
   "metadata": {},
   "outputs": [
    {
     "data": {
      "text/plain": [
       "array([-0.85886852,  0.49989954, -1.38764781, -0.66581807, -0.77175898])"
      ]
     },
     "execution_count": 20,
     "metadata": {},
     "output_type": "execute_result"
    }
   ],
   "source": [
    "n1 = np.random.randn(5)\n",
    "n1 "
   ]
  },
  {
   "cell_type": "code",
   "execution_count": 21,
   "metadata": {},
   "outputs": [
    {
     "data": {
      "text/plain": [
       "array([[ 0.40450033,  0.66680893, -0.42114127,  0.49896436,  1.1613726 ],\n",
       "       [-1.75088897, -0.25630838,  0.64715606,  1.06997488, -0.98075998]])"
      ]
     },
     "execution_count": 21,
     "metadata": {},
     "output_type": "execute_result"
    }
   ],
   "source": [
    "n2 = np.random.randn(2,5)\n",
    "n2 "
   ]
  },
  {
   "cell_type": "markdown",
   "metadata": {},
   "source": [
    "randint函数用于生成一定范围内的随机数组（整数）"
   ]
  },
  {
   "cell_type": "code",
   "execution_count": 22,
   "metadata": {},
   "outputs": [
    {
     "data": {
      "text/plain": [
       "array([1, 2, 2, 1, 2, 1, 2, 2, 1, 2])"
      ]
     },
     "execution_count": 22,
     "metadata": {},
     "output_type": "execute_result"
    }
   ],
   "source": [
    "n1 = np.random.randint(1,3,10)\n",
    "n1 "
   ]
  },
  {
   "cell_type": "code",
   "execution_count": 23,
   "metadata": {},
   "outputs": [
    {
     "data": {
      "text/plain": [
       "array([5, 6])"
      ]
     },
     "execution_count": 23,
     "metadata": {},
     "output_type": "execute_result"
    }
   ],
   "source": [
    "n2 = np.random.randint(5,10,2)\n",
    "n2 "
   ]
  },
  {
   "cell_type": "markdown",
   "metadata": {},
   "source": [
    "#### normal函数用于生成正态分布的随机数 "
   ]
  },
  {
   "cell_type": "code",
   "execution_count": 24,
   "metadata": {},
   "outputs": [
    {
     "data": {
      "text/plain": [
       "array([ 0.12831156, -0.09051618, -0.09176039,  0.00878548, -0.03859076,\n",
       "        0.01863746, -0.02467599,  0.015994  ,  0.09134034,  0.01706634])"
      ]
     },
     "execution_count": 24,
     "metadata": {},
     "output_type": "execute_result"
    }
   ],
   "source": [
    "#0:正态分布的均值\n",
    "#0.1：正态分布的标准差\n",
    "#10：数组的维数\n",
    "n1 = np.random.normal(0,0.1,10)\n",
    "n1 "
   ]
  },
  {
   "cell_type": "markdown",
   "metadata": {},
   "source": [
    "#### 从已有的数据结构中创建数组"
   ]
  },
  {
   "cell_type": "code",
   "execution_count": 25,
   "metadata": {},
   "outputs": [
    {
     "name": "stdout",
     "output_type": "stream",
     "text": [
      "[1 2 3]\n",
      "[[1 1]\n",
      " [1 2]]\n",
      "[1 2 3]\n",
      "[[1 1]\n",
      " [1 2]\n",
      " [1 3]]\n",
      "[[1 1]\n",
      " [1 2]]\n"
     ]
    }
   ],
   "source": [
    "import numpy as np                    #导入numpy模块\n",
    "n1 = np.asarray([1,2,3])              #通过列表创建数组\n",
    "n2 = np.asarray([(1,1),(1,2)])        #通过列表的元组创建数组\n",
    "n3 = np.asarray((1,2,3))              #通过元组创建数组\n",
    "n4= np.asarray(((1,1),(1,2),(1,3)))   #通过元组的元组创建数组\n",
    "n5 = np.asarray(([1,1],[1,2]))        #通过元组的列表创建数组\n",
    "print(n1)\n",
    "print(n2)\n",
    "print(n3)\n",
    "print(n4)\n",
    "print(n5)"
   ]
  },
  {
   "cell_type": "markdown",
   "metadata": {},
   "source": [
    "### 2. 数组的基本操作"
   ]
  },
  {
   "cell_type": "markdown",
   "metadata": {},
   "source": [
    "### 2.1 数组运算"
   ]
  },
  {
   "cell_type": "code",
   "execution_count": 26,
   "metadata": {},
   "outputs": [
    {
     "name": "stdout",
     "output_type": "stream",
     "text": [
      "原始数组：\n",
      "a= [20 30 40 50]\n",
      "b= [0 1 2 3]\n"
     ]
    }
   ],
   "source": [
    "#重新对以上cell中的数组名进行赋值\n",
    "a = np.array([20,30,40,50])\n",
    "b = np.arange(4) \n",
    "print('原始数组：')\n",
    "print('a=',a)\n",
    "print('b=',b)"
   ]
  },
  {
   "cell_type": "code",
   "execution_count": 27,
   "metadata": {},
   "outputs": [
    {
     "name": "stdout",
     "output_type": "stream",
     "text": [
      "a+b = [20 31 42 53]\n"
     ]
    }
   ],
   "source": [
    "#数组加法运算\n",
    "print('a+b =', a+b)"
   ]
  },
  {
   "cell_type": "code",
   "execution_count": 28,
   "metadata": {},
   "outputs": [
    {
     "name": "stdout",
     "output_type": "stream",
     "text": [
      "a-b = [20 29 38 47]\n"
     ]
    }
   ],
   "source": [
    "#数组减法运算\n",
    "print('a-b =', a-b)"
   ]
  },
  {
   "cell_type": "code",
   "execution_count": 29,
   "metadata": {},
   "outputs": [],
   "source": [
    "n1 = np.array([1,2])\n",
    "n2 = np.array([3,4])"
   ]
  },
  {
   "cell_type": "code",
   "execution_count": 30,
   "metadata": {},
   "outputs": [
    {
     "name": "stdout",
     "output_type": "stream",
     "text": [
      "n1*n2 = [3 8]\n"
     ]
    }
   ],
   "source": [
    "#数组乘法运算\n",
    "print('n1*n2 =', n1*n2)"
   ]
  },
  {
   "cell_type": "code",
   "execution_count": 31,
   "metadata": {},
   "outputs": [
    {
     "name": "stdout",
     "output_type": "stream",
     "text": [
      "n1/n2 = [0.33333333 0.5       ]\n"
     ]
    }
   ],
   "source": [
    "#数组除法运算\n",
    "print('n1/n2 =', n1/n2)"
   ]
  },
  {
   "cell_type": "code",
   "execution_count": 32,
   "metadata": {},
   "outputs": [
    {
     "name": "stdout",
     "output_type": "stream",
     "text": [
      "n1 ** 2 = [1 4]\n"
     ]
    }
   ],
   "source": [
    "#幂运算\n",
    "print('n1 ** 2 =', n1**2)"
   ]
  },
  {
   "cell_type": "code",
   "execution_count": 33,
   "metadata": {},
   "outputs": [
    {
     "name": "stdout",
     "output_type": "stream",
     "text": [
      "n3 ** 0.5 = [3. 4.]\n"
     ]
    }
   ],
   "source": [
    "#幂运算\n",
    "n3 = np.array([9,16])\n",
    "print('n3 ** 0.5 =', n3**0.5)"
   ]
  },
  {
   "cell_type": "code",
   "execution_count": 34,
   "metadata": {},
   "outputs": [
    {
     "name": "stdout",
     "output_type": "stream",
     "text": [
      "n1 ** n2 = [ 1 16]\n"
     ]
    }
   ],
   "source": [
    "n1 = np.array([1,2])\n",
    "n2 = np.array([3,4])\n",
    "\n",
    "print('n1 ** n2 =', n1**n2)"
   ]
  },
  {
   "cell_type": "markdown",
   "metadata": {},
   "source": [
    "#### 比较运算"
   ]
  },
  {
   "cell_type": "markdown",
   "metadata": {},
   "source": [
    "数组的比较运算是数组中对应位置元素的比较运算，比较后的结果是布尔值数组"
   ]
  },
  {
   "cell_type": "code",
   "execution_count": 35,
   "metadata": {},
   "outputs": [
    {
     "name": "stdout",
     "output_type": "stream",
     "text": [
      "[False False]\n",
      "[False False]\n",
      "[ True  True]\n",
      "[ True  True]\n"
     ]
    }
   ],
   "source": [
    "import numpy as np\n",
    "n1=np.array([1,2])  #创建一维数组\n",
    "n2=np.array([3,4])\n",
    "print(n1>=n2)       #大于等于\n",
    "print(n1==n2)       #等于\n",
    "print(n1<=n2)       #小于等于\n",
    "print(n1!=n2)       #不等于"
   ]
  },
  {
   "cell_type": "code",
   "execution_count": 36,
   "metadata": {},
   "outputs": [
    {
     "name": "stdout",
     "output_type": "stream",
     "text": [
      "[[False False]\n",
      " [False False]]\n",
      "[[False False]\n",
      " [False False]]\n",
      "[[ True  True]\n",
      " [ True  True]]\n",
      "[[ True  True]\n",
      " [ True  True]]\n"
     ]
    }
   ],
   "source": [
    "n3=np.array([[1,2],[3,4]])  #创建一维数组\n",
    "n4=np.array([[3,4],[5,6]])\n",
    "print(n3>=n4)       #大于等于\n",
    "print(n3==n4)       #等于\n",
    "print(n3<=n4)       #小于等于\n",
    "print(n3!=n4)       #不等于"
   ]
  },
  {
   "cell_type": "markdown",
   "metadata": {},
   "source": [
    "#### 数组的标量运算"
   ]
  },
  {
   "cell_type": "code",
   "execution_count": 37,
   "metadata": {},
   "outputs": [
    {
     "name": "stdout",
     "output_type": "stream",
     "text": [
      "[ 7500  8000  8500  9000  9500 10000]\n",
      "[ 7.5  8.   8.5  9.   9.5 10. ]\n"
     ]
    }
   ],
   "source": [
    "n1 = np.linspace(7500,10000,6,dtype='int')  #创建等差数列数组\n",
    "print(n1)\n",
    "print(n1/1000)                         "
   ]
  },
  {
   "cell_type": "markdown",
   "metadata": {},
   "source": [
    "### 2.2  数组的索引与切片"
   ]
  },
  {
   "cell_type": "markdown",
   "metadata": {},
   "source": [
    "数组中的数据元素可以利用下标随机访问，也可以按照一定条件分割提取，还可以进行重复运算。通常，称用下标随机访问数组元素的操作为索引，称分割提取数组元素的操作为切片，称数组重复运算为迭代。数据挖掘算法往往要通过数组索引、切片与迭代等操作对训练样本和测试样本进行数据预处理。NumPy提供了强大而灵活的数组索引、切片以及迭代等方法"
   ]
  },
  {
   "cell_type": "markdown",
   "metadata": {},
   "source": [
    "数组的切片可以理解为对数组的分割，按照等分或者不等分，将一个数组切割为多个片段。"
   ]
  },
  {
   "cell_type": "markdown",
   "metadata": {},
   "source": [
    "[start:stop:step]\n",
    "- start:起始索引\n",
    "- stop: 终止索引\n",
    "- step: 步长"
   ]
  },
  {
   "cell_type": "code",
   "execution_count": 38,
   "metadata": {},
   "outputs": [
    {
     "name": "stdout",
     "output_type": "stream",
     "text": [
      "[ 1  2  3  4  5  6  7  8  9 10]\n"
     ]
    }
   ],
   "source": [
    "#用下标/索引访问数组元素\n",
    "import numpy as np\n",
    "ls=[1,2,3,4,5,6,7,8,9,10]\n",
    "a=np.array(ls) \n",
    "print(a)"
   ]
  },
  {
   "cell_type": "code",
   "execution_count": 39,
   "metadata": {},
   "outputs": [
    {
     "name": "stdout",
     "output_type": "stream",
     "text": [
      "[ 1  2  3  4  5  6  7  8  9 10]\n"
     ]
    }
   ],
   "source": [
    "import numpy as np\n",
    "n = np.arange(1,11)\n",
    "print(n)"
   ]
  },
  {
   "cell_type": "markdown",
   "metadata": {},
   "source": [
    "![](graphs\\3_1.jpg) "
   ]
  },
  {
   "cell_type": "code",
   "execution_count": 40,
   "metadata": {},
   "outputs": [
    {
     "name": "stdout",
     "output_type": "stream",
     "text": [
      "[1 2 3]\n"
     ]
    }
   ],
   "source": [
    "print(n[:3])"
   ]
  },
  {
   "cell_type": "code",
   "execution_count": 41,
   "metadata": {},
   "outputs": [
    {
     "name": "stdout",
     "output_type": "stream",
     "text": [
      "[4 5 6]\n"
     ]
    }
   ],
   "source": [
    "print(n[3:6])"
   ]
  },
  {
   "cell_type": "code",
   "execution_count": 42,
   "metadata": {},
   "outputs": [
    {
     "name": "stdout",
     "output_type": "stream",
     "text": [
      "[ 7  8  9 10]\n"
     ]
    }
   ],
   "source": [
    "print(n[6:])"
   ]
  },
  {
   "cell_type": "code",
   "execution_count": 43,
   "metadata": {},
   "outputs": [
    {
     "name": "stdout",
     "output_type": "stream",
     "text": [
      "[ 7  8  9 10]\n"
     ]
    }
   ],
   "source": [
    "print(n[6:10])"
   ]
  },
  {
   "cell_type": "code",
   "execution_count": 44,
   "metadata": {},
   "outputs": [
    {
     "name": "stdout",
     "output_type": "stream",
     "text": [
      "[ 1  2  3  4  5  6  7  8  9 10]\n"
     ]
    }
   ],
   "source": [
    "print(n[:])"
   ]
  },
  {
   "cell_type": "code",
   "execution_count": 45,
   "metadata": {},
   "outputs": [
    {
     "name": "stdout",
     "output_type": "stream",
     "text": [
      "[ 1  2  3  4  5  6  7  8  9 10]\n"
     ]
    }
   ],
   "source": [
    "print(n[::])"
   ]
  },
  {
   "cell_type": "code",
   "execution_count": 46,
   "metadata": {},
   "outputs": [
    {
     "name": "stdout",
     "output_type": "stream",
     "text": [
      "[ 1  2  3  4  5  6  7  8  9 10]\n"
     ]
    }
   ],
   "source": [
    "print(n[:])"
   ]
  },
  {
   "cell_type": "code",
   "execution_count": 47,
   "metadata": {},
   "outputs": [
    {
     "name": "stdout",
     "output_type": "stream",
     "text": [
      "[ 2  4  6  8 10]\n"
     ]
    }
   ],
   "source": [
    "print(n[1::2])"
   ]
  },
  {
   "cell_type": "code",
   "execution_count": 48,
   "metadata": {},
   "outputs": [
    {
     "name": "stdout",
     "output_type": "stream",
     "text": [
      "[2 7]\n"
     ]
    }
   ],
   "source": [
    "print(n[1::5])"
   ]
  },
  {
   "cell_type": "code",
   "execution_count": 49,
   "metadata": {},
   "outputs": [
    {
     "name": "stdout",
     "output_type": "stream",
     "text": [
      "[3 9]\n"
     ]
    }
   ],
   "source": [
    "print(n[2::6])"
   ]
  },
  {
   "cell_type": "code",
   "execution_count": 50,
   "metadata": {},
   "outputs": [
    {
     "name": "stdout",
     "output_type": "stream",
     "text": [
      "[10  9  8  7  6  5  4  3  2  1]\n"
     ]
    }
   ],
   "source": [
    "print(n[::-1])"
   ]
  },
  {
   "cell_type": "code",
   "execution_count": 51,
   "metadata": {},
   "outputs": [
    {
     "name": "stdout",
     "output_type": "stream",
     "text": [
      "[10  9]\n"
     ]
    }
   ],
   "source": [
    "print(n[:-3:-1])"
   ]
  },
  {
   "cell_type": "code",
   "execution_count": 52,
   "metadata": {},
   "outputs": [
    {
     "name": "stdout",
     "output_type": "stream",
     "text": [
      "[8 7]\n"
     ]
    }
   ],
   "source": [
    "print(n[-3:-5:-1])"
   ]
  },
  {
   "cell_type": "code",
   "execution_count": 53,
   "metadata": {},
   "outputs": [
    {
     "name": "stdout",
     "output_type": "stream",
     "text": [
      "[8 7]\n"
     ]
    }
   ],
   "source": [
    "print(n[7:5:-1])"
   ]
  },
  {
   "cell_type": "code",
   "execution_count": 54,
   "metadata": {},
   "outputs": [
    {
     "name": "stdout",
     "output_type": "stream",
     "text": [
      "[6 5 4 3 2 1]\n"
     ]
    }
   ],
   "source": [
    "print(n[-5::-1])"
   ]
  },
  {
   "cell_type": "markdown",
   "metadata": {},
   "source": [
    "#### 二维数组的索引"
   ]
  },
  {
   "cell_type": "markdown",
   "metadata": {},
   "source": [
    "![](graphs\\3_2.jpg) "
   ]
  },
  {
   "cell_type": "code",
   "execution_count": 55,
   "metadata": {},
   "outputs": [
    {
     "name": "stdout",
     "output_type": "stream",
     "text": [
      "[[1 2 3]\n",
      " [4 5 6]\n",
      " [7 8 9]]\n"
     ]
    }
   ],
   "source": [
    "import numpy as np\n",
    "n = np.array([[1,2,3],[4,5,6],[7,8,9]])\n",
    "print(n)"
   ]
  },
  {
   "cell_type": "code",
   "execution_count": 56,
   "metadata": {},
   "outputs": [
    {
     "name": "stdout",
     "output_type": "stream",
     "text": [
      "[1 2 3]\n"
     ]
    }
   ],
   "source": [
    "#输出第0行的元素\n",
    "print(n[0])"
   ]
  },
  {
   "cell_type": "code",
   "execution_count": 57,
   "metadata": {},
   "outputs": [
    {
     "name": "stdout",
     "output_type": "stream",
     "text": [
      "6\n"
     ]
    }
   ],
   "source": [
    "#输出第1行第2列的元素\n",
    "print(n[1,2])"
   ]
  },
  {
   "cell_type": "code",
   "execution_count": 58,
   "metadata": {},
   "outputs": [
    {
     "name": "stdout",
     "output_type": "stream",
     "text": [
      "[7 8 9]\n"
     ]
    }
   ],
   "source": [
    "#输出倒数第1行的元素\n",
    "print(n[-1])"
   ]
  },
  {
   "cell_type": "code",
   "execution_count": 59,
   "metadata": {},
   "outputs": [
    {
     "name": "stdout",
     "output_type": "stream",
     "text": [
      "[1 4 7]\n"
     ]
    }
   ],
   "source": [
    "#输出第0列的元素\n",
    "print(n[:,0])"
   ]
  },
  {
   "cell_type": "code",
   "execution_count": 60,
   "metadata": {},
   "outputs": [
    {
     "name": "stdout",
     "output_type": "stream",
     "text": [
      "将n按行分拆成3个独立数组输出：\n",
      "[1 2 3]\n",
      "[4 5 6]\n",
      "[7 8 9]\n"
     ]
    }
   ],
   "source": [
    "#逐行操作。注意，此时输出是3个独立数组\n",
    "print('将n按行分拆成3个独立数组输出：')\n",
    "for row in n:\n",
    "    print(row)"
   ]
  },
  {
   "cell_type": "markdown",
   "metadata": {},
   "source": [
    "#### 二维数组切片,注意起止区间"
   ]
  },
  {
   "cell_type": "markdown",
   "metadata": {},
   "source": [
    "![](graphs\\3_2.jpg)"
   ]
  },
  {
   "cell_type": "code",
   "execution_count": 90,
   "metadata": {},
   "outputs": [
    {
     "name": "stdout",
     "output_type": "stream",
     "text": [
      "[[1 2 3]\n",
      " [4 5 6]\n",
      " [7 8 9]]\n"
     ]
    }
   ],
   "source": [
    "n = np.array([[1,2,3],[4,5,6],[7,8,9]])\n",
    "print(n)"
   ]
  },
  {
   "cell_type": "markdown",
   "metadata": {},
   "source": [
    "![](graphs\\3_3.jpg)"
   ]
  },
  {
   "cell_type": "code",
   "execution_count": 91,
   "metadata": {},
   "outputs": [
    {
     "name": "stdout",
     "output_type": "stream",
     "text": [
      "[4 5 6]\n"
     ]
    }
   ],
   "source": [
    "n = np.array([[1,2,3],[4,5,6],[7,8,9]])\n",
    "print(n[1,:])"
   ]
  },
  {
   "cell_type": "markdown",
   "metadata": {},
   "source": [
    "![](graphs\\3_4.jpg)"
   ]
  },
  {
   "cell_type": "code",
   "execution_count": 94,
   "metadata": {},
   "outputs": [
    {
     "name": "stdout",
     "output_type": "stream",
     "text": [
      "[2 5 8]\n"
     ]
    }
   ],
   "source": [
    "n = np.array([[1,2,3],[4,5,6],[7,8,9]])\n",
    "print(n[:,1])"
   ]
  },
  {
   "cell_type": "markdown",
   "metadata": {},
   "source": [
    "![](graphs\\3_5.jpg)"
   ]
  },
  {
   "cell_type": "code",
   "execution_count": 95,
   "metadata": {},
   "outputs": [
    {
     "name": "stdout",
     "output_type": "stream",
     "text": [
      "[[2 3]\n",
      " [5 6]\n",
      " [8 9]]\n"
     ]
    }
   ],
   "source": [
    "n = np.array([[1,2,3],[4,5,6],[7,8,9]])\n",
    "print(n[:,1:])"
   ]
  },
  {
   "cell_type": "markdown",
   "metadata": {},
   "source": [
    "![](graphs\\3_6.jpg)"
   ]
  },
  {
   "cell_type": "code",
   "execution_count": 63,
   "metadata": {},
   "outputs": [
    {
     "name": "stdout",
     "output_type": "stream",
     "text": [
      "[[2 3]\n",
      " [5 6]]\n"
     ]
    }
   ],
   "source": [
    "print(n[:2,1:])"
   ]
  },
  {
   "cell_type": "markdown",
   "metadata": {},
   "source": [
    "![](graphs\\3_7.jpg)"
   ]
  },
  {
   "cell_type": "code",
   "execution_count": 64,
   "metadata": {},
   "outputs": [
    {
     "name": "stdout",
     "output_type": "stream",
     "text": [
      "[4 5]\n"
     ]
    }
   ],
   "source": [
    "print(n[1,:2])"
   ]
  },
  {
   "cell_type": "markdown",
   "metadata": {},
   "source": [
    "![](graphs\\3_8.jpg)"
   ]
  },
  {
   "cell_type": "code",
   "execution_count": 65,
   "metadata": {},
   "outputs": [
    {
     "name": "stdout",
     "output_type": "stream",
     "text": [
      "[3 6]\n"
     ]
    }
   ],
   "source": [
    "print(n[:2,2])"
   ]
  },
  {
   "cell_type": "markdown",
   "metadata": {},
   "source": [
    "#### 数组重塑"
   ]
  },
  {
   "cell_type": "code",
   "execution_count": 67,
   "metadata": {},
   "outputs": [
    {
     "name": "stdout",
     "output_type": "stream",
     "text": [
      "[0 1 2 3 4 5]\n"
     ]
    }
   ],
   "source": [
    "import numpy as np\n",
    "n=np.arange(6)\n",
    "print(n)"
   ]
  },
  {
   "cell_type": "code",
   "execution_count": 68,
   "metadata": {},
   "outputs": [
    {
     "name": "stdout",
     "output_type": "stream",
     "text": [
      "[[0 1 2]\n",
      " [3 4 5]]\n"
     ]
    }
   ],
   "source": [
    "#将数组重塑为2行3列的二维数组\n",
    "n1=n.reshape(2,3)\n",
    "print(n1)"
   ]
  },
  {
   "cell_type": "code",
   "execution_count": 69,
   "metadata": {},
   "outputs": [
    {
     "name": "stdout",
     "output_type": "stream",
     "text": [
      "[[0 1 2]\n",
      " [3 4 5]]\n"
     ]
    }
   ],
   "source": [
    "n=np.array([[0,1,2],[3,4,5]])\n",
    "print(n)"
   ]
  },
  {
   "cell_type": "code",
   "execution_count": 70,
   "metadata": {},
   "outputs": [
    {
     "name": "stdout",
     "output_type": "stream",
     "text": [
      "[[0 1]\n",
      " [2 3]\n",
      " [4 5]]\n"
     ]
    }
   ],
   "source": [
    "n2=n.reshape(3,2)\n",
    "print(n2)"
   ]
  },
  {
   "cell_type": "markdown",
   "metadata": {},
   "source": [
    "#### 数组转置"
   ]
  },
  {
   "cell_type": "code",
   "execution_count": 2,
   "metadata": {},
   "outputs": [
    {
     "name": "stdout",
     "output_type": "stream",
     "text": [
      "[[ 0  1  2  3  4  5]\n",
      " [ 6  7  8  9 10 11]\n",
      " [12 13 14 15 16 17]\n",
      " [18 19 20 21 22 23]]\n",
      "\n",
      "[[ 0  6 12 18]\n",
      " [ 1  7 13 19]\n",
      " [ 2  8 14 20]\n",
      " [ 3  9 15 21]\n",
      " [ 4 10 16 22]\n",
      " [ 5 11 17 23]]\n"
     ]
    }
   ],
   "source": [
    "import numpy as np\n",
    "n = np.arange(24).reshape(4,6)    #创建4行6列的二维数组\n",
    "print(n)\n",
    "print()\n",
    "print(n.T)                        #T属性行列转置"
   ]
  },
  {
   "cell_type": "markdown",
   "metadata": {},
   "source": [
    "### 3. 数组的增、删、改、查"
   ]
  },
  {
   "cell_type": "markdown",
   "metadata": {},
   "source": [
    "#### 数组的增加"
   ]
  },
  {
   "cell_type": "code",
   "execution_count": 5,
   "metadata": {},
   "outputs": [
    {
     "name": "stdout",
     "output_type": "stream",
     "text": [
      "[[1 2]\n",
      " [3 4]\n",
      " [5 6]]\n",
      "\n",
      "[[10 20]\n",
      " [30 40]\n",
      " [50 60]]\n"
     ]
    }
   ],
   "source": [
    "import numpy as np\n",
    "#创建二维数组\n",
    "n1=np.array([[1,2],[3,4],[5,6]])\n",
    "n2=np.array([[10,20],[30,40],[50,60]])\n",
    "print(n1)\n",
    "print()\n",
    "print(n2)"
   ]
  },
  {
   "cell_type": "code",
   "execution_count": 7,
   "metadata": {},
   "outputs": [
    {
     "name": "stdout",
     "output_type": "stream",
     "text": [
      "[[ 1  2 10 20]\n",
      " [ 3  4 30 40]\n",
      " [ 5  6 50 60]]\n",
      "\n",
      "[[ 1  2]\n",
      " [ 3  4]\n",
      " [ 5  6]\n",
      " [10 20]\n",
      " [30 40]\n",
      " [50 60]]\n"
     ]
    }
   ],
   "source": [
    "print(np.hstack((n1,n2)))     #水平方向增加数据,stack：叠\n",
    "print() \n",
    "print(np.vstack((n1,n2)))     #垂直方向增加数据"
   ]
  },
  {
   "cell_type": "markdown",
   "metadata": {},
   "source": [
    "#### 数组的删除"
   ]
  },
  {
   "cell_type": "markdown",
   "metadata": {},
   "source": [
    "![](graphs\\3_9.jpg)"
   ]
  },
  {
   "cell_type": "code",
   "execution_count": 1,
   "metadata": {},
   "outputs": [
    {
     "name": "stdout",
     "output_type": "stream",
     "text": [
      "[[1 2]\n",
      " [3 4]\n",
      " [5 6]]\n",
      "删除第3行后的数组： \n",
      " [[1 2]\n",
      " [3 4]]\n",
      "删除第1列后的数组： \n",
      " [[2]\n",
      " [4]\n",
      " [6]]\n",
      "删除第2行和第3行后的数组： \n",
      " [[1 2]]\n"
     ]
    }
   ],
   "source": [
    "import numpy as np\n",
    "#创建二维数组\n",
    "n1=np.array([[1,2],[3,4],[5,6]])\n",
    "print(n1)\n",
    "n2=np.delete(n1,2,axis=0)  #删除第3行\n",
    "n3=np.delete(n1,0,axis=1)  #删除第1列\n",
    "n4=np.delete(n1,(1,2),0)   #删除第2行和第3行\n",
    "print('删除第3行后的数组：','\\n',n2)\n",
    "print('删除第1列后的数组：','\\n',n3)\n",
    "print('删除第2行和第3行后的数组：','\\n',n4)"
   ]
  },
  {
   "cell_type": "markdown",
   "metadata": {},
   "source": [
    "#### 数组的修改"
   ]
  },
  {
   "cell_type": "code",
   "execution_count": 2,
   "metadata": {},
   "outputs": [
    {
     "name": "stdout",
     "output_type": "stream",
     "text": [
      "[[1 2]\n",
      " [3 4]\n",
      " [5 6]]\n",
      "修改后的数组： \n",
      " [[ 1  2]\n",
      " [30 40]\n",
      " [ 5 88]]\n"
     ]
    }
   ],
   "source": [
    "import numpy as np\n",
    "#创建二维数组\n",
    "n1=np.array([[1,2],[3,4],[5,6]])\n",
    "print(n1)\n",
    "n1[1]=[30,40]  #修改第2行数组[3,4]为[30,40]\n",
    "n1[2][1]=88    #修改第3行第3个元素6为88\n",
    "print('修改后的数组：','\\n',n1)"
   ]
  },
  {
   "cell_type": "markdown",
   "metadata": {},
   "source": [
    "#### 数组的查询"
   ]
  },
  {
   "cell_type": "markdown",
   "metadata": {},
   "source": [
    "通过where函数查询符合条件的数组或数组元素"
   ]
  },
  {
   "cell_type": "code",
   "execution_count": 4,
   "metadata": {},
   "outputs": [
    {
     "name": "stdout",
     "output_type": "stream",
     "text": [
      "[0 1 2 3 4 5 6 7 8 9]\n",
      "[0 0 0 0 0 0 1 1 1 1]\n",
      "[6 7 8 9]\n"
     ]
    }
   ],
   "source": [
    "import numpy as np\n",
    "n1 = np.arange(10)  #创建一个一维数组\n",
    "print(n1)\n",
    "print(np.where(n1>5,1,0))  #大于5输出1,不大于5输出0\n",
    "n2=n1[np.where(n1>5)]\n",
    "print(n2)"
   ]
  },
  {
   "cell_type": "markdown",
   "metadata": {},
   "source": [
    "### 4. 矩阵运算"
   ]
  },
  {
   "cell_type": "markdown",
   "metadata": {},
   "source": [
    "#### 创建矩阵"
   ]
  },
  {
   "cell_type": "markdown",
   "metadata": {},
   "source": [
    "NumPy函数库中存在两种不同的函数类型（矩阵matrix和数组array）,它们都可以用于处理行列表示的数组元素，  \n",
    "但是它们在执行相同的数学运算时，可能得到不同的结果。"
   ]
  },
  {
   "cell_type": "markdown",
   "metadata": {},
   "source": [
    "#### 4.1 创建简单的矩阵"
   ]
  },
  {
   "cell_type": "code",
   "execution_count": 5,
   "metadata": {},
   "outputs": [],
   "source": [
    "import numpy as np"
   ]
  },
  {
   "cell_type": "code",
   "execution_count": 6,
   "metadata": {},
   "outputs": [
    {
     "name": "stdout",
     "output_type": "stream",
     "text": [
      "[[5 6]\n",
      " [7 8]]\n",
      "<class 'numpy.matrix'>\n"
     ]
    }
   ],
   "source": [
    "a = np.mat('5 6;7 8')\n",
    "print(a)\n",
    "print(type(a))"
   ]
  },
  {
   "cell_type": "code",
   "execution_count": 7,
   "metadata": {},
   "outputs": [
    {
     "name": "stdout",
     "output_type": "stream",
     "text": [
      "[[1 2]\n",
      " [3 4]]\n",
      "<class 'numpy.matrix'>\n"
     ]
    }
   ],
   "source": [
    "b = np.mat([[1,2],[3,4]])\n",
    "print(b)\n",
    "print(type(b))"
   ]
  },
  {
   "cell_type": "code",
   "execution_count": 8,
   "metadata": {},
   "outputs": [
    {
     "name": "stdout",
     "output_type": "stream",
     "text": [
      "[[1 2]\n",
      " [3 4]]\n",
      "<class 'numpy.ndarray'>\n"
     ]
    }
   ],
   "source": [
    "n1 = np.array([[1,2],[3,4]])\n",
    "print(n1)\n",
    "print(type(n1))"
   ]
  },
  {
   "cell_type": "markdown",
   "metadata": {},
   "source": [
    "#### 4.2 使用mat函数创建常见的矩阵"
   ]
  },
  {
   "cell_type": "code",
   "execution_count": 9,
   "metadata": {},
   "outputs": [
    {
     "name": "stdout",
     "output_type": "stream",
     "text": [
      "[[0. 0. 0.]\n",
      " [0. 0. 0.]\n",
      " [0. 0. 0.]]\n"
     ]
    }
   ],
   "source": [
    "#创建一个3*3的零矩阵\n",
    "data1 = np.mat(np.zeros((3,3)))\n",
    "print(data1)"
   ]
  },
  {
   "cell_type": "code",
   "execution_count": 10,
   "metadata": {},
   "outputs": [
    {
     "name": "stdout",
     "output_type": "stream",
     "text": [
      "[[1. 1. 1. 1.]\n",
      " [1. 1. 1. 1.]]\n"
     ]
    }
   ],
   "source": [
    "#创建一个2*4的1矩阵\n",
    "data2 = np.mat(np.ones((2,4)))\n",
    "print(data2)"
   ]
  },
  {
   "cell_type": "code",
   "execution_count": 11,
   "metadata": {},
   "outputs": [
    {
     "name": "stdout",
     "output_type": "stream",
     "text": [
      "[[0.48297408 0.12973357 0.10108395]\n",
      " [0.70998412 0.51601885 0.62800468]\n",
      " [0.75103104 0.78084335 0.57520127]]\n"
     ]
    }
   ],
   "source": [
    "# 使用random模块的rand函数创建一个3*3在0-1之间随机产生的二维数组，并将其转换为矩阵\n",
    "data3 = np.mat(np.random.rand(3,3))\n",
    "print(data3)"
   ]
  },
  {
   "cell_type": "code",
   "execution_count": 12,
   "metadata": {},
   "outputs": [
    {
     "name": "stdout",
     "output_type": "stream",
     "text": [
      "[[7 4 6 7 4]\n",
      " [3 1 1 5 2]\n",
      " [6 2 5 5 3]]\n"
     ]
    }
   ],
   "source": [
    "#创建一个1-8之间的随机整数矩阵\n",
    "data4 = np.mat(np.random.randint(1,8,size=(3,5)))\n",
    "print(data4)"
   ]
  },
  {
   "cell_type": "code",
   "execution_count": 13,
   "metadata": {},
   "outputs": [
    {
     "name": "stdout",
     "output_type": "stream",
     "text": [
      "[[1 0 0 0]\n",
      " [0 1 0 0]\n",
      " [0 0 1 0]\n",
      " [0 0 0 1]]\n"
     ]
    }
   ],
   "source": [
    "#创建单位矩阵\n",
    "data5 = np.mat(np.eye(4,4,dtype=int))\n",
    "print(data5)"
   ]
  },
  {
   "cell_type": "code",
   "execution_count": 14,
   "metadata": {},
   "outputs": [
    {
     "name": "stdout",
     "output_type": "stream",
     "text": [
      "[[1 0 0]\n",
      " [0 2 0]\n",
      " [0 0 3]]\n"
     ]
    }
   ],
   "source": [
    "#创建对角线矩阵,diagonal对角线\n",
    "data6 = np.mat(np.diag([1,2,3]))\n",
    "print(data6)"
   ]
  },
  {
   "cell_type": "markdown",
   "metadata": {},
   "source": [
    "#### 矩阵的运算"
   ]
  },
  {
   "cell_type": "code",
   "execution_count": 15,
   "metadata": {},
   "outputs": [
    {
     "name": "stdout",
     "output_type": "stream",
     "text": [
      "[[2 4]\n",
      " [4 6]\n",
      " [6 8]]\n"
     ]
    }
   ],
   "source": [
    "n1 = np.array([[1,2],[3,4],[5,6]])\n",
    "n2 = np.array([1,2])\n",
    "print(n1 + n2)"
   ]
  },
  {
   "cell_type": "code",
   "execution_count": 16,
   "metadata": {},
   "outputs": [
    {
     "name": "stdout",
     "output_type": "stream",
     "text": [
      "[[2 4]\n",
      " [4 6]\n",
      " [6 8]]\n"
     ]
    }
   ],
   "source": [
    "n1 = np.array([[1,2],[3,4],[5,6]])\n",
    "n2 = np.array([[1,2],[1,2],[1,2]])\n",
    "print(n1 + n2)"
   ]
  },
  {
   "cell_type": "code",
   "execution_count": 17,
   "metadata": {},
   "outputs": [
    {
     "name": "stdout",
     "output_type": "stream",
     "text": [
      "[[0 0]\n",
      " [2 2]\n",
      " [4 4]]\n",
      "[[1. 1.]\n",
      " [3. 2.]\n",
      " [5. 3.]]\n"
     ]
    }
   ],
   "source": [
    "#创建矩阵\n",
    "data1= np.mat([[1, 2], [3, 4],[5,6]])\n",
    "data2=np.mat([1,2])\n",
    "print(data1-data2)    #矩阵减法法运算\n",
    "print(data1/data2)    #矩阵除法运算"
   ]
  },
  {
   "cell_type": "code",
   "execution_count": 86,
   "metadata": {},
   "outputs": [
    {
     "name": "stdout",
     "output_type": "stream",
     "text": [
      "[[ 1  4]\n",
      " [ 3  8]\n",
      " [ 5 12]]\n"
     ]
    }
   ],
   "source": [
    "n1 = np.array([[1,2],[3,4],[5,6]])\n",
    "n2 = np.array([1,2])\n",
    "print(n1 * n2)"
   ]
  },
  {
   "cell_type": "code",
   "execution_count": 87,
   "metadata": {},
   "outputs": [
    {
     "ename": "ValueError",
     "evalue": "shapes (3,2) and (1,2) not aligned: 2 (dim 1) != 1 (dim 0)",
     "output_type": "error",
     "traceback": [
      "\u001b[1;31m---------------------------------------------------------------------------\u001b[0m",
      "\u001b[1;31mValueError\u001b[0m                                Traceback (most recent call last)",
      "\u001b[1;32m<ipython-input-87-659bfef64d72>\u001b[0m in \u001b[0;36m<module>\u001b[1;34m()\u001b[0m\n\u001b[0;32m      1\u001b[0m \u001b[0mdata1\u001b[0m \u001b[1;33m=\u001b[0m \u001b[0mnp\u001b[0m\u001b[1;33m.\u001b[0m\u001b[0mmat\u001b[0m\u001b[1;33m(\u001b[0m\u001b[1;33m[\u001b[0m\u001b[1;33m[\u001b[0m\u001b[1;36m1\u001b[0m\u001b[1;33m,\u001b[0m\u001b[1;36m2\u001b[0m\u001b[1;33m]\u001b[0m\u001b[1;33m,\u001b[0m\u001b[1;33m[\u001b[0m\u001b[1;36m3\u001b[0m\u001b[1;33m,\u001b[0m\u001b[1;36m4\u001b[0m\u001b[1;33m]\u001b[0m\u001b[1;33m,\u001b[0m\u001b[1;33m[\u001b[0m\u001b[1;36m5\u001b[0m\u001b[1;33m,\u001b[0m\u001b[1;36m6\u001b[0m\u001b[1;33m]\u001b[0m\u001b[1;33m]\u001b[0m\u001b[1;33m)\u001b[0m\u001b[1;33m\u001b[0m\u001b[0m\n\u001b[0;32m      2\u001b[0m \u001b[0mdata2\u001b[0m \u001b[1;33m=\u001b[0m \u001b[0mnp\u001b[0m\u001b[1;33m.\u001b[0m\u001b[0mmat\u001b[0m\u001b[1;33m(\u001b[0m\u001b[1;33m[\u001b[0m\u001b[1;36m1\u001b[0m\u001b[1;33m,\u001b[0m\u001b[1;36m2\u001b[0m\u001b[1;33m]\u001b[0m\u001b[1;33m)\u001b[0m\u001b[1;33m\u001b[0m\u001b[0m\n\u001b[1;32m----> 3\u001b[1;33m \u001b[0mprint\u001b[0m\u001b[1;33m(\u001b[0m\u001b[0mdata1\u001b[0m \u001b[1;33m*\u001b[0m \u001b[0mdata2\u001b[0m\u001b[1;33m)\u001b[0m\u001b[1;33m\u001b[0m\u001b[0m\n\u001b[0m",
      "\u001b[1;32mC:\\Anaconda3\\lib\\site-packages\\numpy\\matrixlib\\defmatrix.py\u001b[0m in \u001b[0;36m__mul__\u001b[1;34m(self, other)\u001b[0m\n\u001b[0;32m    216\u001b[0m         \u001b[1;32mif\u001b[0m \u001b[0misinstance\u001b[0m\u001b[1;33m(\u001b[0m\u001b[0mother\u001b[0m\u001b[1;33m,\u001b[0m \u001b[1;33m(\u001b[0m\u001b[0mN\u001b[0m\u001b[1;33m.\u001b[0m\u001b[0mndarray\u001b[0m\u001b[1;33m,\u001b[0m \u001b[0mlist\u001b[0m\u001b[1;33m,\u001b[0m \u001b[0mtuple\u001b[0m\u001b[1;33m)\u001b[0m\u001b[1;33m)\u001b[0m \u001b[1;33m:\u001b[0m\u001b[1;33m\u001b[0m\u001b[0m\n\u001b[0;32m    217\u001b[0m             \u001b[1;31m# This promotes 1-D vectors to row vectors\u001b[0m\u001b[1;33m\u001b[0m\u001b[1;33m\u001b[0m\u001b[0m\n\u001b[1;32m--> 218\u001b[1;33m             \u001b[1;32mreturn\u001b[0m \u001b[0mN\u001b[0m\u001b[1;33m.\u001b[0m\u001b[0mdot\u001b[0m\u001b[1;33m(\u001b[0m\u001b[0mself\u001b[0m\u001b[1;33m,\u001b[0m \u001b[0masmatrix\u001b[0m\u001b[1;33m(\u001b[0m\u001b[0mother\u001b[0m\u001b[1;33m)\u001b[0m\u001b[1;33m)\u001b[0m\u001b[1;33m\u001b[0m\u001b[0m\n\u001b[0m\u001b[0;32m    219\u001b[0m         \u001b[1;32mif\u001b[0m \u001b[0misscalar\u001b[0m\u001b[1;33m(\u001b[0m\u001b[0mother\u001b[0m\u001b[1;33m)\u001b[0m \u001b[1;32mor\u001b[0m \u001b[1;32mnot\u001b[0m \u001b[0mhasattr\u001b[0m\u001b[1;33m(\u001b[0m\u001b[0mother\u001b[0m\u001b[1;33m,\u001b[0m \u001b[1;34m'__rmul__'\u001b[0m\u001b[1;33m)\u001b[0m \u001b[1;33m:\u001b[0m\u001b[1;33m\u001b[0m\u001b[0m\n\u001b[0;32m    220\u001b[0m             \u001b[1;32mreturn\u001b[0m \u001b[0mN\u001b[0m\u001b[1;33m.\u001b[0m\u001b[0mdot\u001b[0m\u001b[1;33m(\u001b[0m\u001b[0mself\u001b[0m\u001b[1;33m,\u001b[0m \u001b[0mother\u001b[0m\u001b[1;33m)\u001b[0m\u001b[1;33m\u001b[0m\u001b[0m\n",
      "\u001b[1;32m<__array_function__ internals>\u001b[0m in \u001b[0;36mdot\u001b[1;34m(*args, **kwargs)\u001b[0m\n",
      "\u001b[1;31mValueError\u001b[0m: shapes (3,2) and (1,2) not aligned: 2 (dim 1) != 1 (dim 0)"
     ]
    }
   ],
   "source": [
    "data1 = np.mat([[1,2],[3,4],[5,6]])\n",
    "data2 = np.mat([1,2])\n",
    "print(data1 * data2) "
   ]
  },
  {
   "cell_type": "code",
   "execution_count": 22,
   "metadata": {},
   "outputs": [
    {
     "name": "stdout",
     "output_type": "stream",
     "text": [
      "[[1 2]\n",
      " [3 4]\n",
      " [5 6]]\n",
      "[[1 2]\n",
      " [3 4]]\n",
      "[[ 7 10]\n",
      " [15 22]\n",
      " [23 34]]\n"
     ]
    }
   ],
   "source": [
    "#矩阵的乘法要满足行列要求\n",
    "data1 = np.mat([[1,2],[3,4],[5,6]])\n",
    "data2 = np.mat([[1,2],[3,4]])\n",
    "print(data1)\n",
    "print(data2)\n",
    "print(data1 * data2) "
   ]
  },
  {
   "cell_type": "code",
   "execution_count": 24,
   "metadata": {},
   "outputs": [
    {
     "name": "stdout",
     "output_type": "stream",
     "text": [
      "[1 2 3]\n",
      "\n",
      "[[1 2 3]\n",
      " [1 2 3]\n",
      " [1 2 3]]\n",
      "\n",
      "数组相乘结果为： \n",
      " [[1 4 9]\n",
      " [1 4 9]\n",
      " [1 4 9]]\n",
      "数组点乘结果为： \n",
      " [ 6 12 18]\n"
     ]
    }
   ],
   "source": [
    "#数组相乘与数组点乘\n",
    "n1 = np.array([1, 2, 3])\n",
    "n2= np.array([[1, 2, 3], [1, 2, 3], [1, 2, 3]])\n",
    "print(n1)\n",
    "print()\n",
    "print(n2)\n",
    "print()\n",
    "print('数组相乘结果为：','\\n', n1*n2) #数组相乘\n",
    "print('数组点乘结果为：','\\n', np.dot(n1, n2)) #数组点乘"
   ]
  },
  {
   "cell_type": "markdown",
   "metadata": {},
   "source": [
    "矩阵元素的相乘"
   ]
  },
  {
   "cell_type": "code",
   "execution_count": 26,
   "metadata": {},
   "outputs": [
    {
     "name": "stdout",
     "output_type": "stream",
     "text": [
      "[[ 1  3  3]\n",
      " [ 4  5  6]\n",
      " [ 7 12  9]]\n",
      "\n",
      "[[ 2  6  6]\n",
      " [ 8 10 12]\n",
      " [14 24 18]]\n",
      "\n",
      "矩阵相乘结果为：\n",
      " [[ 68 108  96]\n",
      " [132 218 192]\n",
      " [236 378 348]]\n",
      "矩阵对应元素相乘结果为：\n",
      " [[  2  18  18]\n",
      " [ 32  50  72]\n",
      " [ 98 288 162]]\n"
     ]
    }
   ],
   "source": [
    "import numpy as np\n",
    "n1 = np.mat('1 3 3;4 5 6;7 12 9') # #创建矩阵，使用分号隔开数据\n",
    "n2 = np.mat('2 6 6;8 10 12;14 24 18')\n",
    "print(n1)\n",
    "print()\n",
    "print(n2)\n",
    "print()\n",
    "print('矩阵相乘结果为：\\n',n1*n2)  #矩阵相乘\n",
    "print('矩阵对应元素相乘结果为：\\n',np.multiply(n1,n2))"
   ]
  },
  {
   "cell_type": "code",
   "execution_count": 27,
   "metadata": {},
   "outputs": [
    {
     "name": "stdout",
     "output_type": "stream",
     "text": [
      "n1=\n",
      " [[1 2]\n",
      " [3 4]\n",
      " [5 6]]\n",
      "n1.T=\n",
      " [[1 3 5]\n",
      " [2 4 6]]\n"
     ]
    }
   ],
   "source": [
    "#矩阵的转置\n",
    "n1 = np.mat([[1,2],[3,4],[5,6]])\n",
    "print('n1=\\n',n1)\n",
    "print('n1.T=\\n',n1.T)"
   ]
  },
  {
   "cell_type": "markdown",
   "metadata": {},
   "source": [
    "矩阵求逆"
   ]
  },
  {
   "cell_type": "code",
   "execution_count": 28,
   "metadata": {},
   "outputs": [
    {
     "name": "stdout",
     "output_type": "stream",
     "text": [
      "矩阵的逆矩阵结果为：\n",
      " [[-0.9         0.3         0.1       ]\n",
      " [ 0.2        -0.4         0.2       ]\n",
      " [ 0.43333333  0.3        -0.23333333]]\n"
     ]
    }
   ],
   "source": [
    "import numpy as np\n",
    "n1 = np.mat('1 3 3;4 5 6;7 12 9') # #创建矩阵，使用分号隔开数据\n",
    "print('矩阵的逆矩阵结果为：\\n',n1.I)  #逆矩阵"
   ]
  },
  {
   "cell_type": "markdown",
   "metadata": {},
   "source": [
    "### 5. NumPy常用统计分析函数"
   ]
  },
  {
   "cell_type": "markdown",
   "metadata": {},
   "source": [
    "![](pictures\\3_9.jpg)"
   ]
  },
  {
   "cell_type": "markdown",
   "metadata": {},
   "source": [
    "#### 求和函数sum"
   ]
  },
  {
   "cell_type": "code",
   "execution_count": 31,
   "metadata": {},
   "outputs": [
    {
     "name": "stdout",
     "output_type": "stream",
     "text": [
      "[[1 2 3]\n",
      " [4 5 6]\n",
      " [7 8 9]]\n",
      "对数组元素求和：\n",
      "45\n",
      "对数组元素按列求和：\n",
      "[12 15 18]\n",
      "对数组元素按行求和：\n",
      "[ 6 15 24]\n"
     ]
    }
   ],
   "source": [
    "import numpy as np\n",
    "n=np.array([[1,2,3],[4,5,6],[7,8,9]])\n",
    "print(n)\n",
    "print('对数组元素求和：')\n",
    "print(n.sum())\n",
    "print('对数组元素按列求和：')\n",
    "print(n.sum(axis=0))\n",
    "print('对数组元素按行求和：')\n",
    "print(n.sum(axis=1))"
   ]
  },
  {
   "cell_type": "markdown",
   "metadata": {},
   "source": [
    "求平均值"
   ]
  },
  {
   "cell_type": "code",
   "execution_count": 32,
   "metadata": {},
   "outputs": [
    {
     "name": "stdout",
     "output_type": "stream",
     "text": [
      "[[1 2 3]\n",
      " [4 5 6]\n",
      " [7 8 9]]\n",
      "对数组元素求平均值：\n",
      "5.0\n",
      "对数组元素按行求平均值：\n",
      "[4. 5. 6.]\n",
      "对数组元素按列求平均值：\n",
      "[2. 5. 8.]\n"
     ]
    }
   ],
   "source": [
    "import numpy as np\n",
    "n=np.array([[1,2,3],[4,5,6],[7,8,9]])\n",
    "print(n)\n",
    "print('对数组元素求平均值：')\n",
    "print(n.mean())\n",
    "print('对数组元素按列求平均值：')\n",
    "print(n.mean(axis=0))\n",
    "print('对数组元素按行求平均值：')\n",
    "print(n.mean(axis=1))"
   ]
  },
  {
   "cell_type": "markdown",
   "metadata": {},
   "source": [
    "求最大值和最小值"
   ]
  },
  {
   "cell_type": "code",
   "execution_count": 34,
   "metadata": {},
   "outputs": [
    {
     "name": "stdout",
     "output_type": "stream",
     "text": [
      "[[1 2 3]\n",
      " [4 5 6]\n",
      " [7 8 9]]\n",
      "数组元素最大值：\n",
      "9\n",
      "数组中每一列的最大值：\n",
      "[7 8 9]\n",
      "数组中每一行的最大值：\n",
      "[3 6 9]\n",
      "数组元素最小值：\n",
      "1\n",
      "数组中每一列的最小值：\n",
      "[1 2 3]\n",
      "数组中每一行的最小值：\n",
      "[1 4 7]\n"
     ]
    }
   ],
   "source": [
    "import numpy as np\n",
    "n=np.array([[1,2,3],[4,5,6],[7,8,9]])\n",
    "print(n)\n",
    "print('数组元素最大值：')\n",
    "print(n.max())\n",
    "print('数组中每一列的最大值：')\n",
    "print(n.max(axis=0))\n",
    "print('数组中每一行的最大值：')\n",
    "print(n.max(axis=1))\n",
    "print('数组元素最小值：')\n",
    "print(n.min())\n",
    "print('数组中每一列的最小值：')\n",
    "print(n.min(axis=0))\n",
    "print('数组中每一行的最小值：')\n",
    "print(n.min(axis=1))"
   ]
  },
  {
   "cell_type": "markdown",
   "metadata": {},
   "source": [
    "加权平均"
   ]
  },
  {
   "cell_type": "code",
   "execution_count": 36,
   "metadata": {},
   "outputs": [
    {
     "name": "stdout",
     "output_type": "stream",
     "text": [
      "[34.5 36.  37.8 39.  39.8 33.6]\n",
      "[ 900  580  230  150  120 1800]\n",
      "加权平均价：\n",
      "34.84920634920635\n"
     ]
    }
   ],
   "source": [
    "import numpy as np\n",
    "price=np.array([34.5,36,37.8,39,39.8,33.6])  #创建“单价”数组\n",
    "print(price)\n",
    "number=np.array([900,580,230,150,120,1800])  #创建“销售数量”数组\n",
    "print(number)\n",
    "print('加权平均价：')\n",
    "print(np.average(price,weights=number))"
   ]
  },
  {
   "cell_type": "markdown",
   "metadata": {},
   "source": [
    "求中位数"
   ]
  },
  {
   "cell_type": "code",
   "execution_count": 38,
   "metadata": {},
   "outputs": [
    {
     "name": "stdout",
     "output_type": "stream",
     "text": [
      "数组排序：\n",
      "[33.6 34.5 36.  37.8 39.  39.8]\n",
      "数组中位数为：\n",
      "36.9\n"
     ]
    }
   ],
   "source": [
    "import numpy as np\n",
    "n=np.array([34.5,36,37.8,39,39.8,33.6])  #创建“单价”数组\n",
    "# 数组排序后，查找中位数\n",
    "sort_n = np.msort(n)#merge sort\n",
    "print('数组排序：')\n",
    "print(sort_n)\n",
    "print('数组中位数为：')\n",
    "print(np.median(sort_n))"
   ]
  },
  {
   "cell_type": "markdown",
   "metadata": {},
   "source": [
    "求方差和标准差"
   ]
  },
  {
   "cell_type": "code",
   "execution_count": 40,
   "metadata": {},
   "outputs": [
    {
     "name": "stdout",
     "output_type": "stream",
     "text": [
      "[34.5 36.  37.8 39.  39.8 33.6]\n",
      "数组方差：\n",
      "5.168055555555551\n",
      "数组标准差：\n",
      "2.2733357771247853\n"
     ]
    }
   ],
   "source": [
    "import numpy as np\n",
    "n=np.array([34.5,36,37.8,39,39.8,33.6])  #创建“单价”数组\n",
    "print(n)\n",
    "print('数组方差：')\n",
    "print(np.var(n))\n",
    "print('数组标准差：')\n",
    "print(np.std(n))"
   ]
  },
  {
   "cell_type": "markdown",
   "metadata": {},
   "source": [
    "数组排序"
   ]
  },
  {
   "cell_type": "code",
   "execution_count": 44,
   "metadata": {},
   "outputs": [
    {
     "name": "stdout",
     "output_type": "stream",
     "text": [
      "[[4 7 3]\n",
      " [2 8 5]\n",
      " [9 1 6]]\n",
      "按列排序：\n",
      "[[2 1 3]\n",
      " [4 7 5]\n",
      " [9 8 6]]\n",
      "按行排序：\n",
      "[[3 4 7]\n",
      " [2 5 8]\n",
      " [1 6 9]]\n"
     ]
    }
   ],
   "source": [
    "import numpy as np\n",
    "n=np.array([[4,7,3],[2,8,5],[9,1,6]])\n",
    "print(n)\n",
    "print('按列排序：')\n",
    "print(np.sort(n,axis=0))\n",
    "print('按行排序：')\n",
    "print(np.sort(n,axis=1))"
   ]
  },
  {
   "cell_type": "code",
   "execution_count": 41,
   "metadata": {},
   "outputs": [
    {
     "name": "stdout",
     "output_type": "stream",
     "text": [
      "[4 7 3 2 8 5 1 9 6]\n",
      "升序排序后的索引值：\n",
      "[6 3 2 0 5 8 1 4 7]\n",
      "排序后的顺序重构原数组：\n",
      "[1 2 3 4 5 6 7 8 9]\n"
     ]
    }
   ],
   "source": [
    "import numpy as np\n",
    "x=np.array([4,7,3,2,8,5,1,9,6])\n",
    "print(x)\n",
    "print('升序排序后的索引值：')\n",
    "y = np.argsort(x)\n",
    "print(y)\n",
    "print('排序后的顺序重构原数组：')\n",
    "print(x[y])"
   ]
  },
  {
   "cell_type": "markdown",
   "metadata": {},
   "source": [
    "### 6. 综合应用"
   ]
  },
  {
   "cell_type": "code",
   "execution_count": null,
   "metadata": {},
   "outputs": [],
   "source": [
    "import numpy as np\n",
    "\n",
    "#定义一维数组 a,由10个1-100之间随机数构成，请注意起始值和终值。\n",
    "a = np.random.randint(1,101,10)\n",
    "#定义一维数组 b,由1，2，……10构成\n",
    "b = np.arange(1,11)\n",
    "#定义一维数组 c,由10个符合N（0，1）正态分布的随机数构成\n",
    "c = np.random.randn(10)\n",
    "#定义一维数组 d,由10个符合N（1，4）分布的随机数构成\n",
    "d = np.random.randn(10)*2+1\n",
    "print('原始数据:', a)  \n",
    "print('原始数据:', b) \n",
    "print('原始数据:', c)\n",
    "print('原始数据:', d)  \n",
    "  \n",
    "#输出最大、最小值及结构\n",
    "#此处结构是指维度、行列信息\n",
    "print('最小值:', a.min())  \n",
    "print('最大值:', a.max())  \n",
    "print('结构', a.shape)  \n",
    "  \n",
    "#数据切片  \n",
    "print('切片操作:')  \n",
    "print(a[:-2])  \n",
    "print(a[-2:])  \n",
    "print(a[:1])  \n",
    "  \n",
    "#排序  \n",
    "print(type(a))  \n",
    "a.sort()  \n",
    "print('排序后:', a)"
   ]
  },
  {
   "cell_type": "code",
   "execution_count": 1,
   "metadata": {},
   "outputs": [
    {
     "name": "stdout",
     "output_type": "stream",
     "text": [
      "e: [[0. 0. 0.]\n",
      " [0. 0. 0.]]\n",
      "f: [[1. 1.]\n",
      " [1. 1.]\n",
      " [1. 1.]]\n",
      "h结构: (3, 4)\n",
      "获取值: 4\n",
      "获取某行: [4 5 6 7]\n",
      "获取某行并切片: [1 2 3]\n",
      "获取某行并切片: [4]\n",
      "获取第3列:\n",
      "[[3]\n",
      " [6]\n",
      " [9]]\n",
      "i: [[3 3 8]\n",
      " [2 3 7]]\n",
      "0.49999999999999994\n",
      "<class 'numpy.float64'>\n",
      "[0 1 2 3]\n",
      "<class 'numpy.ndarray'>\n"
     ]
    }
   ],
   "source": [
    "import numpy as np  \n",
    "\n",
    "#2行3列二维数组，用0填充\n",
    "e = np.zeros([2,3])\n",
    "#3行2列二维数组，用1填充\n",
    "f = np.ones([3,2])\n",
    "print('e:',e)\n",
    "print('f:',f)\n",
    "\n",
    "#手工输入3行4列二维数组h\n",
    "h = np.array([[1, 2, 3, 4],[4, 5, 6, 7], [7, 8, 9, 10]])\n",
    "#获取值  \n",
    "print('h结构:', h.shape)  \n",
    "print('获取值:', h[1][0])  \n",
    "print('获取某行:',h[1][:])  \n",
    "print('获取某行并切片:',h[0][:-1])\n",
    "print('获取某行并切片:',h[0][-1:])  \n",
    "#获取具体某列值  \n",
    "print('获取第3列:')  \n",
    "print(h[:,np.newaxis, 2])  \n",
    "\n",
    "#2行3列二维数组，用1-10之间随机数填充\n",
    "i = np.random.randint(1,10,(2,3))\n",
    "print('i:',i)\n",
    "\n",
    "#调用sin函数  \n",
    "print(np.sin(np.pi/6))  \n",
    "print(type(np.sin(0.5))) \n",
    "  \n",
    "#范围定义  \n",
    "print(np.arange(0,4))  \n",
    "print(type(np.arange(0,4)))"
   ]
  },
  {
   "cell_type": "markdown",
   "metadata": {},
   "source": [
    "#### 实现正态分布"
   ]
  },
  {
   "cell_type": "code",
   "execution_count": 3,
   "metadata": {},
   "outputs": [],
   "source": [
    "import numpy as np\n",
    "import matplotlib.pyplot as plt \n",
    "import seaborn as sns "
   ]
  },
  {
   "cell_type": "code",
   "execution_count": 10,
   "metadata": {},
   "outputs": [
    {
     "data": {
      "image/png": "[encoded data removed]",
      "text/plain": [
       "<Figure size 360x360 with 1 Axes>"
      ]
     },
     "metadata": {},
     "output_type": "display_data"
    }
   ],
   "source": [
    "plt.rcParams['axes.unicode_minus']=False\n",
    "sns.set_style('darkgrid')\n",
    "n = np.random.normal(0,0.1,1000)\n",
    "sns.displot(n, kde=True)\n",
    "plt.show() "
   ]
  }
 ],
 "metadata": {
  "kernelspec": {
   "display_name": "Python 3 (ipykernel)",
   "language": "python",
   "name": "python3"
  },
  "language_info": {
   "codemirror_mode": {
    "name": "ipython",
    "version": 3
   },
   "file_extension": ".py",
   "mimetype": "text/x-python",
   "name": "python",
   "nbconvert_exporter": "python",
   "pygments_lexer": "ipython3",
   "version": "3.9.12"
  }
 },
 "nbformat": 4,
 "nbformat_minor": 2
}
