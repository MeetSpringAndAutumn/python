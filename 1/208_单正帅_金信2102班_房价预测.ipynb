{
 "cells": [
  {
   "cell_type": "code",
   "execution_count": 2,
   "metadata": {},
   "outputs": [
    {
     "name": "stdout",
     "output_type": "stream",
     "text": [
      "Root Mean Square Error: 0.2840479849966043\n"
     ]
    }
   ],
   "source": [
    "import numpy as np  \n",
    "import pandas as pd  \n",
    "from sklearn.linear_model import LinearRegression  \n",
    "from sklearn.metrics import mean_squared_error\n",
    "from sklearn.model_selection import train_test_split  \n",
    "from sklearn.preprocessing import StandardScaler  \n",
    "import numpy as np  \n",
    "# 从数据文件加载数据  \n",
    "data = pd.read_csv('USA_Housing.csv')  \n",
    "\n",
    "# print(data.head())\n",
    "X=data[['Avg. Area Income', 'Avg. Area House Age', 'Avg. Area Number of Rooms',\n",
    "       'Avg. Area Number of Bedrooms', 'Area Population',]]\n",
    "y=data['Price']\n",
    " \n",
    "# 将数据集划分为训练集和测试集   \n",
    "X_train, X_test, y_train, y_test = train_test_split(X, y, test_size=0.2, random_state=42)\n",
    "# 数据标准化处理  \n",
    "scaler = StandardScaler()\n",
    "scaler.fit(X_train)\n",
    "X_train = scaler.transform(X_train)\n",
    "X_test = scaler.transform(X_test)\n",
    "\n",
    "# 创建标准化对象\n",
    "y_scaler = StandardScaler()\n",
    "\n",
    "# 对目标（y_train和y_test）进行标准化\n",
    "y_train = y_scaler.fit_transform(y_train.values.reshape(-1, 1))\n",
    "y_test = y_scaler.transform(y_test.values.reshape(-1, 1))\n",
    "# 将训练集和测试集进一步划分为样本和标签  \n",
    "# X_train = train[['Avg. Area Income','Avg. Area House Age','Avg. Area Number of Rooms','Avg. Area Number of Bedrooms','Area Population'\n",
    "# ]]  \n",
    "# y_train = train['Price'] \n",
    "# X_test=test[['Avg. Area Income', 'Avg. Area House Age', 'Avg. Area Number of Rooms',\n",
    "#        'Avg. Area Number of Bedrooms', 'Area Population',]]\n",
    "# y_test=test['Price']\n",
    "# 建立多元线性回归模型  \n",
    "# f=(np.transpose(X_train))\n",
    "model = LinearRegression()  \n",
    "model.fit(X_train, y_train)  \n",
    "  \n",
    "# 模型预测  \n",
    "y_pred = model.predict(X_test)  \n",
    "  \n",
    "# 计算测试误差  \n",
    "rmse = np.sqrt(mean_squared_error(y_test, y_pred))  \n",
    "print('Root Mean Square Error:', rmse)"
   ]
  }
 ],
 "metadata": {
  "kernelspec": {
   "display_name": "base",
   "language": "python",
   "name": "python3"
  },
  "language_info": {
   "codemirror_mode": {
    "name": "ipython",
    "version": 3
   },
   "file_extension": ".py",
   "mimetype": "text/x-python",
   "name": "python",
   "nbconvert_exporter": "python",
   "pygments_lexer": "ipython3",
   "version": "3.9.12"
  },
  "orig_nbformat": 4
 },
 "nbformat": 4,
 "nbformat_minor": 2
}
