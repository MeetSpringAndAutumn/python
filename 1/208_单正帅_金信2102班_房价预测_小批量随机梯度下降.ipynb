{
 "cells": [
  {
   "cell_type": "code",
   "execution_count": 25,
   "metadata": {},
   "outputs": [],
   "source": [
    "import numpy as np\n",
    "import pandas as pd\n",
    "housing = pd.read_csv(\"USA_Housing.csv\")\n",
    "from sklearn.model_selection import train_test_split\n",
    "train, test = train_test_split(housing, test_size=0.2, random_state=42)\n",
    "from sklearn.preprocessing import StandardScaler\n",
    "scaler = StandardScaler()\n",
    "scaler.fit(train) # 只使用训练集的数据计算均值和方差\n",
    "train = scaler.transform(train)\n",
    "test = scaler.transform(test)\n",
    "# print(train.dtype)\n",
    "# 将训练集和测试集进一步划分为样本和标签\n",
    "x_train = train[:,:-1]\n",
    "y_train = train[:,-1:]\n",
    "x_test = test[: , :-1 ]\n",
    "y_test=test[:,-1:]\n",
    "y_train=y_train.reshape(-1,1)\n",
    "y_test=y_test.reshape(-1,1)"
   ]
  },
  {
   "cell_type": "code",
   "execution_count": 26,
   "metadata": {},
   "outputs": [],
   "source": [
    "np.random.seed(10)\n",
    "t=x_train.shape[1]"
   ]
  },
  {
   "cell_type": "code",
   "execution_count": 27,
   "metadata": {},
   "outputs": [],
   "source": [
    "learning_rate=0.0001"
   ]
  },
  {
   "cell_type": "code",
   "execution_count": 28,
   "metadata": {},
   "outputs": [
    {
     "name": "stdout",
     "output_type": "stream",
     "text": [
      "[[ 1.3315865 ]\n",
      " [ 0.71527897]\n",
      " [-1.54540029]\n",
      " [-0.00838385]\n",
      " [ 0.62133597]]\n"
     ]
    }
   ],
   "source": [
    "t = np.random.randn(x_train.shape[1],1) \n",
    "# np.random.randn()函数返回的结果是服从均值为0，方差为1的标准正态分布，而不是局限在0-1之间，也可以为负值\n",
    "print(t)"
   ]
  },
  {
   "cell_type": "code",
   "execution_count": 29,
   "metadata": {},
   "outputs": [],
   "source": [
    "def gradient_descent(X, Y, t, learning_rate, batch_size):\n",
    "    m = len(X)\n",
    "    n_batches= m // batch_size\n",
    "    n_iterables=5000  #训练次数\n",
    "    for epoch in range(n_iterables):\n",
    "        for i in range(n_batches):\n",
    "            start = i * batch_size\n",
    "            end = start + batch_size\n",
    "            batch_X = X[start:end]\n",
    "            batch_Y = Y[start:end]\n",
    "            g = 2/batch_size * batch_X.T.dot(batch_X.dot(t) - batch_Y)\n",
    "            t = t - learning_rate * g\n",
    "    return t\n"
   ]
  },
  {
   "cell_type": "code",
   "execution_count": 30,
   "metadata": {},
   "outputs": [],
   "source": [
    "batch_size = 64  #批量大小，通常为2的幂数，一般取值范围为32~256\n",
    "t = gradient_descent(x_train, y_train, t, learning_rate, batch_size)"
   ]
  },
  {
   "cell_type": "code",
   "execution_count": 31,
   "metadata": {},
   "outputs": [
    {
     "name": "stdout",
     "output_type": "stream",
     "text": [
      "训练误差: 0.08202231705264262\n",
      "测试误差: 0.08069759707888786\n"
     ]
    }
   ],
   "source": [
    "train_prd =np.dot(x_train,t)\n",
    "train_error = np.mean((train_prd - y_train)**2)\n",
    "prd = np.dot(x_test,t)\n",
    "test_error = np.mean((prd - y_test)**2)\n",
    "print(\"训练误差:\", train_error)\n",
    "print(\"测试误差:\", test_error)"
   ]
  }
 ],
 "metadata": {
  "kernelspec": {
   "display_name": "base",
   "language": "python",
   "name": "python3"
  },
  "language_info": {
   "codemirror_mode": {
    "name": "ipython",
    "version": 3
   },
   "file_extension": ".py",
   "mimetype": "text/x-python",
   "name": "python",
   "nbconvert_exporter": "python",
   "pygments_lexer": "ipython3",
   "version": "3.9.12"
  }
 },
 "nbformat": 4,
 "nbformat_minor": 2
}
